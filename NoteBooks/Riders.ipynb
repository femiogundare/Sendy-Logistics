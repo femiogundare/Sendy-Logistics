{
 "cells": [
  {
   "cell_type": "code",
   "execution_count": 26,
   "metadata": {},
   "outputs": [
    {
     "data": {
      "text/plain": [
       "'C:\\\\Users\\\\USER\\\\Desktop\\\\ZINDI DATASETS\\\\Sendy Logistics Challenge\\\\NoteBooks'"
      ]
     },
     "execution_count": 26,
     "metadata": {},
     "output_type": "execute_result"
    }
   ],
   "source": [
    "pwd"
   ]
  },
  {
   "cell_type": "code",
   "execution_count": 27,
   "metadata": {},
   "outputs": [],
   "source": [
    "import numpy as np\n",
    "import pandas as pd\n",
    "from matplotlib import pyplot as plt\n",
    "import seaborn as sns\n",
    "import math\n",
    "from scipy import stats\n",
    "from pygeocoder import Geocoder\n",
    "\n",
    "from datetime import datetime"
   ]
  },
  {
   "cell_type": "code",
   "execution_count": 28,
   "metadata": {},
   "outputs": [],
   "source": [
    "riders = pd.read_csv(\n",
    "    'C:\\\\Users\\\\USER\\\\Desktop\\\\ZINDI DATASETS\\\\Sendy Logistics Challenge\\\\riders.csv'\n",
    ")"
   ]
  },
  {
   "cell_type": "code",
   "execution_count": 29,
   "metadata": {},
   "outputs": [
    {
     "data": {
      "text/html": [
       "<div>\n",
       "<style scoped>\n",
       "    .dataframe tbody tr th:only-of-type {\n",
       "        vertical-align: middle;\n",
       "    }\n",
       "\n",
       "    .dataframe tbody tr th {\n",
       "        vertical-align: top;\n",
       "    }\n",
       "\n",
       "    .dataframe thead th {\n",
       "        text-align: right;\n",
       "    }\n",
       "</style>\n",
       "<table border=\"1\" class=\"dataframe\">\n",
       "  <thead>\n",
       "    <tr style=\"text-align: right;\">\n",
       "      <th></th>\n",
       "      <th>Rider Id</th>\n",
       "      <th>No_Of_Orders</th>\n",
       "      <th>Age</th>\n",
       "      <th>Average_Rating</th>\n",
       "      <th>No_of_Ratings</th>\n",
       "    </tr>\n",
       "  </thead>\n",
       "  <tbody>\n",
       "    <tr>\n",
       "      <th>0</th>\n",
       "      <td>Rider_Id_396</td>\n",
       "      <td>2946</td>\n",
       "      <td>2298</td>\n",
       "      <td>14.0</td>\n",
       "      <td>1159</td>\n",
       "    </tr>\n",
       "    <tr>\n",
       "      <th>1</th>\n",
       "      <td>Rider_Id_479</td>\n",
       "      <td>360</td>\n",
       "      <td>951</td>\n",
       "      <td>13.5</td>\n",
       "      <td>176</td>\n",
       "    </tr>\n",
       "    <tr>\n",
       "      <th>2</th>\n",
       "      <td>Rider_Id_648</td>\n",
       "      <td>1746</td>\n",
       "      <td>821</td>\n",
       "      <td>14.3</td>\n",
       "      <td>466</td>\n",
       "    </tr>\n",
       "  </tbody>\n",
       "</table>\n",
       "</div>"
      ],
      "text/plain": [
       "       Rider Id  No_Of_Orders   Age  Average_Rating  No_of_Ratings\n",
       "0  Rider_Id_396          2946  2298            14.0           1159\n",
       "1  Rider_Id_479           360   951            13.5            176\n",
       "2  Rider_Id_648          1746   821            14.3            466"
      ]
     },
     "execution_count": 29,
     "metadata": {},
     "output_type": "execute_result"
    }
   ],
   "source": [
    "riders.head(3)"
   ]
  },
  {
   "cell_type": "code",
   "execution_count": 30,
   "metadata": {},
   "outputs": [
    {
     "data": {
      "text/plain": [
       "Rider Id          960\n",
       "No_Of_Orders      811\n",
       "Age               725\n",
       "Average_Rating     45\n",
       "No_of_Ratings     553\n",
       "dtype: int64"
      ]
     },
     "execution_count": 30,
     "metadata": {},
     "output_type": "execute_result"
    }
   ],
   "source": [
    "riders.nunique()"
   ]
  },
  {
   "cell_type": "code",
   "execution_count": 31,
   "metadata": {},
   "outputs": [
    {
     "data": {
      "text/plain": [
       "Rider Id          0\n",
       "No_Of_Orders      0\n",
       "Age               0\n",
       "Average_Rating    0\n",
       "No_of_Ratings     0\n",
       "dtype: int64"
      ]
     },
     "execution_count": 31,
     "metadata": {},
     "output_type": "execute_result"
    }
   ],
   "source": [
    "riders.isnull().sum()"
   ]
  },
  {
   "cell_type": "code",
   "execution_count": 32,
   "metadata": {},
   "outputs": [
    {
     "data": {
      "text/plain": [
       "array([14. , 13.5, 14.3, 12.5, 13.7, 13.2, 13.4, 14.1, 14.2, 13.1, 14.4,\n",
       "       13.3, 13.6, 13.9, 13.8, 12.3, 14.5, 12.9, 12.8, 13. , 12.7, 15. ,\n",
       "       14.9,  0. , 14.7, 12.4, 14.6, 12.6, 14.8, 11.2, 11.6, 12. , 11.1,\n",
       "       11.3, 15.2, 10.8,  6. ,  3. ,  9.8,  7.8, 11.8, 15.1,  9. ,  9.6,\n",
       "       10.2])"
      ]
     },
     "execution_count": 32,
     "metadata": {},
     "output_type": "execute_result"
    }
   ],
   "source": [
    "riders['Average_Rating'].unique()"
   ]
  },
  {
   "cell_type": "code",
   "execution_count": 33,
   "metadata": {},
   "outputs": [
    {
     "data": {
      "text/plain": [
       "count    960.000000\n",
       "mean      13.412604\n",
       "std        2.675794\n",
       "min        0.000000\n",
       "25%       13.500000\n",
       "50%       14.000000\n",
       "75%       14.300000\n",
       "max       15.200000\n",
       "Name: Average_Rating, dtype: float64"
      ]
     },
     "execution_count": 33,
     "metadata": {},
     "output_type": "execute_result"
    }
   ],
   "source": [
    "riders['Average_Rating'].describe()"
   ]
  },
  {
   "cell_type": "code",
   "execution_count": 34,
   "metadata": {},
   "outputs": [
    {
     "data": {
      "text/html": [
       "<div>\n",
       "<style scoped>\n",
       "    .dataframe tbody tr th:only-of-type {\n",
       "        vertical-align: middle;\n",
       "    }\n",
       "\n",
       "    .dataframe tbody tr th {\n",
       "        vertical-align: top;\n",
       "    }\n",
       "\n",
       "    .dataframe thead th {\n",
       "        text-align: right;\n",
       "    }\n",
       "</style>\n",
       "<table border=\"1\" class=\"dataframe\">\n",
       "  <thead>\n",
       "    <tr style=\"text-align: right;\">\n",
       "      <th></th>\n",
       "      <th>Rider Id</th>\n",
       "      <th>No_Of_Orders</th>\n",
       "      <th>Age</th>\n",
       "      <th>Average_Rating</th>\n",
       "      <th>No_of_Ratings</th>\n",
       "    </tr>\n",
       "  </thead>\n",
       "  <tbody>\n",
       "    <tr>\n",
       "      <th>573</th>\n",
       "      <td>Rider_Id_315</td>\n",
       "      <td>1963</td>\n",
       "      <td>1091</td>\n",
       "      <td>13.9</td>\n",
       "      <td>576</td>\n",
       "    </tr>\n",
       "    <tr>\n",
       "      <th>558</th>\n",
       "      <td>Rider_Id_199</td>\n",
       "      <td>1683</td>\n",
       "      <td>2300</td>\n",
       "      <td>13.9</td>\n",
       "      <td>300</td>\n",
       "    </tr>\n",
       "    <tr>\n",
       "      <th>153</th>\n",
       "      <td>Rider_Id_482</td>\n",
       "      <td>1415</td>\n",
       "      <td>1516</td>\n",
       "      <td>13.5</td>\n",
       "      <td>519</td>\n",
       "    </tr>\n",
       "  </tbody>\n",
       "</table>\n",
       "</div>"
      ],
      "text/plain": [
       "         Rider Id  No_Of_Orders   Age  Average_Rating  No_of_Ratings\n",
       "573  Rider_Id_315          1963  1091            13.9            576\n",
       "558  Rider_Id_199          1683  2300            13.9            300\n",
       "153  Rider_Id_482          1415  1516            13.5            519"
      ]
     },
     "execution_count": 34,
     "metadata": {},
     "output_type": "execute_result"
    }
   ],
   "source": [
    "riders.sample(3)"
   ]
  },
  {
   "cell_type": "code",
   "execution_count": 35,
   "metadata": {},
   "outputs": [
    {
     "data": {
      "text/plain": [
       "(array([], dtype=int64),)"
      ]
     },
     "execution_count": 35,
     "metadata": {},
     "output_type": "execute_result"
    }
   ],
   "source": [
    "np.where(riders['No_Of_Orders']<riders['No_of_Ratings'])"
   ]
  },
  {
   "cell_type": "code",
   "execution_count": 36,
   "metadata": {},
   "outputs": [],
   "source": [
    "riders['Total_ratings'] = riders['Average_Rating'] * riders['No_of_Ratings']\n",
    "riders['Trips_not_rated'] = riders['No_Of_Orders'] - riders['No_of_Ratings']\n",
    "riders['No_of_riders_to_ratings'] = riders['No_Of_Orders']/riders['No_of_Ratings']"
   ]
  },
  {
   "cell_type": "code",
   "execution_count": 37,
   "metadata": {},
   "outputs": [
    {
     "data": {
      "text/plain": [
       "array([14. , 13.5, 14.3, 12.5, 13.7, 13.2, 13.4, 14.1, 14.2, 13.4, 14.3,\n",
       "       14.3, 13.1, 14.4, 14.1, 13.5, 13.3, 14.1, 13.6, 14.1, 13.9, 14.2,\n",
       "       14.2, 13.4, 14.2, 14.2, 14.2, 13.8, 12.3, 13.9])"
      ]
     },
     "execution_count": 37,
     "metadata": {},
     "output_type": "execute_result"
    }
   ],
   "source": [
    "np.array(riders['Average_Rating'])[:30]"
   ]
  },
  {
   "cell_type": "code",
   "execution_count": 38,
   "metadata": {},
   "outputs": [],
   "source": [
    "riders['Avg_rating_bin'] = np.array(np.floor(np.array(riders['Average_Rating'])))"
   ]
  },
  {
   "cell_type": "code",
   "execution_count": 39,
   "metadata": {},
   "outputs": [
    {
     "data": {
      "text/html": [
       "<div>\n",
       "<style scoped>\n",
       "    .dataframe tbody tr th:only-of-type {\n",
       "        vertical-align: middle;\n",
       "    }\n",
       "\n",
       "    .dataframe tbody tr th {\n",
       "        vertical-align: top;\n",
       "    }\n",
       "\n",
       "    .dataframe thead th {\n",
       "        text-align: right;\n",
       "    }\n",
       "</style>\n",
       "<table border=\"1\" class=\"dataframe\">\n",
       "  <thead>\n",
       "    <tr style=\"text-align: right;\">\n",
       "      <th></th>\n",
       "      <th>Rider Id</th>\n",
       "      <th>No_Of_Orders</th>\n",
       "      <th>Age</th>\n",
       "      <th>Average_Rating</th>\n",
       "      <th>No_of_Ratings</th>\n",
       "      <th>Total_ratings</th>\n",
       "      <th>Trips_not_rated</th>\n",
       "      <th>No_of_riders_to_ratings</th>\n",
       "      <th>Avg_rating_bin</th>\n",
       "    </tr>\n",
       "  </thead>\n",
       "  <tbody>\n",
       "    <tr>\n",
       "      <th>0</th>\n",
       "      <td>Rider_Id_396</td>\n",
       "      <td>2946</td>\n",
       "      <td>2298</td>\n",
       "      <td>14.0</td>\n",
       "      <td>1159</td>\n",
       "      <td>16226.0</td>\n",
       "      <td>1787</td>\n",
       "      <td>2.541846</td>\n",
       "      <td>14.0</td>\n",
       "    </tr>\n",
       "    <tr>\n",
       "      <th>1</th>\n",
       "      <td>Rider_Id_479</td>\n",
       "      <td>360</td>\n",
       "      <td>951</td>\n",
       "      <td>13.5</td>\n",
       "      <td>176</td>\n",
       "      <td>2376.0</td>\n",
       "      <td>184</td>\n",
       "      <td>2.045455</td>\n",
       "      <td>13.0</td>\n",
       "    </tr>\n",
       "    <tr>\n",
       "      <th>2</th>\n",
       "      <td>Rider_Id_648</td>\n",
       "      <td>1746</td>\n",
       "      <td>821</td>\n",
       "      <td>14.3</td>\n",
       "      <td>466</td>\n",
       "      <td>6663.8</td>\n",
       "      <td>1280</td>\n",
       "      <td>3.746781</td>\n",
       "      <td>14.0</td>\n",
       "    </tr>\n",
       "    <tr>\n",
       "      <th>3</th>\n",
       "      <td>Rider_Id_753</td>\n",
       "      <td>314</td>\n",
       "      <td>980</td>\n",
       "      <td>12.5</td>\n",
       "      <td>75</td>\n",
       "      <td>937.5</td>\n",
       "      <td>239</td>\n",
       "      <td>4.186667</td>\n",
       "      <td>12.0</td>\n",
       "    </tr>\n",
       "    <tr>\n",
       "      <th>4</th>\n",
       "      <td>Rider_Id_335</td>\n",
       "      <td>536</td>\n",
       "      <td>1113</td>\n",
       "      <td>13.7</td>\n",
       "      <td>156</td>\n",
       "      <td>2137.2</td>\n",
       "      <td>380</td>\n",
       "      <td>3.435897</td>\n",
       "      <td>13.0</td>\n",
       "    </tr>\n",
       "  </tbody>\n",
       "</table>\n",
       "</div>"
      ],
      "text/plain": [
       "       Rider Id  No_Of_Orders   Age  Average_Rating  No_of_Ratings  \\\n",
       "0  Rider_Id_396          2946  2298            14.0           1159   \n",
       "1  Rider_Id_479           360   951            13.5            176   \n",
       "2  Rider_Id_648          1746   821            14.3            466   \n",
       "3  Rider_Id_753           314   980            12.5             75   \n",
       "4  Rider_Id_335           536  1113            13.7            156   \n",
       "\n",
       "   Total_ratings  Trips_not_rated  No_of_riders_to_ratings  Avg_rating_bin  \n",
       "0        16226.0             1787                 2.541846            14.0  \n",
       "1         2376.0              184                 2.045455            13.0  \n",
       "2         6663.8             1280                 3.746781            14.0  \n",
       "3          937.5              239                 4.186667            12.0  \n",
       "4         2137.2              380                 3.435897            13.0  "
      ]
     },
     "execution_count": 39,
     "metadata": {},
     "output_type": "execute_result"
    }
   ],
   "source": [
    "riders.head()"
   ]
  },
  {
   "cell_type": "code",
   "execution_count": 40,
   "metadata": {},
   "outputs": [
    {
     "name": "stdout",
     "output_type": "stream",
     "text": [
      "0.0\n",
      "15.0\n"
     ]
    }
   ],
   "source": [
    "print(riders['Avg_rating_bin'].min())\n",
    "print(riders['Avg_rating_bin'].max())"
   ]
  },
  {
   "cell_type": "code",
   "execution_count": 41,
   "metadata": {},
   "outputs": [],
   "source": [
    "def cat_ratings(rating):\n",
    "    if rating in range(0, 5):\n",
    "        return 'poor'\n",
    "    elif rating in range(5, 9):\n",
    "        return 'fair'\n",
    "    elif rating in range(9, 13):\n",
    "        return 'good'\n",
    "    elif rating in range(13, 16):\n",
    "        return 'excellent'\n",
    "    \n",
    "riders['Avg_rating_cat'] = riders['Avg_rating_bin'].map(cat_ratings)"
   ]
  },
  {
   "cell_type": "code",
   "execution_count": 42,
   "metadata": {},
   "outputs": [
    {
     "data": {
      "text/plain": [
       "array(['excellent', 'good', 'poor', 'fair'], dtype=object)"
      ]
     },
     "execution_count": 42,
     "metadata": {},
     "output_type": "execute_result"
    }
   ],
   "source": [
    "riders['Avg_rating_cat'].unique()"
   ]
  },
  {
   "cell_type": "code",
   "execution_count": 43,
   "metadata": {},
   "outputs": [],
   "source": [
    "#riders.head(3)"
   ]
  },
  {
   "cell_type": "code",
   "execution_count": 44,
   "metadata": {},
   "outputs": [],
   "source": [
    "riders['Orders_per_day'] = (riders['No_Of_Orders']-1)/riders['Age']"
   ]
  },
  {
   "cell_type": "code",
   "execution_count": 45,
   "metadata": {},
   "outputs": [
    {
     "data": {
      "text/plain": [
       "<matplotlib.axes._subplots.AxesSubplot at 0x2669924a518>"
      ]
     },
     "execution_count": 45,
     "metadata": {},
     "output_type": "execute_result"
    },
    {
     "data": {
      "image/png": "[encoded data removed]",
      "text/plain": [
       "<Figure size 432x288 with 1 Axes>"
      ]
     },
     "metadata": {
      "needs_background": "light"
     },
     "output_type": "display_data"
    }
   ],
   "source": [
    "riders['Orders_per_day'].hist()"
   ]
  },
  {
   "cell_type": "code",
   "execution_count": 46,
   "metadata": {},
   "outputs": [],
   "source": [
    "#riders.head(3)"
   ]
  },
  {
   "cell_type": "code",
   "execution_count": 47,
   "metadata": {},
   "outputs": [],
   "source": [
    "riders.drop(['No_Of_Orders', 'Age'], axis=1, inplace=True)"
   ]
  },
  {
   "cell_type": "code",
   "execution_count": 48,
   "metadata": {},
   "outputs": [
    {
     "data": {
      "text/html": [
       "<div>\n",
       "<style scoped>\n",
       "    .dataframe tbody tr th:only-of-type {\n",
       "        vertical-align: middle;\n",
       "    }\n",
       "\n",
       "    .dataframe tbody tr th {\n",
       "        vertical-align: top;\n",
       "    }\n",
       "\n",
       "    .dataframe thead th {\n",
       "        text-align: right;\n",
       "    }\n",
       "</style>\n",
       "<table border=\"1\" class=\"dataframe\">\n",
       "  <thead>\n",
       "    <tr style=\"text-align: right;\">\n",
       "      <th></th>\n",
       "      <th>Rider Id</th>\n",
       "      <th>Average_Rating</th>\n",
       "      <th>No_of_Ratings</th>\n",
       "      <th>Total_ratings</th>\n",
       "      <th>Trips_not_rated</th>\n",
       "      <th>No_of_riders_to_ratings</th>\n",
       "      <th>Avg_rating_bin</th>\n",
       "      <th>Avg_rating_cat</th>\n",
       "      <th>Orders_per_day</th>\n",
       "    </tr>\n",
       "  </thead>\n",
       "  <tbody>\n",
       "    <tr>\n",
       "      <th>0</th>\n",
       "      <td>Rider_Id_396</td>\n",
       "      <td>14.0</td>\n",
       "      <td>1159</td>\n",
       "      <td>16226.0</td>\n",
       "      <td>1787</td>\n",
       "      <td>2.541846</td>\n",
       "      <td>14.0</td>\n",
       "      <td>excellent</td>\n",
       "      <td>1.281549</td>\n",
       "    </tr>\n",
       "    <tr>\n",
       "      <th>1</th>\n",
       "      <td>Rider_Id_479</td>\n",
       "      <td>13.5</td>\n",
       "      <td>176</td>\n",
       "      <td>2376.0</td>\n",
       "      <td>184</td>\n",
       "      <td>2.045455</td>\n",
       "      <td>13.0</td>\n",
       "      <td>excellent</td>\n",
       "      <td>0.377497</td>\n",
       "    </tr>\n",
       "    <tr>\n",
       "      <th>2</th>\n",
       "      <td>Rider_Id_648</td>\n",
       "      <td>14.3</td>\n",
       "      <td>466</td>\n",
       "      <td>6663.8</td>\n",
       "      <td>1280</td>\n",
       "      <td>3.746781</td>\n",
       "      <td>14.0</td>\n",
       "      <td>excellent</td>\n",
       "      <td>2.125457</td>\n",
       "    </tr>\n",
       "  </tbody>\n",
       "</table>\n",
       "</div>"
      ],
      "text/plain": [
       "       Rider Id  Average_Rating  No_of_Ratings  Total_ratings  \\\n",
       "0  Rider_Id_396            14.0           1159        16226.0   \n",
       "1  Rider_Id_479            13.5            176         2376.0   \n",
       "2  Rider_Id_648            14.3            466         6663.8   \n",
       "\n",
       "   Trips_not_rated  No_of_riders_to_ratings  Avg_rating_bin Avg_rating_cat  \\\n",
       "0             1787                 2.541846            14.0      excellent   \n",
       "1              184                 2.045455            13.0      excellent   \n",
       "2             1280                 3.746781            14.0      excellent   \n",
       "\n",
       "   Orders_per_day  \n",
       "0        1.281549  \n",
       "1        0.377497  \n",
       "2        2.125457  "
      ]
     },
     "execution_count": 48,
     "metadata": {},
     "output_type": "execute_result"
    }
   ],
   "source": [
    "riders.head(3)"
   ]
  },
  {
   "cell_type": "code",
   "execution_count": 49,
   "metadata": {},
   "outputs": [
    {
     "data": {
      "text/plain": [
       "960"
      ]
     },
     "execution_count": 49,
     "metadata": {},
     "output_type": "execute_result"
    }
   ],
   "source": [
    "len(riders['Rider Id'].unique())"
   ]
  },
  {
   "cell_type": "code",
   "execution_count": 50,
   "metadata": {},
   "outputs": [
    {
     "data": {
      "text/plain": [
       "(960, 9)"
      ]
     },
     "execution_count": 50,
     "metadata": {},
     "output_type": "execute_result"
    }
   ],
   "source": [
    "riders.shape"
   ]
  },
  {
   "cell_type": "code",
   "execution_count": 51,
   "metadata": {},
   "outputs": [],
   "source": [
    "riders.to_csv('riders_modified.csv', index=True)"
   ]
  },
  {
   "cell_type": "code",
   "execution_count": null,
   "metadata": {},
   "outputs": [],
   "source": []
  }
 ],
 "metadata": {
  "kernelspec": {
   "display_name": "Python 3",
   "language": "python",
   "name": "python3"
  },
  "language_info": {
   "codemirror_mode": {
    "name": "ipython",
    "version": 3
   },
   "file_extension": ".py",
   "mimetype": "text/x-python",
   "name": "python",
   "nbconvert_exporter": "python",
   "pygments_lexer": "ipython3",
   "version": "3.7.3"
  }
 },
 "nbformat": 4,
 "nbformat_minor": 2
}
