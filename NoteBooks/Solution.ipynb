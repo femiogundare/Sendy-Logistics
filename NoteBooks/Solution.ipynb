{
 "cells": [
  {
   "cell_type": "code",
   "execution_count": 1,
   "metadata": {},
   "outputs": [],
   "source": [
    "import numpy as np\n",
    "import pandas as pd\n",
    "from matplotlib import pyplot as plt\n",
    "import seaborn as sns\n",
    "import math\n",
    "from scipy import stats\n",
    "\n",
    "from datetime import datetime"
   ]
  },
  {
   "cell_type": "code",
   "execution_count": 2,
   "metadata": {},
   "outputs": [
    {
     "data": {
      "text/plain": [
       "'C:\\\\Users\\\\USER\\\\Desktop\\\\ZINDI DATASETS\\\\Sendy Logistics Challenge\\\\NoteBooks'"
      ]
     },
     "execution_count": 2,
     "metadata": {},
     "output_type": "execute_result"
    }
   ],
   "source": [
    "import os\n",
    "os.getcwd()"
   ]
  },
  {
   "cell_type": "code",
   "execution_count": 3,
   "metadata": {},
   "outputs": [],
   "source": [
    "train_data = pd.read_csv('C:\\\\Users\\\\USER\\\\Desktop\\\\ZINDI DATASETS\\\\Sendy Logistics Challenge\\\\Train.csv')\n",
    "test_data = pd.read_csv('C:\\\\Users\\\\USER\\\\Desktop\\\\ZINDI DATASETS\\\\Sendy Logistics Challenge\\\\Test.csv')\n",
    "riders = pd.read_csv('C:\\\\Users\\\\USER\\\\Desktop\\\\ZINDI DATASETS\\\\Sendy Logistics Challenge\\\\Riders.csv')"
   ]
  },
  {
   "cell_type": "code",
   "execution_count": 4,
   "metadata": {},
   "outputs": [
    {
     "data": {
      "text/html": [
       "<div>\n",
       "<style scoped>\n",
       "    .dataframe tbody tr th:only-of-type {\n",
       "        vertical-align: middle;\n",
       "    }\n",
       "\n",
       "    .dataframe tbody tr th {\n",
       "        vertical-align: top;\n",
       "    }\n",
       "\n",
       "    .dataframe thead th {\n",
       "        text-align: right;\n",
       "    }\n",
       "</style>\n",
       "<table border=\"1\" class=\"dataframe\">\n",
       "  <thead>\n",
       "    <tr style=\"text-align: right;\">\n",
       "      <th></th>\n",
       "      <th>Order No</th>\n",
       "      <th>User Id</th>\n",
       "      <th>Vehicle Type</th>\n",
       "      <th>Platform Type</th>\n",
       "      <th>Personal or Business</th>\n",
       "      <th>Placement - Day of Month</th>\n",
       "      <th>Placement - Weekday (Mo = 1)</th>\n",
       "      <th>Placement - Time</th>\n",
       "      <th>Confirmation - Day of Month</th>\n",
       "      <th>Confirmation - Weekday (Mo = 1)</th>\n",
       "      <th>...</th>\n",
       "      <th>Arrival at Destination - Time</th>\n",
       "      <th>Distance (KM)</th>\n",
       "      <th>Temperature</th>\n",
       "      <th>Precipitation in millimeters</th>\n",
       "      <th>Pickup Lat</th>\n",
       "      <th>Pickup Long</th>\n",
       "      <th>Destination Lat</th>\n",
       "      <th>Destination Long</th>\n",
       "      <th>Rider Id</th>\n",
       "      <th>Time from Pickup to Arrival</th>\n",
       "    </tr>\n",
       "  </thead>\n",
       "  <tbody>\n",
       "    <tr>\n",
       "      <th>0</th>\n",
       "      <td>Order_No_4211</td>\n",
       "      <td>User_Id_633</td>\n",
       "      <td>Bike</td>\n",
       "      <td>3</td>\n",
       "      <td>Business</td>\n",
       "      <td>9</td>\n",
       "      <td>5</td>\n",
       "      <td>9:35:46 AM</td>\n",
       "      <td>9</td>\n",
       "      <td>5</td>\n",
       "      <td>...</td>\n",
       "      <td>10:39:55 AM</td>\n",
       "      <td>4</td>\n",
       "      <td>20.4</td>\n",
       "      <td>NaN</td>\n",
       "      <td>-1.317755</td>\n",
       "      <td>36.830370</td>\n",
       "      <td>-1.300406</td>\n",
       "      <td>36.829741</td>\n",
       "      <td>Rider_Id_432</td>\n",
       "      <td>745</td>\n",
       "    </tr>\n",
       "    <tr>\n",
       "      <th>1</th>\n",
       "      <td>Order_No_25375</td>\n",
       "      <td>User_Id_2285</td>\n",
       "      <td>Bike</td>\n",
       "      <td>3</td>\n",
       "      <td>Personal</td>\n",
       "      <td>12</td>\n",
       "      <td>5</td>\n",
       "      <td>11:16:16 AM</td>\n",
       "      <td>12</td>\n",
       "      <td>5</td>\n",
       "      <td>...</td>\n",
       "      <td>12:17:22 PM</td>\n",
       "      <td>16</td>\n",
       "      <td>26.4</td>\n",
       "      <td>NaN</td>\n",
       "      <td>-1.351453</td>\n",
       "      <td>36.899315</td>\n",
       "      <td>-1.295004</td>\n",
       "      <td>36.814358</td>\n",
       "      <td>Rider_Id_856</td>\n",
       "      <td>1993</td>\n",
       "    </tr>\n",
       "    <tr>\n",
       "      <th>2</th>\n",
       "      <td>Order_No_1899</td>\n",
       "      <td>User_Id_265</td>\n",
       "      <td>Bike</td>\n",
       "      <td>3</td>\n",
       "      <td>Business</td>\n",
       "      <td>30</td>\n",
       "      <td>2</td>\n",
       "      <td>12:39:25 PM</td>\n",
       "      <td>30</td>\n",
       "      <td>2</td>\n",
       "      <td>...</td>\n",
       "      <td>1:00:38 PM</td>\n",
       "      <td>3</td>\n",
       "      <td>NaN</td>\n",
       "      <td>NaN</td>\n",
       "      <td>-1.308284</td>\n",
       "      <td>36.843419</td>\n",
       "      <td>-1.300921</td>\n",
       "      <td>36.828195</td>\n",
       "      <td>Rider_Id_155</td>\n",
       "      <td>455</td>\n",
       "    </tr>\n",
       "    <tr>\n",
       "      <th>3</th>\n",
       "      <td>Order_No_9336</td>\n",
       "      <td>User_Id_1402</td>\n",
       "      <td>Bike</td>\n",
       "      <td>3</td>\n",
       "      <td>Business</td>\n",
       "      <td>15</td>\n",
       "      <td>5</td>\n",
       "      <td>9:25:34 AM</td>\n",
       "      <td>15</td>\n",
       "      <td>5</td>\n",
       "      <td>...</td>\n",
       "      <td>10:05:27 AM</td>\n",
       "      <td>9</td>\n",
       "      <td>19.2</td>\n",
       "      <td>NaN</td>\n",
       "      <td>-1.281301</td>\n",
       "      <td>36.832396</td>\n",
       "      <td>-1.257147</td>\n",
       "      <td>36.795063</td>\n",
       "      <td>Rider_Id_855</td>\n",
       "      <td>1341</td>\n",
       "    </tr>\n",
       "    <tr>\n",
       "      <th>4</th>\n",
       "      <td>Order_No_27883</td>\n",
       "      <td>User_Id_1737</td>\n",
       "      <td>Bike</td>\n",
       "      <td>1</td>\n",
       "      <td>Personal</td>\n",
       "      <td>13</td>\n",
       "      <td>1</td>\n",
       "      <td>9:55:18 AM</td>\n",
       "      <td>13</td>\n",
       "      <td>1</td>\n",
       "      <td>...</td>\n",
       "      <td>10:25:37 AM</td>\n",
       "      <td>9</td>\n",
       "      <td>15.4</td>\n",
       "      <td>NaN</td>\n",
       "      <td>-1.266597</td>\n",
       "      <td>36.792118</td>\n",
       "      <td>-1.295041</td>\n",
       "      <td>36.809817</td>\n",
       "      <td>Rider_Id_770</td>\n",
       "      <td>1214</td>\n",
       "    </tr>\n",
       "  </tbody>\n",
       "</table>\n",
       "<p>5 rows × 29 columns</p>\n",
       "</div>"
      ],
      "text/plain": [
       "         Order No       User Id Vehicle Type  Platform Type  \\\n",
       "0   Order_No_4211   User_Id_633         Bike              3   \n",
       "1  Order_No_25375  User_Id_2285         Bike              3   \n",
       "2   Order_No_1899   User_Id_265         Bike              3   \n",
       "3   Order_No_9336  User_Id_1402         Bike              3   \n",
       "4  Order_No_27883  User_Id_1737         Bike              1   \n",
       "\n",
       "  Personal or Business  Placement - Day of Month  \\\n",
       "0             Business                         9   \n",
       "1             Personal                        12   \n",
       "2             Business                        30   \n",
       "3             Business                        15   \n",
       "4             Personal                        13   \n",
       "\n",
       "   Placement - Weekday (Mo = 1) Placement - Time  Confirmation - Day of Month  \\\n",
       "0                             5       9:35:46 AM                            9   \n",
       "1                             5      11:16:16 AM                           12   \n",
       "2                             2      12:39:25 PM                           30   \n",
       "3                             5       9:25:34 AM                           15   \n",
       "4                             1       9:55:18 AM                           13   \n",
       "\n",
       "   Confirmation - Weekday (Mo = 1)  ... Arrival at Destination - Time  \\\n",
       "0                                5  ...                   10:39:55 AM   \n",
       "1                                5  ...                   12:17:22 PM   \n",
       "2                                2  ...                    1:00:38 PM   \n",
       "3                                5  ...                   10:05:27 AM   \n",
       "4                                1  ...                   10:25:37 AM   \n",
       "\n",
       "   Distance (KM)  Temperature Precipitation in millimeters  Pickup Lat  \\\n",
       "0              4         20.4                          NaN   -1.317755   \n",
       "1             16         26.4                          NaN   -1.351453   \n",
       "2              3          NaN                          NaN   -1.308284   \n",
       "3              9         19.2                          NaN   -1.281301   \n",
       "4              9         15.4                          NaN   -1.266597   \n",
       "\n",
       "   Pickup Long Destination Lat  Destination Long      Rider Id  \\\n",
       "0    36.830370       -1.300406         36.829741  Rider_Id_432   \n",
       "1    36.899315       -1.295004         36.814358  Rider_Id_856   \n",
       "2    36.843419       -1.300921         36.828195  Rider_Id_155   \n",
       "3    36.832396       -1.257147         36.795063  Rider_Id_855   \n",
       "4    36.792118       -1.295041         36.809817  Rider_Id_770   \n",
       "\n",
       "  Time from Pickup to Arrival  \n",
       "0                         745  \n",
       "1                        1993  \n",
       "2                         455  \n",
       "3                        1341  \n",
       "4                        1214  \n",
       "\n",
       "[5 rows x 29 columns]"
      ]
     },
     "execution_count": 4,
     "metadata": {},
     "output_type": "execute_result"
    }
   ],
   "source": [
    "train_data.head()"
   ]
  },
  {
   "cell_type": "code",
   "execution_count": 5,
   "metadata": {},
   "outputs": [
    {
     "data": {
      "text/html": [
       "<div>\n",
       "<style scoped>\n",
       "    .dataframe tbody tr th:only-of-type {\n",
       "        vertical-align: middle;\n",
       "    }\n",
       "\n",
       "    .dataframe tbody tr th {\n",
       "        vertical-align: top;\n",
       "    }\n",
       "\n",
       "    .dataframe thead th {\n",
       "        text-align: right;\n",
       "    }\n",
       "</style>\n",
       "<table border=\"1\" class=\"dataframe\">\n",
       "  <thead>\n",
       "    <tr style=\"text-align: right;\">\n",
       "      <th></th>\n",
       "      <th>Order No</th>\n",
       "      <th>User Id</th>\n",
       "      <th>Vehicle Type</th>\n",
       "      <th>Platform Type</th>\n",
       "      <th>Personal or Business</th>\n",
       "      <th>Placement - Day of Month</th>\n",
       "      <th>Placement - Weekday (Mo = 1)</th>\n",
       "      <th>Placement - Time</th>\n",
       "      <th>Confirmation - Day of Month</th>\n",
       "      <th>Confirmation - Weekday (Mo = 1)</th>\n",
       "      <th>...</th>\n",
       "      <th>Pickup - Weekday (Mo = 1)</th>\n",
       "      <th>Pickup - Time</th>\n",
       "      <th>Distance (KM)</th>\n",
       "      <th>Temperature</th>\n",
       "      <th>Precipitation in millimeters</th>\n",
       "      <th>Pickup Lat</th>\n",
       "      <th>Pickup Long</th>\n",
       "      <th>Destination Lat</th>\n",
       "      <th>Destination Long</th>\n",
       "      <th>Rider Id</th>\n",
       "    </tr>\n",
       "  </thead>\n",
       "  <tbody>\n",
       "    <tr>\n",
       "      <th>0</th>\n",
       "      <td>Order_No_19248</td>\n",
       "      <td>User_Id_3355</td>\n",
       "      <td>Bike</td>\n",
       "      <td>3</td>\n",
       "      <td>Business</td>\n",
       "      <td>27</td>\n",
       "      <td>3</td>\n",
       "      <td>4:44:10 PM</td>\n",
       "      <td>27</td>\n",
       "      <td>3</td>\n",
       "      <td>...</td>\n",
       "      <td>3</td>\n",
       "      <td>5:06:47 PM</td>\n",
       "      <td>8</td>\n",
       "      <td>NaN</td>\n",
       "      <td>NaN</td>\n",
       "      <td>-1.333275</td>\n",
       "      <td>36.870815</td>\n",
       "      <td>-1.305249</td>\n",
       "      <td>36.822390</td>\n",
       "      <td>Rider_Id_192</td>\n",
       "    </tr>\n",
       "    <tr>\n",
       "      <th>1</th>\n",
       "      <td>Order_No_12736</td>\n",
       "      <td>User_Id_3647</td>\n",
       "      <td>Bike</td>\n",
       "      <td>3</td>\n",
       "      <td>Business</td>\n",
       "      <td>17</td>\n",
       "      <td>5</td>\n",
       "      <td>12:57:35 PM</td>\n",
       "      <td>17</td>\n",
       "      <td>5</td>\n",
       "      <td>...</td>\n",
       "      <td>5</td>\n",
       "      <td>1:25:37 PM</td>\n",
       "      <td>5</td>\n",
       "      <td>NaN</td>\n",
       "      <td>NaN</td>\n",
       "      <td>-1.272639</td>\n",
       "      <td>36.794723</td>\n",
       "      <td>-1.277007</td>\n",
       "      <td>36.823907</td>\n",
       "      <td>Rider_Id_868</td>\n",
       "    </tr>\n",
       "    <tr>\n",
       "      <th>2</th>\n",
       "      <td>Order_No_768</td>\n",
       "      <td>User_Id_2154</td>\n",
       "      <td>Bike</td>\n",
       "      <td>3</td>\n",
       "      <td>Business</td>\n",
       "      <td>27</td>\n",
       "      <td>4</td>\n",
       "      <td>11:08:14 AM</td>\n",
       "      <td>27</td>\n",
       "      <td>4</td>\n",
       "      <td>...</td>\n",
       "      <td>4</td>\n",
       "      <td>11:57:54 AM</td>\n",
       "      <td>5</td>\n",
       "      <td>22.8</td>\n",
       "      <td>NaN</td>\n",
       "      <td>-1.290894</td>\n",
       "      <td>36.822971</td>\n",
       "      <td>-1.276574</td>\n",
       "      <td>36.851365</td>\n",
       "      <td>Rider_Id_26</td>\n",
       "    </tr>\n",
       "    <tr>\n",
       "      <th>3</th>\n",
       "      <td>Order_No_15332</td>\n",
       "      <td>User_Id_2910</td>\n",
       "      <td>Bike</td>\n",
       "      <td>3</td>\n",
       "      <td>Business</td>\n",
       "      <td>17</td>\n",
       "      <td>1</td>\n",
       "      <td>1:51:35 PM</td>\n",
       "      <td>17</td>\n",
       "      <td>1</td>\n",
       "      <td>...</td>\n",
       "      <td>1</td>\n",
       "      <td>2:16:52 PM</td>\n",
       "      <td>5</td>\n",
       "      <td>24.5</td>\n",
       "      <td>NaN</td>\n",
       "      <td>-1.290503</td>\n",
       "      <td>36.809646</td>\n",
       "      <td>-1.303382</td>\n",
       "      <td>36.790658</td>\n",
       "      <td>Rider_Id_685</td>\n",
       "    </tr>\n",
       "    <tr>\n",
       "      <th>4</th>\n",
       "      <td>Order_No_21373</td>\n",
       "      <td>User_Id_1205</td>\n",
       "      <td>Bike</td>\n",
       "      <td>3</td>\n",
       "      <td>Business</td>\n",
       "      <td>11</td>\n",
       "      <td>2</td>\n",
       "      <td>11:30:28 AM</td>\n",
       "      <td>11</td>\n",
       "      <td>2</td>\n",
       "      <td>...</td>\n",
       "      <td>2</td>\n",
       "      <td>11:56:04 AM</td>\n",
       "      <td>6</td>\n",
       "      <td>24.4</td>\n",
       "      <td>NaN</td>\n",
       "      <td>-1.281081</td>\n",
       "      <td>36.814423</td>\n",
       "      <td>-1.266467</td>\n",
       "      <td>36.792161</td>\n",
       "      <td>Rider_Id_858</td>\n",
       "    </tr>\n",
       "  </tbody>\n",
       "</table>\n",
       "<p>5 rows × 25 columns</p>\n",
       "</div>"
      ],
      "text/plain": [
       "         Order No       User Id Vehicle Type  Platform Type  \\\n",
       "0  Order_No_19248  User_Id_3355         Bike              3   \n",
       "1  Order_No_12736  User_Id_3647         Bike              3   \n",
       "2    Order_No_768  User_Id_2154         Bike              3   \n",
       "3  Order_No_15332  User_Id_2910         Bike              3   \n",
       "4  Order_No_21373  User_Id_1205         Bike              3   \n",
       "\n",
       "  Personal or Business  Placement - Day of Month  \\\n",
       "0             Business                        27   \n",
       "1             Business                        17   \n",
       "2             Business                        27   \n",
       "3             Business                        17   \n",
       "4             Business                        11   \n",
       "\n",
       "   Placement - Weekday (Mo = 1) Placement - Time  Confirmation - Day of Month  \\\n",
       "0                             3       4:44:10 PM                           27   \n",
       "1                             5      12:57:35 PM                           17   \n",
       "2                             4      11:08:14 AM                           27   \n",
       "3                             1       1:51:35 PM                           17   \n",
       "4                             2      11:30:28 AM                           11   \n",
       "\n",
       "   Confirmation - Weekday (Mo = 1)  ... Pickup - Weekday (Mo = 1)  \\\n",
       "0                                3  ...                         3   \n",
       "1                                5  ...                         5   \n",
       "2                                4  ...                         4   \n",
       "3                                1  ...                         1   \n",
       "4                                2  ...                         2   \n",
       "\n",
       "   Pickup - Time  Distance (KM) Temperature  Precipitation in millimeters  \\\n",
       "0     5:06:47 PM              8         NaN                           NaN   \n",
       "1     1:25:37 PM              5         NaN                           NaN   \n",
       "2    11:57:54 AM              5        22.8                           NaN   \n",
       "3     2:16:52 PM              5        24.5                           NaN   \n",
       "4    11:56:04 AM              6        24.4                           NaN   \n",
       "\n",
       "   Pickup Lat Pickup Long  Destination Lat  Destination Long      Rider Id  \n",
       "0   -1.333275   36.870815        -1.305249         36.822390  Rider_Id_192  \n",
       "1   -1.272639   36.794723        -1.277007         36.823907  Rider_Id_868  \n",
       "2   -1.290894   36.822971        -1.276574         36.851365   Rider_Id_26  \n",
       "3   -1.290503   36.809646        -1.303382         36.790658  Rider_Id_685  \n",
       "4   -1.281081   36.814423        -1.266467         36.792161  Rider_Id_858  \n",
       "\n",
       "[5 rows x 25 columns]"
      ]
     },
     "execution_count": 5,
     "metadata": {},
     "output_type": "execute_result"
    }
   ],
   "source": [
    "test_data.head()"
   ]
  },
  {
   "cell_type": "code",
   "execution_count": 6,
   "metadata": {},
   "outputs": [
    {
     "data": {
      "text/html": [
       "<div>\n",
       "<style scoped>\n",
       "    .dataframe tbody tr th:only-of-type {\n",
       "        vertical-align: middle;\n",
       "    }\n",
       "\n",
       "    .dataframe tbody tr th {\n",
       "        vertical-align: top;\n",
       "    }\n",
       "\n",
       "    .dataframe thead th {\n",
       "        text-align: right;\n",
       "    }\n",
       "</style>\n",
       "<table border=\"1\" class=\"dataframe\">\n",
       "  <thead>\n",
       "    <tr style=\"text-align: right;\">\n",
       "      <th></th>\n",
       "      <th>Rider Id</th>\n",
       "      <th>No_Of_Orders</th>\n",
       "      <th>Age</th>\n",
       "      <th>Average_Rating</th>\n",
       "      <th>No_of_Ratings</th>\n",
       "    </tr>\n",
       "  </thead>\n",
       "  <tbody>\n",
       "    <tr>\n",
       "      <th>0</th>\n",
       "      <td>Rider_Id_396</td>\n",
       "      <td>2946</td>\n",
       "      <td>2298</td>\n",
       "      <td>14.0</td>\n",
       "      <td>1159</td>\n",
       "    </tr>\n",
       "    <tr>\n",
       "      <th>1</th>\n",
       "      <td>Rider_Id_479</td>\n",
       "      <td>360</td>\n",
       "      <td>951</td>\n",
       "      <td>13.5</td>\n",
       "      <td>176</td>\n",
       "    </tr>\n",
       "    <tr>\n",
       "      <th>2</th>\n",
       "      <td>Rider_Id_648</td>\n",
       "      <td>1746</td>\n",
       "      <td>821</td>\n",
       "      <td>14.3</td>\n",
       "      <td>466</td>\n",
       "    </tr>\n",
       "    <tr>\n",
       "      <th>3</th>\n",
       "      <td>Rider_Id_753</td>\n",
       "      <td>314</td>\n",
       "      <td>980</td>\n",
       "      <td>12.5</td>\n",
       "      <td>75</td>\n",
       "    </tr>\n",
       "    <tr>\n",
       "      <th>4</th>\n",
       "      <td>Rider_Id_335</td>\n",
       "      <td>536</td>\n",
       "      <td>1113</td>\n",
       "      <td>13.7</td>\n",
       "      <td>156</td>\n",
       "    </tr>\n",
       "  </tbody>\n",
       "</table>\n",
       "</div>"
      ],
      "text/plain": [
       "       Rider Id  No_Of_Orders   Age  Average_Rating  No_of_Ratings\n",
       "0  Rider_Id_396          2946  2298            14.0           1159\n",
       "1  Rider_Id_479           360   951            13.5            176\n",
       "2  Rider_Id_648          1746   821            14.3            466\n",
       "3  Rider_Id_753           314   980            12.5             75\n",
       "4  Rider_Id_335           536  1113            13.7            156"
      ]
     },
     "execution_count": 6,
     "metadata": {},
     "output_type": "execute_result"
    }
   ],
   "source": [
    "riders.head()"
   ]
  },
  {
   "cell_type": "code",
   "execution_count": 7,
   "metadata": {},
   "outputs": [],
   "source": [
    "x = train_data.columns\n",
    "y = test_data.columns\n",
    "\n",
    "fts = (set(x) - set(y))"
   ]
  },
  {
   "cell_type": "code",
   "execution_count": 8,
   "metadata": {},
   "outputs": [
    {
     "data": {
      "text/plain": [
       "Index(['Order No', 'User Id', 'Vehicle Type', 'Platform Type',\n",
       "       'Personal or Business', 'Placement - Day of Month',\n",
       "       'Placement - Weekday (Mo = 1)', 'Placement - Time',\n",
       "       'Confirmation - Day of Month', 'Confirmation - Weekday (Mo = 1)',\n",
       "       'Confirmation - Time', 'Arrival at Pickup - Day of Month',\n",
       "       'Arrival at Pickup - Weekday (Mo = 1)', 'Arrival at Pickup - Time',\n",
       "       'Pickup - Day of Month', 'Pickup - Weekday (Mo = 1)', 'Pickup - Time',\n",
       "       'Arrival at Destination - Day of Month',\n",
       "       'Arrival at Destination - Weekday (Mo = 1)',\n",
       "       'Arrival at Destination - Time', 'Distance (KM)', 'Temperature',\n",
       "       'Precipitation in millimeters', 'Pickup Lat', 'Pickup Long',\n",
       "       'Destination Lat', 'Destination Long', 'Rider Id',\n",
       "       'Time from Pickup to Arrival'],\n",
       "      dtype='object')"
      ]
     },
     "execution_count": 8,
     "metadata": {},
     "output_type": "execute_result"
    }
   ],
   "source": [
    "train_data.columns"
   ]
  },
  {
   "cell_type": "code",
   "execution_count": 9,
   "metadata": {},
   "outputs": [
    {
     "data": {
      "text/plain": [
       "dtype('O')"
      ]
     },
     "execution_count": 9,
     "metadata": {},
     "output_type": "execute_result"
    }
   ],
   "source": [
    "train_data['Arrival at Destination - Time'].dtype"
   ]
  },
  {
   "cell_type": "code",
   "execution_count": 10,
   "metadata": {},
   "outputs": [
    {
     "data": {
      "text/plain": [
       "count    21201.000000\n",
       "mean      1556.920947\n",
       "std        987.270788\n",
       "min          1.000000\n",
       "25%        882.000000\n",
       "50%       1369.000000\n",
       "75%       2040.000000\n",
       "max       7883.000000\n",
       "Name: Time from Pickup to Arrival, dtype: float64"
      ]
     },
     "execution_count": 10,
     "metadata": {},
     "output_type": "execute_result"
    }
   ],
   "source": [
    "train_data['Time from Pickup to Arrival'].describe()"
   ]
  },
  {
   "cell_type": "code",
   "execution_count": 11,
   "metadata": {},
   "outputs": [
    {
     "data": {
      "text/plain": [
       "0    10:27:30 AM\n",
       "1    11:44:09 AM\n",
       "2    12:53:03 PM\n",
       "3     9:43:06 AM\n",
       "4    10:05:23 AM\n",
       "Name: Pickup - Time, dtype: object"
      ]
     },
     "execution_count": 11,
     "metadata": {},
     "output_type": "execute_result"
    }
   ],
   "source": [
    "train_data['Pickup - Time'].head()"
   ]
  },
  {
   "cell_type": "code",
   "execution_count": 12,
   "metadata": {},
   "outputs": [
    {
     "data": {
      "text/plain": [
       "0    10:39:55 AM\n",
       "1    12:17:22 PM\n",
       "2     1:00:38 PM\n",
       "3    10:05:27 AM\n",
       "4    10:25:37 AM\n",
       "Name: Arrival at Destination - Time, dtype: object"
      ]
     },
     "execution_count": 12,
     "metadata": {},
     "output_type": "execute_result"
    }
   ],
   "source": [
    "train_data['Arrival at Destination - Time'].head()"
   ]
  },
  {
   "cell_type": "code",
   "execution_count": 13,
   "metadata": {},
   "outputs": [],
   "source": [
    "#(pd.to_datetime(train_data['Arrival at Destination - Time']) - pd.to_datetime(train_data['Arrival at Pickup - Time'])).astype('timedelta64[s]')#.dt."
   ]
  },
  {
   "cell_type": "code",
   "execution_count": 14,
   "metadata": {},
   "outputs": [
    {
     "data": {
      "text/plain": [
       "{'Arrival at Destination - Day of Month',\n",
       " 'Arrival at Destination - Time',\n",
       " 'Arrival at Destination - Weekday (Mo = 1)',\n",
       " 'Time from Pickup to Arrival'}"
      ]
     },
     "execution_count": 14,
     "metadata": {},
     "output_type": "execute_result"
    }
   ],
   "source": [
    "fts"
   ]
  },
  {
   "cell_type": "code",
   "execution_count": 15,
   "metadata": {},
   "outputs": [
    {
     "name": "stdout",
     "output_type": "stream",
     "text": [
      "(21201, 26)\n"
     ]
    },
    {
     "data": {
      "text/plain": [
       "(7068, 25)"
      ]
     },
     "execution_count": 15,
     "metadata": {},
     "output_type": "execute_result"
    }
   ],
   "source": [
    "train_data.drop([\n",
    "    'Arrival at Destination - Day of Month', 'Arrival at Destination - Time', \n",
    "    'Arrival at Destination - Weekday (Mo = 1)'\n",
    "], axis=1, inplace=True)\n",
    "\n",
    "print(train_data.shape)\n",
    "test_data.shape"
   ]
  },
  {
   "cell_type": "code",
   "execution_count": 16,
   "metadata": {},
   "outputs": [],
   "source": [
    "train_data.drop_duplicates(keep='first', inplace=True)\n",
    "test_data.drop_duplicates(keep='first', inplace=True)"
   ]
  },
  {
   "cell_type": "code",
   "execution_count": 17,
   "metadata": {},
   "outputs": [
    {
     "name": "stdout",
     "output_type": "stream",
     "text": [
      "(21201, 26)\n"
     ]
    },
    {
     "data": {
      "text/plain": [
       "(7068, 25)"
      ]
     },
     "execution_count": 17,
     "metadata": {},
     "output_type": "execute_result"
    }
   ],
   "source": [
    "print(train_data.shape)\n",
    "test_data.shape"
   ]
  },
  {
   "cell_type": "code",
   "execution_count": 18,
   "metadata": {},
   "outputs": [
    {
     "data": {
      "text/plain": [
       "count    21201.000000\n",
       "mean      1556.920947\n",
       "std        987.270788\n",
       "min          1.000000\n",
       "25%        882.000000\n",
       "50%       1369.000000\n",
       "75%       2040.000000\n",
       "max       7883.000000\n",
       "Name: Time from Pickup to Arrival, dtype: float64"
      ]
     },
     "execution_count": 18,
     "metadata": {},
     "output_type": "execute_result"
    }
   ],
   "source": [
    "train_data['Time from Pickup to Arrival'].describe()"
   ]
  },
  {
   "cell_type": "code",
   "execution_count": 19,
   "metadata": {},
   "outputs": [
    {
     "data": {
      "image/png": "[encoded data removed]",
      "text/plain": [
       "<Figure size 1152x504 with 1 Axes>"
      ]
     },
     "metadata": {
      "needs_background": "light"
     },
     "output_type": "display_data"
    }
   ],
   "source": [
    "plt.figure(figsize=(16, 7))\n",
    "ax = sns.scatterplot(x='Time from Pickup to Arrival', y='Distance (KM)', data=train_data);\n",
    "ax.autoscale(axis='both', tight=True)"
   ]
  },
  {
   "cell_type": "code",
   "execution_count": 20,
   "metadata": {},
   "outputs": [
    {
     "data": {
      "text/plain": [
       "<matplotlib.axes._subplots.AxesSubplot at 0x1327cdde588>"
      ]
     },
     "execution_count": 20,
     "metadata": {},
     "output_type": "execute_result"
    },
    {
     "data": {
      "image/png": "[encoded data removed]",
      "text/plain": [
       "<Figure size 432x288 with 1 Axes>"
      ]
     },
     "metadata": {
      "needs_background": "light"
     },
     "output_type": "display_data"
    }
   ],
   "source": [
    "train_data[(train_data['Time from Pickup to Arrival']<60)]['Distance (KM)'].hist(bins=60)"
   ]
  },
  {
   "cell_type": "code",
   "execution_count": 21,
   "metadata": {},
   "outputs": [
    {
     "data": {
      "text/plain": [
       "Temperature                      4366\n",
       "Precipitation in millimeters    20649\n",
       "dtype: int64"
      ]
     },
     "execution_count": 21,
     "metadata": {},
     "output_type": "execute_result"
    }
   ],
   "source": [
    "train_data.isnull().sum()[train_data.isnull().sum().values>0]"
   ]
  },
  {
   "cell_type": "code",
   "execution_count": 22,
   "metadata": {},
   "outputs": [
    {
     "data": {
      "text/plain": [
       "-23.41485694091335"
      ]
     },
     "execution_count": 22,
     "metadata": {},
     "output_type": "execute_result"
    }
   ],
   "source": [
    "(train_data['Time from Pickup to Arrival'].mean() - 3*train_data['Time from Pickup to Arrival'].std())/60"
   ]
  },
  {
   "cell_type": "code",
   "execution_count": 23,
   "metadata": {},
   "outputs": [
    {
     "data": {
      "text/plain": [
       "42.40319558308524"
      ]
     },
     "execution_count": 23,
     "metadata": {},
     "output_type": "execute_result"
    }
   ],
   "source": [
    "(train_data['Time from Pickup to Arrival'].mean() + train_data['Time from Pickup to Arrival'].std())/60"
   ]
  },
  {
   "cell_type": "code",
   "execution_count": 24,
   "metadata": {},
   "outputs": [
    {
     "data": {
      "text/plain": [
       "count    740.000000\n",
       "mean       6.417568\n",
       "std        4.601872\n",
       "min        1.000000\n",
       "25%        3.000000\n",
       "50%        5.000000\n",
       "75%        9.000000\n",
       "max       26.000000\n",
       "Name: Distance (KM), dtype: float64"
      ]
     },
     "execution_count": 24,
     "metadata": {},
     "output_type": "execute_result"
    }
   ],
   "source": [
    "train_data[(train_data['Time from Pickup to Arrival']<60)]['Distance (KM)'].describe()"
   ]
  },
  {
   "cell_type": "code",
   "execution_count": 25,
   "metadata": {},
   "outputs": [
    {
     "data": {
      "text/plain": [
       "<matplotlib.axes._subplots.AxesSubplot at 0x1327cf665f8>"
      ]
     },
     "execution_count": 25,
     "metadata": {},
     "output_type": "execute_result"
    },
    {
     "data": {
      "image/png": "[encoded data removed]",
      "text/plain": [
       "<Figure size 432x288 with 1 Axes>"
      ]
     },
     "metadata": {
      "needs_background": "light"
     },
     "output_type": "display_data"
    }
   ],
   "source": [
    "train_data[train_data['Time from Pickup to Arrival']<180]['Distance (KM)'].hist()"
   ]
  },
  {
   "cell_type": "code",
   "execution_count": 26,
   "metadata": {},
   "outputs": [
    {
     "data": {
      "image/png": "[encoded data removed]",
      "text/plain": [
       "<Figure size 1152x504 with 1 Axes>"
      ]
     },
     "metadata": {
      "needs_background": "light"
     },
     "output_type": "display_data"
    }
   ],
   "source": [
    "plt.figure(figsize=(16, 7))\n",
    "ax = sns.scatterplot(x='Time from Pickup to Arrival', y='Distance (KM)', data=train_data[train_data['Time from Pickup to Arrival']<180]);\n",
    "ax.autoscale(axis='both', tight=True)"
   ]
  },
  {
   "cell_type": "code",
   "execution_count": 27,
   "metadata": {},
   "outputs": [],
   "source": [
    "train_data['Temperature'] = train_data['Temperature'].fillna(train_data['Temperature'].mean())\n",
    "train_data['Precipitation in millimeters'] = train_data['Precipitation in millimeters'].fillna(0)\n",
    "\n",
    "test_data['Temperature'] = test_data['Temperature'].fillna(train_data['Temperature'].mean())\n",
    "test_data['Precipitation in millimeters'] = test_data['Precipitation in millimeters'].fillna(0)"
   ]
  },
  {
   "cell_type": "code",
   "execution_count": 28,
   "metadata": {},
   "outputs": [
    {
     "data": {
      "text/plain": [
       "0.20583934720060382"
      ]
     },
     "execution_count": 28,
     "metadata": {},
     "output_type": "execute_result"
    }
   ],
   "source": [
    "train_data['Precipitation in millimeters'].mean()"
   ]
  },
  {
   "cell_type": "code",
   "execution_count": 29,
   "metadata": {},
   "outputs": [
    {
     "data": {
      "text/plain": [
       "3.029194402907023"
      ]
     },
     "execution_count": 29,
     "metadata": {},
     "output_type": "execute_result"
    }
   ],
   "source": [
    "train_data['Precipitation in millimeters'].std()"
   ]
  },
  {
   "cell_type": "code",
   "execution_count": 30,
   "metadata": {},
   "outputs": [
    {
     "data": {
      "text/plain": [
       "0.0"
      ]
     },
     "execution_count": 30,
     "metadata": {},
     "output_type": "execute_result"
    }
   ],
   "source": [
    "train_data['Precipitation in millimeters'].median()"
   ]
  },
  {
   "cell_type": "code",
   "execution_count": null,
   "metadata": {},
   "outputs": [],
   "source": []
  },
  {
   "cell_type": "code",
   "execution_count": null,
   "metadata": {},
   "outputs": [],
   "source": []
  },
  {
   "cell_type": "code",
   "execution_count": 31,
   "metadata": {},
   "outputs": [],
   "source": [
    "train_data.drop('Vehicle Type', axis=1, inplace=True)\n",
    "test_data.drop('Vehicle Type', axis=1, inplace=True)"
   ]
  },
  {
   "cell_type": "code",
   "execution_count": 32,
   "metadata": {},
   "outputs": [
    {
     "data": {
      "text/plain": [
       "Index(['Order No', 'User Id', 'Platform Type', 'Personal or Business',\n",
       "       'Placement - Day of Month', 'Placement - Weekday (Mo = 1)',\n",
       "       'Placement - Time', 'Confirmation - Day of Month',\n",
       "       'Confirmation - Weekday (Mo = 1)', 'Confirmation - Time',\n",
       "       'Arrival at Pickup - Day of Month',\n",
       "       'Arrival at Pickup - Weekday (Mo = 1)', 'Arrival at Pickup - Time',\n",
       "       'Pickup - Day of Month', 'Pickup - Weekday (Mo = 1)', 'Pickup - Time',\n",
       "       'Distance (KM)', 'Temperature', 'Precipitation in millimeters',\n",
       "       'Pickup Lat', 'Pickup Long', 'Destination Lat', 'Destination Long',\n",
       "       'Rider Id', 'Time from Pickup to Arrival'],\n",
       "      dtype='object')"
      ]
     },
     "execution_count": 32,
     "metadata": {},
     "output_type": "execute_result"
    }
   ],
   "source": [
    "train_data.columns"
   ]
  },
  {
   "cell_type": "code",
   "execution_count": 33,
   "metadata": {},
   "outputs": [],
   "source": [
    "train_orders = train_data.groupby('User Id', as_index=False)['Order No'].count().rename(columns={'Order No' : 'No_of_Orders_per_User'}).reset_index(drop=True)\n",
    "test_orders = test_data.groupby('User Id', as_index=False)['Order No'].count().rename(columns={'Order No' : 'No_of_Orders_per_User'}).reset_index(drop=True)\n",
    "\n",
    "\n",
    "train_data = pd.merge(train_data, train_orders, on='User Id', how='left')\n",
    "test_data = pd.merge(test_data, test_orders, on='User Id', how='left')"
   ]
  },
  {
   "cell_type": "code",
   "execution_count": 34,
   "metadata": {},
   "outputs": [],
   "source": [
    "#train_data.head()"
   ]
  },
  {
   "cell_type": "code",
   "execution_count": 35,
   "metadata": {},
   "outputs": [],
   "source": [
    "def sort_day_of_month(day):\n",
    "    \n",
    "    if day in range(1, 8):\n",
    "        return 'first_wk'\n",
    "    elif day in range(8, 15):\n",
    "        return 'second_wk'\n",
    "    elif day in range(15, 22):\n",
    "        return 'third_wk'\n",
    "    elif day in range(22, 29):\n",
    "        return 'fourth_wk'\n",
    "    else:\n",
    "        return 'fifth_wk'\n",
    "    \n",
    "\n",
    "train_data['Week_of_Placement'] = train_data['Placement - Day of Month'].map(sort_day_of_month)\n",
    "test_data['Week_of_Placement'] = test_data['Placement - Day of Month'].map(sort_day_of_month)\n",
    "\n",
    "train_data['Week_of_Confirmation'] = train_data['Confirmation - Day of Month'].map(sort_day_of_month)\n",
    "test_data['Week_of_Confirmation'] = test_data['Confirmation - Day of Month'].map(sort_day_of_month)\n",
    "\n",
    "train_data['Week_of_Arrival'] = train_data['Arrival at Pickup - Day of Month'].map(sort_day_of_month)\n",
    "test_data['Week_of_Arrival'] = test_data['Arrival at Pickup - Day of Month'].map(sort_day_of_month)\n",
    "\n",
    "train_data['Week_of_Pickup'] = train_data['Pickup - Day of Month'].map(sort_day_of_month)\n",
    "test_data['Week_of_Pickup'] = test_data['Pickup - Day of Month'].map(sort_day_of_month)"
   ]
  },
  {
   "cell_type": "code",
   "execution_count": 36,
   "metadata": {},
   "outputs": [
    {
     "data": {
      "text/plain": [
       "Index(['Order No', 'User Id', 'Platform Type', 'Personal or Business',\n",
       "       'Placement - Day of Month', 'Placement - Weekday (Mo = 1)',\n",
       "       'Placement - Time', 'Confirmation - Day of Month',\n",
       "       'Confirmation - Weekday (Mo = 1)', 'Confirmation - Time',\n",
       "       'Arrival at Pickup - Day of Month',\n",
       "       'Arrival at Pickup - Weekday (Mo = 1)', 'Arrival at Pickup - Time',\n",
       "       'Pickup - Day of Month', 'Pickup - Weekday (Mo = 1)', 'Pickup - Time',\n",
       "       'Distance (KM)', 'Temperature', 'Precipitation in millimeters',\n",
       "       'Pickup Lat', 'Pickup Long', 'Destination Lat', 'Destination Long',\n",
       "       'Rider Id', 'Time from Pickup to Arrival', 'No_of_Orders_per_User',\n",
       "       'Week_of_Placement', 'Week_of_Confirmation', 'Week_of_Arrival',\n",
       "       'Week_of_Pickup'],\n",
       "      dtype='object')"
      ]
     },
     "execution_count": 36,
     "metadata": {},
     "output_type": "execute_result"
    }
   ],
   "source": [
    "train_data.columns"
   ]
  },
  {
   "cell_type": "code",
   "execution_count": 37,
   "metadata": {},
   "outputs": [],
   "source": [
    "train_data['Placement_hour'] = pd.to_datetime(train_data['Placement - Time']).dt.hour\n",
    "train_data['Placement_min'] = pd.to_datetime(train_data['Placement - Time']).dt.minute\n",
    "train_data['Placement_sec'] = pd.to_datetime(train_data['Placement - Time']).dt.second\n",
    "\n",
    "test_data['Placement_hour'] = pd.to_datetime(test_data['Placement - Time']).dt.hour\n",
    "test_data['Placement_min'] = pd.to_datetime(test_data['Placement - Time']).dt.minute\n",
    "test_data['Placement_sec'] = pd.to_datetime(test_data['Placement - Time']).dt.second\n",
    "\n",
    "\n",
    "#--------------------\n",
    "\n",
    "train_data['Confirmation_hour'] = pd.to_datetime(train_data['Confirmation - Time']).dt.hour\n",
    "train_data['Confirmation_min'] = pd.to_datetime(train_data['Confirmation - Time']).dt.minute\n",
    "train_data['Confirmation_sec'] = pd.to_datetime(train_data['Confirmation - Time']).dt.second\n",
    "\n",
    "test_data['Confirmation_hour'] = pd.to_datetime(test_data['Confirmation - Time']).dt.hour\n",
    "test_data['Confirmation_min'] = pd.to_datetime(test_data['Confirmation - Time']).dt.minute\n",
    "test_data['Confirmation_sec'] = pd.to_datetime(test_data['Confirmation - Time']).dt.second\n",
    "\n",
    "\n",
    "#---------------------------------\n",
    "\n",
    "\n",
    "train_data['Arrival_hour'] = pd.to_datetime(train_data['Arrival at Pickup - Time']).dt.hour\n",
    "train_data['Arrival_min'] = pd.to_datetime(train_data['Arrival at Pickup - Time']).dt.minute\n",
    "train_data['Arrival_sec'] = pd.to_datetime(train_data['Arrival at Pickup - Time']).dt.second\n",
    "\n",
    "test_data['Arrival_hour'] = pd.to_datetime(test_data['Arrival at Pickup - Time']).dt.hour\n",
    "test_data['Arrival_min'] = pd.to_datetime(test_data['Arrival at Pickup - Time']).dt.minute\n",
    "test_data['Arrival_sec'] = pd.to_datetime(test_data['Arrival at Pickup - Time']).dt.second\n",
    "\n",
    "\n",
    "#--------------------\n",
    "\n",
    "train_data['Pickup_hour'] = pd.to_datetime(train_data['Pickup - Time']).dt.hour\n",
    "train_data['Pickup_min'] = pd.to_datetime(train_data['Pickup - Time']).dt.minute\n",
    "train_data['Pickup_sec'] = pd.to_datetime(train_data['Pickup - Time']).dt.second\n",
    "\n",
    "test_data['Pickup_hour'] = pd.to_datetime(test_data['Pickup - Time']).dt.hour\n",
    "test_data['Pickup_min'] = pd.to_datetime(test_data['Pickup - Time']).dt.minute\n",
    "test_data['Pickup_sec'] = pd.to_datetime(test_data['Pickup - Time']).dt.second\n",
    "\n",
    "\n",
    "#---------------------------------"
   ]
  },
  {
   "cell_type": "code",
   "execution_count": 38,
   "metadata": {},
   "outputs": [],
   "source": [
    "def day_period(hr):\n",
    "    \n",
    "    if hr in range(0, 6):\n",
    "        return 'early_morning'\n",
    "    elif hr in range(6, 12):\n",
    "        return 'morning'\n",
    "    elif hr in range(12, 16):\n",
    "        return 'afternoon'\n",
    "    elif hr in range(16, 20):\n",
    "        return 'evening'\n",
    "    else:\n",
    "        return 'nighttime'\n",
    "    \n",
    "\n",
    "train_data['Placement_period'] = train_data['Placement_hour'].map(day_period)\n",
    "test_data['Placement_period'] = test_data['Placement_hour'].map(day_period)\n",
    "\n",
    "train_data['Confirmation_period'] = train_data['Confirmation_hour'].map(day_period)\n",
    "test_data['Confirmation_period'] = test_data['Confirmation_hour'].map(day_period)\n",
    "\n",
    "train_data['Arrival_period'] = train_data['Arrival_hour'].map(day_period)\n",
    "test_data['Arrival_period'] = test_data['Arrival_hour'].map(day_period)\n",
    "\n",
    "train_data['Pickup_period'] = train_data['Pickup_hour'].map(day_period)\n",
    "test_data['Pickup_period'] = test_data['Pickup_hour'].map(day_period)"
   ]
  },
  {
   "cell_type": "code",
   "execution_count": 39,
   "metadata": {},
   "outputs": [],
   "source": [
    "def min_period(min):\n",
    "    \n",
    "    if min in range(0, 16):\n",
    "        return 'first_quarter'\n",
    "    elif min in range(16, 31):\n",
    "        return 'second_quarter'\n",
    "    elif min in range(31, 46):\n",
    "        return 'third_quarter'\n",
    "    else:\n",
    "        return 'fourth_quarter'\n",
    "    \n",
    "    \n",
    "\n",
    "train_data['Placement_min_period'] = train_data['Placement_min'].map(min_period)\n",
    "test_data['Placement_min_period'] = test_data['Placement_min'].map(min_period)\n",
    "\n",
    "train_data['Confirmation_min_period'] = train_data['Confirmation_min'].map(min_period)\n",
    "test_data['Confirmation_min_period'] = test_data['Confirmation_min'].map(min_period)\n",
    "\n",
    "train_data['Arrival_min_period'] = train_data['Arrival_min'].map(min_period)\n",
    "test_data['Arrival_min_period'] = test_data['Arrival_min'].map(min_period)\n",
    "\n",
    "train_data['Pickup_min_period'] = train_data['Pickup_min'].map(min_period)\n",
    "test_data['Pickup_min_period'] = test_data['Pickup_min'].map(min_period)"
   ]
  },
  {
   "cell_type": "code",
   "execution_count": 40,
   "metadata": {},
   "outputs": [],
   "source": [
    "train_data['Placement_time_secs'] = train_data['Placement_hour']*3600 + train_data['Placement_min']*60 + train_data['Placement_sec']\n",
    "test_data['Placement_time_secs'] = test_data['Placement_hour']*3600 + test_data['Placement_min']*60 + test_data['Placement_sec']\n",
    "\n",
    "train_data['Confirmation_time_secs'] = train_data['Confirmation_hour']*3600 + train_data['Confirmation_min']*60 + train_data['Confirmation_sec']\n",
    "test_data['Confirmation_time_secs'] = test_data['Confirmation_hour']*3600 + test_data['Confirmation_min']*60 + test_data['Confirmation_sec']\n",
    "\n",
    "train_data['Arrival_time_secs'] = train_data['Arrival_hour']*3600 + train_data['Arrival_min']*60 + train_data['Arrival_sec']\n",
    "test_data['Arrival_time_secs'] = test_data['Arrival_hour']*3600 + test_data['Arrival_min']*60 + test_data['Arrival_sec']\n",
    "\n",
    "train_data['Pickup_time_secs'] = train_data['Pickup_hour']*3600 + train_data['Pickup_min']*60 + train_data['Pickup_sec']\n",
    "test_data['Pickup_time_secs'] = test_data['Pickup_hour']*3600 + test_data['Pickup_min']*60 + test_data['Pickup_sec']"
   ]
  },
  {
   "cell_type": "code",
   "execution_count": null,
   "metadata": {},
   "outputs": [],
   "source": []
  },
  {
   "cell_type": "code",
   "execution_count": null,
   "metadata": {},
   "outputs": [],
   "source": []
  },
  {
   "cell_type": "code",
   "execution_count": 41,
   "metadata": {},
   "outputs": [
    {
     "data": {
      "text/plain": [
       "0   2019-10-11 10:27:30\n",
       "1   2019-10-11 11:44:09\n",
       "2   2019-10-11 12:53:03\n",
       "3   2019-10-11 09:43:06\n",
       "4   2019-10-11 10:05:23\n",
       "Name: Pickup - Time, dtype: datetime64[ns]"
      ]
     },
     "execution_count": 41,
     "metadata": {},
     "output_type": "execute_result"
    }
   ],
   "source": [
    "pd.to_datetime(train_data['Pickup - Time']).head()"
   ]
  },
  {
   "cell_type": "code",
   "execution_count": 42,
   "metadata": {},
   "outputs": [
    {
     "data": {
      "text/plain": [
       "0       2019-10-11 10:27:30\n",
       "1       2019-10-11 11:44:09\n",
       "2       2019-10-11 12:53:03\n",
       "3       2019-10-11 09:43:06\n",
       "4       2019-10-11 10:05:23\n",
       "5       2019-10-11 15:30:30\n",
       "6       2019-10-11 09:56:45\n",
       "7       2019-10-11 14:22:40\n",
       "8       2019-10-11 12:22:57\n",
       "9       2019-10-11 17:34:38\n",
       "10      2019-10-11 10:14:53\n",
       "11      2019-10-11 16:17:27\n",
       "12      2019-10-11 15:01:57\n",
       "13      2019-10-11 09:27:34\n",
       "14      2019-10-11 10:27:05\n",
       "15      2019-10-11 13:38:25\n",
       "16      2019-10-11 12:15:32\n",
       "17      2019-10-11 12:25:08\n",
       "18      2019-10-11 11:33:31\n",
       "19      2019-10-11 14:50:07\n",
       "20      2019-10-11 10:44:52\n",
       "21      2019-10-11 11:15:38\n",
       "22      2019-10-11 19:49:09\n",
       "23      2019-10-11 10:35:25\n",
       "24      2019-10-11 15:53:17\n",
       "25      2019-10-11 12:52:48\n",
       "26      2019-10-11 15:01:56\n",
       "27      2019-10-11 12:42:07\n",
       "28      2019-10-11 14:28:10\n",
       "29      2019-10-11 08:45:10\n",
       "                ...        \n",
       "21171   2019-10-11 13:19:01\n",
       "21172   2019-10-11 12:03:11\n",
       "21173   2019-10-11 16:41:12\n",
       "21174   2019-10-11 17:06:54\n",
       "21175   2019-10-11 16:21:38\n",
       "21176   2019-10-11 15:57:02\n",
       "21177   2019-10-11 10:16:25\n",
       "21178   2019-10-11 14:49:26\n",
       "21179   2019-10-11 11:15:29\n",
       "21180   2019-10-11 10:29:02\n",
       "21181   2019-10-11 10:42:17\n",
       "21182   2019-10-11 11:16:27\n",
       "21183   2019-10-11 13:19:36\n",
       "21184   2019-10-11 17:31:36\n",
       "21185   2019-10-11 12:01:12\n",
       "21186   2019-10-11 12:37:00\n",
       "21187   2019-10-11 14:34:23\n",
       "21188   2019-10-11 11:22:26\n",
       "21189   2019-10-11 11:00:41\n",
       "21190   2019-10-11 17:52:29\n",
       "21191   2019-10-11 14:53:08\n",
       "21192   2019-10-11 13:05:11\n",
       "21193   2019-10-11 17:27:22\n",
       "21194   2019-10-11 17:15:15\n",
       "21195   2019-10-11 13:54:36\n",
       "21196   2019-10-11 16:20:08\n",
       "21197   2019-10-11 10:33:27\n",
       "21198   2019-10-11 17:50:52\n",
       "21199   2019-10-11 09:45:15\n",
       "21200   2019-10-11 14:41:55\n",
       "Name: Pickup - Time, Length: 21201, dtype: datetime64[ns]"
      ]
     },
     "execution_count": 42,
     "metadata": {},
     "output_type": "execute_result"
    }
   ],
   "source": [
    "pd.to_datetime(train_data['Pickup - Time']).astype('datetime64[s]')"
   ]
  },
  {
   "cell_type": "code",
   "execution_count": 43,
   "metadata": {},
   "outputs": [
    {
     "data": {
      "text/html": [
       "<div>\n",
       "<style scoped>\n",
       "    .dataframe tbody tr th:only-of-type {\n",
       "        vertical-align: middle;\n",
       "    }\n",
       "\n",
       "    .dataframe tbody tr th {\n",
       "        vertical-align: top;\n",
       "    }\n",
       "\n",
       "    .dataframe thead th {\n",
       "        text-align: right;\n",
       "    }\n",
       "</style>\n",
       "<table border=\"1\" class=\"dataframe\">\n",
       "  <thead>\n",
       "    <tr style=\"text-align: right;\">\n",
       "      <th></th>\n",
       "      <th>Order No</th>\n",
       "      <th>User Id</th>\n",
       "      <th>Platform Type</th>\n",
       "      <th>Personal or Business</th>\n",
       "      <th>Placement - Day of Month</th>\n",
       "      <th>Placement - Weekday (Mo = 1)</th>\n",
       "      <th>Placement - Time</th>\n",
       "      <th>Confirmation - Day of Month</th>\n",
       "      <th>Confirmation - Weekday (Mo = 1)</th>\n",
       "      <th>Confirmation - Time</th>\n",
       "      <th>...</th>\n",
       "      <th>Arrival_period</th>\n",
       "      <th>Pickup_period</th>\n",
       "      <th>Placement_min_period</th>\n",
       "      <th>Confirmation_min_period</th>\n",
       "      <th>Arrival_min_period</th>\n",
       "      <th>Pickup_min_period</th>\n",
       "      <th>Placement_time_secs</th>\n",
       "      <th>Confirmation_time_secs</th>\n",
       "      <th>Arrival_time_secs</th>\n",
       "      <th>Pickup_time_secs</th>\n",
       "    </tr>\n",
       "  </thead>\n",
       "  <tbody>\n",
       "    <tr>\n",
       "      <th>0</th>\n",
       "      <td>Order_No_4211</td>\n",
       "      <td>User_Id_633</td>\n",
       "      <td>3</td>\n",
       "      <td>Business</td>\n",
       "      <td>9</td>\n",
       "      <td>5</td>\n",
       "      <td>9:35:46 AM</td>\n",
       "      <td>9</td>\n",
       "      <td>5</td>\n",
       "      <td>9:40:10 AM</td>\n",
       "      <td>...</td>\n",
       "      <td>morning</td>\n",
       "      <td>morning</td>\n",
       "      <td>third_quarter</td>\n",
       "      <td>third_quarter</td>\n",
       "      <td>first_quarter</td>\n",
       "      <td>second_quarter</td>\n",
       "      <td>34546</td>\n",
       "      <td>34810</td>\n",
       "      <td>36287</td>\n",
       "      <td>37650</td>\n",
       "    </tr>\n",
       "    <tr>\n",
       "      <th>1</th>\n",
       "      <td>Order_No_25375</td>\n",
       "      <td>User_Id_2285</td>\n",
       "      <td>3</td>\n",
       "      <td>Personal</td>\n",
       "      <td>12</td>\n",
       "      <td>5</td>\n",
       "      <td>11:16:16 AM</td>\n",
       "      <td>12</td>\n",
       "      <td>5</td>\n",
       "      <td>11:23:21 AM</td>\n",
       "      <td>...</td>\n",
       "      <td>morning</td>\n",
       "      <td>morning</td>\n",
       "      <td>second_quarter</td>\n",
       "      <td>second_quarter</td>\n",
       "      <td>third_quarter</td>\n",
       "      <td>third_quarter</td>\n",
       "      <td>40576</td>\n",
       "      <td>41001</td>\n",
       "      <td>42022</td>\n",
       "      <td>42249</td>\n",
       "    </tr>\n",
       "    <tr>\n",
       "      <th>2</th>\n",
       "      <td>Order_No_1899</td>\n",
       "      <td>User_Id_265</td>\n",
       "      <td>3</td>\n",
       "      <td>Business</td>\n",
       "      <td>30</td>\n",
       "      <td>2</td>\n",
       "      <td>12:39:25 PM</td>\n",
       "      <td>30</td>\n",
       "      <td>2</td>\n",
       "      <td>12:42:44 PM</td>\n",
       "      <td>...</td>\n",
       "      <td>afternoon</td>\n",
       "      <td>afternoon</td>\n",
       "      <td>third_quarter</td>\n",
       "      <td>third_quarter</td>\n",
       "      <td>fourth_quarter</td>\n",
       "      <td>fourth_quarter</td>\n",
       "      <td>45565</td>\n",
       "      <td>45764</td>\n",
       "      <td>46174</td>\n",
       "      <td>46383</td>\n",
       "    </tr>\n",
       "    <tr>\n",
       "      <th>3</th>\n",
       "      <td>Order_No_9336</td>\n",
       "      <td>User_Id_1402</td>\n",
       "      <td>3</td>\n",
       "      <td>Business</td>\n",
       "      <td>15</td>\n",
       "      <td>5</td>\n",
       "      <td>9:25:34 AM</td>\n",
       "      <td>15</td>\n",
       "      <td>5</td>\n",
       "      <td>9:26:05 AM</td>\n",
       "      <td>...</td>\n",
       "      <td>morning</td>\n",
       "      <td>morning</td>\n",
       "      <td>second_quarter</td>\n",
       "      <td>second_quarter</td>\n",
       "      <td>third_quarter</td>\n",
       "      <td>third_quarter</td>\n",
       "      <td>33934</td>\n",
       "      <td>33965</td>\n",
       "      <td>34676</td>\n",
       "      <td>34986</td>\n",
       "    </tr>\n",
       "    <tr>\n",
       "      <th>4</th>\n",
       "      <td>Order_No_27883</td>\n",
       "      <td>User_Id_1737</td>\n",
       "      <td>1</td>\n",
       "      <td>Personal</td>\n",
       "      <td>13</td>\n",
       "      <td>1</td>\n",
       "      <td>9:55:18 AM</td>\n",
       "      <td>13</td>\n",
       "      <td>1</td>\n",
       "      <td>9:56:18 AM</td>\n",
       "      <td>...</td>\n",
       "      <td>morning</td>\n",
       "      <td>morning</td>\n",
       "      <td>fourth_quarter</td>\n",
       "      <td>fourth_quarter</td>\n",
       "      <td>first_quarter</td>\n",
       "      <td>first_quarter</td>\n",
       "      <td>35718</td>\n",
       "      <td>35778</td>\n",
       "      <td>36233</td>\n",
       "      <td>36323</td>\n",
       "    </tr>\n",
       "  </tbody>\n",
       "</table>\n",
       "<p>5 rows × 54 columns</p>\n",
       "</div>"
      ],
      "text/plain": [
       "         Order No       User Id  Platform Type Personal or Business  \\\n",
       "0   Order_No_4211   User_Id_633              3             Business   \n",
       "1  Order_No_25375  User_Id_2285              3             Personal   \n",
       "2   Order_No_1899   User_Id_265              3             Business   \n",
       "3   Order_No_9336  User_Id_1402              3             Business   \n",
       "4  Order_No_27883  User_Id_1737              1             Personal   \n",
       "\n",
       "   Placement - Day of Month  Placement - Weekday (Mo = 1) Placement - Time  \\\n",
       "0                         9                             5       9:35:46 AM   \n",
       "1                        12                             5      11:16:16 AM   \n",
       "2                        30                             2      12:39:25 PM   \n",
       "3                        15                             5       9:25:34 AM   \n",
       "4                        13                             1       9:55:18 AM   \n",
       "\n",
       "   Confirmation - Day of Month  Confirmation - Weekday (Mo = 1)  \\\n",
       "0                            9                                5   \n",
       "1                           12                                5   \n",
       "2                           30                                2   \n",
       "3                           15                                5   \n",
       "4                           13                                1   \n",
       "\n",
       "  Confirmation - Time  ...  Arrival_period  Pickup_period  \\\n",
       "0          9:40:10 AM  ...         morning        morning   \n",
       "1         11:23:21 AM  ...         morning        morning   \n",
       "2         12:42:44 PM  ...       afternoon      afternoon   \n",
       "3          9:26:05 AM  ...         morning        morning   \n",
       "4          9:56:18 AM  ...         morning        morning   \n",
       "\n",
       "  Placement_min_period  Confirmation_min_period  Arrival_min_period  \\\n",
       "0        third_quarter            third_quarter       first_quarter   \n",
       "1       second_quarter           second_quarter       third_quarter   \n",
       "2        third_quarter            third_quarter      fourth_quarter   \n",
       "3       second_quarter           second_quarter       third_quarter   \n",
       "4       fourth_quarter           fourth_quarter       first_quarter   \n",
       "\n",
       "  Pickup_min_period  Placement_time_secs  Confirmation_time_secs  \\\n",
       "0    second_quarter                34546                   34810   \n",
       "1     third_quarter                40576                   41001   \n",
       "2    fourth_quarter                45565                   45764   \n",
       "3     third_quarter                33934                   33965   \n",
       "4     first_quarter                35718                   35778   \n",
       "\n",
       "   Arrival_time_secs  Pickup_time_secs  \n",
       "0              36287             37650  \n",
       "1              42022             42249  \n",
       "2              46174             46383  \n",
       "3              34676             34986  \n",
       "4              36233             36323  \n",
       "\n",
       "[5 rows x 54 columns]"
      ]
     },
     "execution_count": 43,
     "metadata": {},
     "output_type": "execute_result"
    }
   ],
   "source": [
    "train_data.head()"
   ]
  },
  {
   "cell_type": "code",
   "execution_count": 44,
   "metadata": {},
   "outputs": [],
   "source": [
    "train_data['Confirmation - Placement'] = train_data['Confirmation_time_secs'] - train_data['Placement_time_secs']\n",
    "train_data['Arrival - Confirmation'] = train_data['Arrival_time_secs'] - train_data['Confirmation_time_secs']\n",
    "train_data['Pickup - Arrival'] = train_data['Pickup_time_secs'] - train_data['Pickup_time_secs']\n",
    "train_data['Pickup - Confirmation'] = train_data['Pickup_time_secs'] - train_data['Confirmation_time_secs']\n",
    "train_data['Pickup - Placement'] = train_data['Pickup_time_secs'] - train_data['Placement_time_secs']\n",
    "\n",
    "\n",
    "\n",
    "test_data['Confirmation - Placement'] = test_data['Confirmation_time_secs'] - test_data['Placement_time_secs']\n",
    "test_data['Arrival - Confirmation'] = test_data['Arrival_time_secs'] - test_data['Confirmation_time_secs']\n",
    "test_data['Pickup - Arrival'] = test_data['Pickup_time_secs'] - test_data['Pickup_time_secs']\n",
    "test_data['Pickup - Confirmation'] = test_data['Pickup_time_secs'] - test_data['Confirmation_time_secs']\n",
    "test_data['Pickup - Placement'] = test_data['Pickup_time_secs'] - test_data['Placement_time_secs']"
   ]
  },
  {
   "cell_type": "code",
   "execution_count": 45,
   "metadata": {},
   "outputs": [],
   "source": [
    "train_data.drop([\n",
    "    'Placement_hour', 'Placement_min', 'Placement_sec', 'Confirmation_hour', 'Confirmation_min',\n",
    "    'Confirmation_sec', 'Arrival_hour', 'Arrival_min', 'Arrival_sec', 'Pickup_hour', 'Pickup_min',\n",
    "    'Pickup_sec'\n",
    "], axis=1, inplace=True)\n",
    "\n",
    "\n",
    "test_data.drop([\n",
    "    'Placement_hour', 'Placement_min', 'Placement_sec', 'Confirmation_hour', 'Confirmation_min',\n",
    "    'Confirmation_sec', 'Arrival_hour', 'Arrival_min', 'Arrival_sec', 'Pickup_hour', 'Pickup_min',\n",
    "    'Pickup_sec'\n",
    "], axis=1, inplace=True)"
   ]
  },
  {
   "cell_type": "code",
   "execution_count": 46,
   "metadata": {},
   "outputs": [],
   "source": [
    "#train_data.columns"
   ]
  },
  {
   "cell_type": "code",
   "execution_count": 47,
   "metadata": {},
   "outputs": [],
   "source": [
    "train_data['Cyclic_Placement_x'] = train_data['Placement_time_secs'].map(lambda x: math.sin(2*math.pi*x/86400))\n",
    "train_data['Cyclic_Confirmation_x'] = train_data['Confirmation_time_secs'].map(lambda x: math.sin(2*math.pi*x/86400))\n",
    "train_data['Cyclic_Arrival_x'] = train_data['Arrival_time_secs'].map(lambda x: math.sin(2*math.pi*x/86400))\n",
    "train_data['Cyclic_Pickup_x'] = train_data['Pickup_time_secs'].map(lambda x: math.sin(2*math.pi*x/86400))\n",
    "\n",
    "train_data['Cyclic_Placement_y'] = train_data['Placement_time_secs'].map(lambda x: math.cos(2*math.pi*x/86400))\n",
    "train_data['Cyclic_Confirmation_y'] = train_data['Confirmation_time_secs'].map(lambda x: math.cos(2*math.pi*x/86400))\n",
    "train_data['Cyclic_Arrival_y'] = train_data['Arrival_time_secs'].map(lambda x: math.cos(2*math.pi*x/86400))\n",
    "train_data['Cyclic_Pickup_y'] = train_data['Pickup_time_secs'].map(lambda x: math.cos(2*math.pi*x/86400))\n",
    "\n",
    "\n",
    "#---------------------------\n",
    "\n",
    "\n",
    "\n",
    "test_data['Cyclic_Placement_x'] = test_data['Placement_time_secs'].map(lambda x: math.sin(2*math.pi*x/86400))\n",
    "test_data['Cyclic_Confirmation_x'] = test_data['Confirmation_time_secs'].map(lambda x: math.sin(2*math.pi*x/86400))\n",
    "test_data['Cyclic_Arrival_x'] = test_data['Arrival_time_secs'].map(lambda x: math.sin(2*math.pi*x/86400))\n",
    "test_data['Cyclic_Pickup_x'] = test_data['Pickup_time_secs'].map(lambda x: math.sin(2*math.pi*x/86400))\n",
    "\n",
    "test_data['Cyclic_Placement_y'] = test_data['Placement_time_secs'].map(lambda x: math.cos(2*math.pi*x/86400))\n",
    "test_data['Cyclic_Confirmation_y'] = test_data['Confirmation_time_secs'].map(lambda x: math.cos(2*math.pi*x/86400))\n",
    "test_data['Cyclic_Arrival_y'] = test_data['Arrival_time_secs'].map(lambda x: math.cos(2*math.pi*x/86400))\n",
    "test_data['Cyclic_Pickup_y'] = test_data['Pickup_time_secs'].map(lambda x: math.cos(2*math.pi*x/86400))"
   ]
  },
  {
   "cell_type": "code",
   "execution_count": 48,
   "metadata": {},
   "outputs": [],
   "source": [
    "#train_data.columns"
   ]
  },
  {
   "cell_type": "code",
   "execution_count": 49,
   "metadata": {},
   "outputs": [],
   "source": [
    "train_data.drop([\n",
    "    'Placement_time_secs', 'Confirmation_time_secs', 'Arrival_time_secs', 'Pickup_time_secs'\n",
    "], axis=1, inplace=True)\n",
    "\n",
    "test_data.drop([\n",
    "    'Placement_time_secs', 'Confirmation_time_secs', 'Arrival_time_secs', 'Pickup_time_secs'\n",
    "], axis=1, inplace=True)"
   ]
  },
  {
   "cell_type": "code",
   "execution_count": 50,
   "metadata": {},
   "outputs": [],
   "source": [
    "#train_data.columns"
   ]
  },
  {
   "cell_type": "code",
   "execution_count": 51,
   "metadata": {},
   "outputs": [],
   "source": [
    "train_data['Cyclic_Confirmation_Placement_x'] = train_data['Confirmation - Placement'].map(lambda x: math.sin(2*math.pi*x/86400))\n",
    "train_data['Cyclic_Arrival_Confirmation_x'] = train_data['Arrival - Confirmation'].map(lambda x: math.sin(2*math.pi*x/86400))\n",
    "train_data['Cyclic_Pickup_Arrival_x'] = train_data['Pickup - Arrival'].map(lambda x: math.sin(2*math.pi*x/86400))\n",
    "train_data['Cyclic_Pickup_Confirmation_x'] = train_data['Pickup - Confirmation'].map(lambda x: math.sin(2*math.pi*x/86400))\n",
    "train_data['Cyclic_Pickup_Placement_x'] = train_data['Pickup - Placement'].map(lambda x: math.sin(2*math.pi*x/86400))\n",
    "\n",
    "train_data['Cyclic_Confirmation_Placement_y'] = train_data['Confirmation - Placement'].map(lambda x: math.cos(2*math.pi*x/86400))\n",
    "train_data['Cyclic_Arrival_Confirmation_y'] = train_data['Arrival - Confirmation'].map(lambda x: math.cos(2*math.pi*x/86400))\n",
    "train_data['Cyclic_Pickup_Arrival_y'] = train_data['Pickup - Arrival'].map(lambda x: math.cos(2*math.pi*x/86400))\n",
    "train_data['Cyclic_Pickup_Confirmation_y'] = train_data['Pickup - Confirmation'].map(lambda x: math.cos(2*math.pi*x/86400))\n",
    "train_data['Cyclic_Pickup_Placement_y'] = train_data['Pickup - Placement'].map(lambda x: math.cos(2*math.pi*x/86400))\n",
    "\n",
    "\n",
    "#-------------------\n",
    "\n",
    "\n",
    "\n",
    "test_data['Cyclic_Confirmation_Placement_x'] = test_data['Confirmation - Placement'].map(lambda x: math.sin(2*math.pi*x/86400))\n",
    "test_data['Cyclic_Arrival_Confirmation_x'] = test_data['Arrival - Confirmation'].map(lambda x: math.sin(2*math.pi*x/86400))\n",
    "test_data['Cyclic_Pickup_Arrival_x'] = test_data['Pickup - Arrival'].map(lambda x: math.sin(2*math.pi*x/86400))\n",
    "test_data['Cyclic_Pickup_Confirmation_x'] = test_data['Pickup - Confirmation'].map(lambda x: math.sin(2*math.pi*x/86400))\n",
    "test_data['Cyclic_Pickup_Placement_x'] = test_data['Pickup - Placement'].map(lambda x: math.sin(2*math.pi*x/86400))\n",
    "\n",
    "test_data['Cyclic_Confirmation_Placement_y'] = test_data['Confirmation - Placement'].map(lambda x: math.cos(2*math.pi*x/86400))\n",
    "test_data['Cyclic_Arrival_Confirmation_y'] = test_data['Arrival - Confirmation'].map(lambda x: math.cos(2*math.pi*x/86400))\n",
    "test_data['Cyclic_Pickup_Arrival_y'] = test_data['Pickup - Arrival'].map(lambda x: math.cos(2*math.pi*x/86400))\n",
    "test_data['Cyclic_Pickup_Confirmation_y'] = test_data['Pickup - Confirmation'].map(lambda x: math.cos(2*math.pi*x/86400))\n",
    "test_data['Cyclic_Pickup_Placement_y'] = test_data['Pickup - Placement'].map(lambda x: math.cos(2*math.pi*x/86400))"
   ]
  },
  {
   "cell_type": "code",
   "execution_count": 52,
   "metadata": {},
   "outputs": [],
   "source": [
    "#train_data.columns"
   ]
  },
  {
   "cell_type": "code",
   "execution_count": 53,
   "metadata": {},
   "outputs": [],
   "source": [
    "train_data.drop([\n",
    "    'Confirmation - Placement', 'Arrival - Confirmation', 'Pickup - Arrival', 'Pickup - Confirmation',\n",
    "    'Pickup - Placement'\n",
    "], axis=1, inplace=True)\n",
    "\n",
    "\n",
    "test_data.drop([\n",
    "    'Confirmation - Placement', 'Arrival - Confirmation', 'Pickup - Arrival', 'Pickup - Confirmation',\n",
    "    'Pickup - Placement'\n",
    "], axis=1, inplace=True)"
   ]
  },
  {
   "cell_type": "code",
   "execution_count": 54,
   "metadata": {},
   "outputs": [
    {
     "data": {
      "text/plain": [
       "Index(['Order No', 'User Id', 'Platform Type', 'Personal or Business',\n",
       "       'Placement - Day of Month', 'Placement - Weekday (Mo = 1)',\n",
       "       'Placement - Time', 'Confirmation - Day of Month',\n",
       "       'Confirmation - Weekday (Mo = 1)', 'Confirmation - Time',\n",
       "       'Arrival at Pickup - Day of Month',\n",
       "       'Arrival at Pickup - Weekday (Mo = 1)', 'Arrival at Pickup - Time',\n",
       "       'Pickup - Day of Month', 'Pickup - Weekday (Mo = 1)', 'Pickup - Time',\n",
       "       'Distance (KM)', 'Temperature', 'Precipitation in millimeters',\n",
       "       'Pickup Lat', 'Pickup Long', 'Destination Lat', 'Destination Long',\n",
       "       'Rider Id', 'Time from Pickup to Arrival', 'No_of_Orders_per_User',\n",
       "       'Week_of_Placement', 'Week_of_Confirmation', 'Week_of_Arrival',\n",
       "       'Week_of_Pickup', 'Placement_period', 'Confirmation_period',\n",
       "       'Arrival_period', 'Pickup_period', 'Placement_min_period',\n",
       "       'Confirmation_min_period', 'Arrival_min_period', 'Pickup_min_period',\n",
       "       'Cyclic_Placement_x', 'Cyclic_Confirmation_x', 'Cyclic_Arrival_x',\n",
       "       'Cyclic_Pickup_x', 'Cyclic_Placement_y', 'Cyclic_Confirmation_y',\n",
       "       'Cyclic_Arrival_y', 'Cyclic_Pickup_y',\n",
       "       'Cyclic_Confirmation_Placement_x', 'Cyclic_Arrival_Confirmation_x',\n",
       "       'Cyclic_Pickup_Arrival_x', 'Cyclic_Pickup_Confirmation_x',\n",
       "       'Cyclic_Pickup_Placement_x', 'Cyclic_Confirmation_Placement_y',\n",
       "       'Cyclic_Arrival_Confirmation_y', 'Cyclic_Pickup_Arrival_y',\n",
       "       'Cyclic_Pickup_Confirmation_y', 'Cyclic_Pickup_Placement_y'],\n",
       "      dtype='object')"
      ]
     },
     "execution_count": 54,
     "metadata": {},
     "output_type": "execute_result"
    }
   ],
   "source": [
    "train_data.columns"
   ]
  },
  {
   "cell_type": "code",
   "execution_count": 55,
   "metadata": {},
   "outputs": [],
   "source": [
    "train_data = train_data.rename(columns={\n",
    "    'Pickup Lat' : 'lat1', 'Pickup Long' : 'lng1', \n",
    "    'Destination Lat' : 'lat2', 'Destination Long' : 'lng2'\n",
    "})\n",
    "\n",
    "test_data = test_data.rename(columns={\n",
    "    'Pickup Lat' : 'lat1', 'Pickup Long' : 'lng1', \n",
    "    'Destination Lat' : 'lat2', 'Destination Long' : 'lng2'\n",
    "})"
   ]
  },
  {
   "cell_type": "code",
   "execution_count": 56,
   "metadata": {},
   "outputs": [],
   "source": [
    "#A. Haversine Distance Between the Two Lat/Lons:\n",
    "\n",
    "def haversine_array(lat1, lng1, lat2, lng2):\n",
    "    lat1, lng1, lat2, lng2 = map(np.radians, (lat1, lng1, lat2, lng2))\n",
    "    AVG_EARTH_RADIUS = 6371  # in km\n",
    "    lat = lat2 - lat1\n",
    "    lng = lng2 - lng1\n",
    "    d = np.sin(lat * 0.5) ** 2 + np.cos(lat1) * np.cos(lat2) * np.sin(lng * 0.5) ** 2\n",
    "    h = 2 * AVG_EARTH_RADIUS * np.arcsin(np.sqrt(d))\n",
    "    return h\n",
    "\n",
    "train_data['Haversine_Distance'] = haversine_array(**train_data[['lat1', 'lng1', 'lat2', 'lng2']])\n",
    "test_data['Haversine_Distance'] = haversine_array(**test_data[['lat1', 'lng1', 'lat2', 'lng2']])"
   ]
  },
  {
   "cell_type": "code",
   "execution_count": 57,
   "metadata": {},
   "outputs": [],
   "source": [
    "#B. Manhattan Distance Between the two Lat/Lons:\n",
    "\n",
    "def dummy_manhattan_distance(lat1, lng1, lat2, lng2):\n",
    "    a = haversine_array(lat1, lng1, lat1, lng2)\n",
    "    b = haversine_array(lat1, lng1, lat2, lng1)\n",
    "    return a + b\n",
    "\n",
    "train_data['Manhattan_Distance'] = dummy_manhattan_distance(**train_data[['lat1', 'lng1', 'lat2', 'lng2']])\n",
    "test_data['Manhattan_Distance'] = dummy_manhattan_distance(**test_data[['lat1', 'lng1', 'lat2', 'lng2']])"
   ]
  },
  {
   "cell_type": "code",
   "execution_count": 58,
   "metadata": {},
   "outputs": [],
   "source": [
    "#C. Bearing Between the two Lat/Lons:\n",
    "\n",
    "def bearing_array(lat1, lng1, lat2, lng2):\n",
    "    AVG_EARTH_RADIUS = 6371  # in km\n",
    "    lng_delta_rad = np.radians(lng2 - lng1)\n",
    "    lat1, lng1, lat2, lng2 = map(np.radians, (lat1, lng1, lat2, lng2))\n",
    "    y = np.sin(lng_delta_rad) * np.cos(lat2)\n",
    "    x = np.cos(lat1) * np.sin(lat2) - np.sin(lat1) * np.cos(lat2) * np.cos(lng_delta_rad)\n",
    "    return np.degrees(np.arctan2(y, x))\n",
    "\n",
    "train_data['Bearing'] = bearing_array(**train_data[['lat1', 'lng1', 'lat2', 'lng2']])\n",
    "test_data['Bearing'] = bearing_array(**test_data[['lat1', 'lng1', 'lat2', 'lng2']])"
   ]
  },
  {
   "cell_type": "code",
   "execution_count": 59,
   "metadata": {},
   "outputs": [],
   "source": [
    "#D. ---- Center Latitude and Longitude between Pickup and Dropoff:\n",
    "\n",
    "train_data.loc[:, 'center_latitude'] = (train_data['lat1'].values + train_data['lat2'].values) / 2\n",
    "train_data.loc[:, 'center_longitude'] = (train_data['lng1'].values + train_data['lng2'].values) / 2\n",
    "\n",
    "\n",
    "test_data.loc[:, 'center_latitude'] = (test_data['lat1'].values + test_data['lat2'].values) / 2\n",
    "test_data.loc[:, 'center_longitude'] = (test_data['lng1'].values + test_data['lng2'].values) / 2"
   ]
  },
  {
   "cell_type": "code",
   "execution_count": 60,
   "metadata": {},
   "outputs": [],
   "source": [
    "#E. ---X, Y, Z???\n",
    "\n",
    "\n",
    "train_data['X-coord_Pickup'] = np.cos(train_data['lat1']) * np.cos(train_data['lng1'])\n",
    "train_data['Y-coord-Pickup'] = np.cos(train_data['lat1']) * np.sin(train_data['lng1'])\n",
    "train_data['Z-coord-Pickup'] = np.sin(train_data['lat1'])\n",
    "\n",
    "test_data['X-coord_Pickup'] = np.cos(test_data['lat1']) * np.cos(test_data['lng1'])\n",
    "test_data['Y-coord-Pickup'] = np.cos(test_data['lat1']) * np.sin(test_data['lng1'])\n",
    "test_data['Z-coord-Pickup'] = np.sin(test_data['lat1'])\n",
    "\n",
    "\n",
    "#------------------------------------------\n",
    "\n",
    "\n",
    "train_data['X-coord_Dest.'] = np.cos(train_data['lat2']) * np.cos(train_data['lng2'])\n",
    "train_data['Y-coord-Dest.'] = np.cos(train_data['lat2']) * np.sin(train_data['lng2'])\n",
    "train_data['Z-coord-Dest.'] = np.sin(train_data['lat2'])\n",
    "\n",
    "test_data['X-coord_Dest.'] = np.cos(test_data['lat2']) * np.cos(test_data['lng2'])\n",
    "test_data['Y-coord-Dest.'] = np.cos(test_data['lat2']) * np.sin(test_data['lng2'])\n",
    "test_data['Z-coord-Dest.'] = np.sin(test_data['lat2'])"
   ]
  },
  {
   "cell_type": "code",
   "execution_count": 61,
   "metadata": {},
   "outputs": [],
   "source": [
    "#train_data.head()"
   ]
  },
  {
   "cell_type": "code",
   "execution_count": 62,
   "metadata": {},
   "outputs": [],
   "source": [
    "#train_data[['Distance (KM)', 'Haversine_Distance', 'Manhattan_Distance']]"
   ]
  },
  {
   "cell_type": "code",
   "execution_count": 63,
   "metadata": {},
   "outputs": [],
   "source": [
    "#F. Lat-Long\n",
    "\n",
    "train_data['latlng1'] = train_data['lat1'] + train_data['lng1']\n",
    "train_data['latlng2'] = train_data['lat2'] + train_data['lng2']\n",
    "\n",
    "\n",
    "test_data['latlng1'] = test_data['lat1'] + test_data['lng1']\n",
    "test_data['latlng2'] = test_data['lat2'] + test_data['lng2']"
   ]
  },
  {
   "cell_type": "code",
   "execution_count": null,
   "metadata": {},
   "outputs": [],
   "source": []
  },
  {
   "cell_type": "code",
   "execution_count": 64,
   "metadata": {},
   "outputs": [
    {
     "data": {
      "text/plain": [
       "Index(['Order No', 'User Id', 'Platform Type', 'Personal or Business',\n",
       "       'Placement - Day of Month', 'Placement - Weekday (Mo = 1)',\n",
       "       'Placement - Time', 'Confirmation - Day of Month',\n",
       "       'Confirmation - Weekday (Mo = 1)', 'Confirmation - Time',\n",
       "       'Arrival at Pickup - Day of Month',\n",
       "       'Arrival at Pickup - Weekday (Mo = 1)', 'Arrival at Pickup - Time',\n",
       "       'Pickup - Day of Month', 'Pickup - Weekday (Mo = 1)', 'Pickup - Time',\n",
       "       'Distance (KM)', 'Temperature', 'Precipitation in millimeters', 'lat1',\n",
       "       'lng1', 'lat2', 'lng2', 'Rider Id', 'Time from Pickup to Arrival',\n",
       "       'No_of_Orders_per_User', 'Week_of_Placement', 'Week_of_Confirmation',\n",
       "       'Week_of_Arrival', 'Week_of_Pickup', 'Placement_period',\n",
       "       'Confirmation_period', 'Arrival_period', 'Pickup_period',\n",
       "       'Placement_min_period', 'Confirmation_min_period', 'Arrival_min_period',\n",
       "       'Pickup_min_period', 'Cyclic_Placement_x', 'Cyclic_Confirmation_x',\n",
       "       'Cyclic_Arrival_x', 'Cyclic_Pickup_x', 'Cyclic_Placement_y',\n",
       "       'Cyclic_Confirmation_y', 'Cyclic_Arrival_y', 'Cyclic_Pickup_y',\n",
       "       'Cyclic_Confirmation_Placement_x', 'Cyclic_Arrival_Confirmation_x',\n",
       "       'Cyclic_Pickup_Arrival_x', 'Cyclic_Pickup_Confirmation_x',\n",
       "       'Cyclic_Pickup_Placement_x', 'Cyclic_Confirmation_Placement_y',\n",
       "       'Cyclic_Arrival_Confirmation_y', 'Cyclic_Pickup_Arrival_y',\n",
       "       'Cyclic_Pickup_Confirmation_y', 'Cyclic_Pickup_Placement_y',\n",
       "       'Haversine_Distance', 'Manhattan_Distance', 'Bearing',\n",
       "       'center_latitude', 'center_longitude', 'X-coord_Pickup',\n",
       "       'Y-coord-Pickup', 'Z-coord-Pickup', 'X-coord_Dest.', 'Y-coord-Dest.',\n",
       "       'Z-coord-Dest.', 'latlng1', 'latlng2'],\n",
       "      dtype='object')"
      ]
     },
     "execution_count": 64,
     "metadata": {},
     "output_type": "execute_result"
    }
   ],
   "source": [
    "train_data.columns"
   ]
  },
  {
   "cell_type": "code",
   "execution_count": 65,
   "metadata": {},
   "outputs": [
    {
     "data": {
      "text/plain": [
       "((array([-3.9924755 , -3.77701968, -3.6591535 , ...,  3.6591535 ,\n",
       "          3.77701968,  3.9924755 ]),\n",
       "  array([ 1,  1,  1, ..., 46, 48, 49], dtype=int64)),\n",
       " (5.454922807448605, 9.506532710721194, 0.9620919246776083))"
      ]
     },
     "execution_count": 65,
     "metadata": {},
     "output_type": "execute_result"
    },
    {
     "data": {
      "image/png": "[encoded data removed]",
      "text/plain": [
       "<Figure size 360x216 with 2 Axes>"
      ]
     },
     "metadata": {
      "needs_background": "light"
     },
     "output_type": "display_data"
    }
   ],
   "source": [
    "fig, ax = plt.subplots(nrows=1, ncols=2, figsize=(16, 4))\n",
    "\n",
    "ax1 = train_data['Distance (KM)'].hist(figsize=(5, 3), ax=ax[0])\n",
    "\n",
    "ax2 = ax[1]\n",
    "stats.probplot(train_data['Distance (KM)'], plot = ax2)\n",
    "#ax2.set_title('', size=18)"
   ]
  },
  {
   "cell_type": "code",
   "execution_count": 66,
   "metadata": {},
   "outputs": [
    {
     "data": {
      "text/plain": [
       "((array([-3.9924755 , -3.77701968, -3.6591535 , ...,  3.6591535 ,\n",
       "          3.77701968,  3.9924755 ]),\n",
       "  array([1.        , 1.        , 1.        , ..., 2.15056001, 2.16894354,\n",
       "         2.17790642])),\n",
       " (0.19099964510996684, 1.5233677363315952, 0.9951741992843194))"
      ]
     },
     "execution_count": 66,
     "metadata": {},
     "output_type": "execute_result"
    },
    {
     "data": {
      "image/png": "[encoded data removed]",
      "text/plain": [
       "<Figure size 360x216 with 2 Axes>"
      ]
     },
     "metadata": {
      "needs_background": "light"
     },
     "output_type": "display_data"
    }
   ],
   "source": [
    "fig, ax = plt.subplots(nrows=1, ncols=2, figsize=(16, 4))\n",
    "\n",
    "ax1 = (train_data['Distance (KM)']**(1/5)).hist(figsize=(5, 3), ax=ax[0])\n",
    "\n",
    "ax2 = ax[1]\n",
    "stats.probplot((train_data['Distance (KM)']**(1/5)), plot = ax2)\n",
    "#ax2.set_title('', size=18)"
   ]
  },
  {
   "cell_type": "code",
   "execution_count": 67,
   "metadata": {},
   "outputs": [],
   "source": [
    "train_data['Distance (KM)'] = train_data['Distance (KM)']**(1/5)\n",
    "test_data['Distance (KM)'] = test_data['Distance (KM)']**(1/5)"
   ]
  },
  {
   "cell_type": "code",
   "execution_count": 68,
   "metadata": {},
   "outputs": [],
   "source": [
    "#(test_data['Haversine_Distance']**(1/3)).hist()\n",
    "\n",
    "train_data['Haversine_Distance'] = train_data['Haversine_Distance']**(1/3)\n",
    "test_data['Haversine_Distance'] = test_data['Haversine_Distance']**(1/3)\n",
    "\n",
    "train_data['Manhattan_Distance'] = train_data['Manhattan_Distance']**(1/3)\n",
    "test_data['Manhattan_Distance'] = test_data['Manhattan_Distance']**(1/3)"
   ]
  },
  {
   "cell_type": "code",
   "execution_count": null,
   "metadata": {},
   "outputs": [],
   "source": []
  },
  {
   "cell_type": "code",
   "execution_count": 69,
   "metadata": {},
   "outputs": [],
   "source": [
    "train_data['Platform Type'] = train_data['Platform Type'].astype(str)\n",
    "test_data['Platform Type'] = test_data['Platform Type'].astype(str)"
   ]
  },
  {
   "cell_type": "code",
   "execution_count": 70,
   "metadata": {},
   "outputs": [],
   "source": [
    "train_data['Placement_Day_x'] = train_data['Placement - Day of Month'].map(lambda x: math.sin(2*math.pi*x/31))\n",
    "train_data['Confirmation_Day_x'] = train_data['Confirmation - Day of Month'].map(lambda x: math.sin(2*math.pi*x/31))\n",
    "train_data['Pickup_Day_x'] = train_data['Pickup - Day of Month'].map(lambda x: math.sin(2*math.pi*x/31))\n",
    "train_data['Arrival_Day_x'] = train_data['Arrival at Pickup - Day of Month'].map(lambda x: math.sin(2*math.pi*x/31))\n",
    "\n",
    "\n",
    "train_data['Placement_Day_y'] = train_data['Placement - Day of Month'].map(lambda x: math.cos(2*math.pi*x/31))\n",
    "train_data['Confirmation_Day_y'] = train_data['Confirmation - Day of Month'].map(lambda x: math.cos(2*math.pi*x/31))\n",
    "train_data['Pickup_Day_y'] = train_data['Pickup - Day of Month'].map(lambda x: math.cos(2*math.pi*x/31))\n",
    "train_data['Arrival_Day_y'] = train_data['Arrival at Pickup - Day of Month'].map(lambda x: math.cos(2*math.pi*x/31))\n",
    "\n",
    "\n",
    "#-------------------\n",
    "\n",
    "\n",
    "\n",
    "test_data['Placement_Day_x'] = test_data['Placement - Day of Month'].map(lambda x: math.sin(2*math.pi*x/31))\n",
    "test_data['Confirmation_Day_x'] = test_data['Confirmation - Day of Month'].map(lambda x: math.sin(2*math.pi*x/31))\n",
    "test_data['Pickup_Day_x'] = test_data['Pickup - Day of Month'].map(lambda x: math.sin(2*math.pi*x/31))\n",
    "test_data['Arrival_Day_x'] = test_data['Arrival at Pickup - Day of Month'].map(lambda x: math.sin(2*math.pi*x/31))\n",
    "\n",
    "\n",
    "test_data['Placement_Day_y'] = test_data['Placement - Day of Month'].map(lambda x: math.cos(2*math.pi*x/31))\n",
    "test_data['Confirmation_Day_y'] = test_data['Confirmation - Day of Month'].map(lambda x: math.cos(2*math.pi*x/31))\n",
    "test_data['Pickup_Day_y'] = test_data['Pickup - Day of Month'].map(lambda x: math.cos(2*math.pi*x/31))\n",
    "test_data['Arrival_Day_y'] = test_data['Arrival at Pickup - Day of Month'].map(lambda x: math.cos(2*math.pi*x/31))"
   ]
  },
  {
   "cell_type": "code",
   "execution_count": 71,
   "metadata": {},
   "outputs": [],
   "source": [
    "train_data['Placement_WDay_x'] = train_data['Placement - Weekday (Mo = 1)'].map(lambda x: math.sin(2*math.pi*x/7))\n",
    "train_data['Confirmation_WDay_x'] = train_data['Confirmation - Weekday (Mo = 1)'].map(lambda x: math.sin(2*math.pi*x/7))\n",
    "train_data['Pickup_WDay_x'] = train_data['Pickup - Weekday (Mo = 1)'].map(lambda x: math.sin(2*math.pi*x/7))\n",
    "train_data['Arrival_WDay_x'] = train_data['Arrival at Pickup - Weekday (Mo = 1)'].map(lambda x: math.sin(2*math.pi*x/7))\n",
    "\n",
    "\n",
    "train_data['Placement_WDay_y'] = train_data['Placement - Weekday (Mo = 1)'].map(lambda x: math.cos(2*math.pi*x/7))\n",
    "train_data['Confirmation_WDay_y'] = train_data['Confirmation - Weekday (Mo = 1)'].map(lambda x: math.cos(2*math.pi*x/7))\n",
    "train_data['Pickup_WDay_y'] = train_data['Pickup - Weekday (Mo = 1)'].map(lambda x: math.cos(2*math.pi*x/7))\n",
    "train_data['Arrival_WDay_y'] = train_data['Arrival at Pickup - Weekday (Mo = 1)'].map(lambda x: math.cos(2*math.pi*x/7))\n",
    "\n",
    "\n",
    "#-------------------\n",
    "\n",
    "\n",
    "\n",
    "test_data['Placement_WDay_x'] = test_data['Placement - Weekday (Mo = 1)'].map(lambda x: math.sin(2*math.pi*x/7))\n",
    "test_data['Confirmation_WDay_x'] = test_data['Confirmation - Weekday (Mo = 1)'].map(lambda x: math.sin(2*math.pi*x/7))\n",
    "test_data['Pickup_WDay_x'] = test_data['Pickup - Weekday (Mo = 1)'].map(lambda x: math.sin(2*math.pi*x/7))\n",
    "test_data['Arrival_WDay_x'] = test_data['Arrival at Pickup - Weekday (Mo = 1)'].map(lambda x: math.sin(2*math.pi*x/7))\n",
    "\n",
    "\n",
    "test_data['Placement_WDay_y'] = test_data['Placement - Weekday (Mo = 1)'].map(lambda x: math.cos(2*math.pi*x/7))\n",
    "test_data['Confirmation_WDay_y'] = test_data['Confirmation - Weekday (Mo = 1)'].map(lambda x: math.cos(2*math.pi*x/7))\n",
    "test_data['Pickup_WDay_y'] = test_data['Pickup - Weekday (Mo = 1)'].map(lambda x: math.cos(2*math.pi*x/7))\n",
    "test_data['Arrival_WDay_y'] = test_data['Arrival at Pickup - Weekday (Mo = 1)'].map(lambda x: math.cos(2*math.pi*x/7))"
   ]
  },
  {
   "cell_type": "code",
   "execution_count": 72,
   "metadata": {},
   "outputs": [
    {
     "data": {
      "text/plain": [
       "(21201, 85)"
      ]
     },
     "execution_count": 72,
     "metadata": {},
     "output_type": "execute_result"
    }
   ],
   "source": [
    "train_data.shape"
   ]
  },
  {
   "cell_type": "code",
   "execution_count": 73,
   "metadata": {},
   "outputs": [],
   "source": [
    "#train_data.columns[-30:]"
   ]
  },
  {
   "cell_type": "code",
   "execution_count": 74,
   "metadata": {},
   "outputs": [
    {
     "data": {
      "text/plain": [
       "Index(['Order No', 'User Id', 'Platform Type', 'Personal or Business',\n",
       "       'Placement - Time', 'Confirmation - Time', 'Arrival at Pickup - Time',\n",
       "       'Pickup - Time', 'Rider Id', 'Week_of_Placement',\n",
       "       'Week_of_Confirmation', 'Week_of_Arrival', 'Week_of_Pickup',\n",
       "       'Placement_period', 'Confirmation_period', 'Arrival_period',\n",
       "       'Pickup_period', 'Placement_min_period', 'Confirmation_min_period',\n",
       "       'Arrival_min_period', 'Pickup_min_period'],\n",
       "      dtype='object')"
      ]
     },
     "execution_count": 74,
     "metadata": {},
     "output_type": "execute_result"
    }
   ],
   "source": [
    "train_data.select_dtypes(include='object').columns"
   ]
  },
  {
   "cell_type": "code",
   "execution_count": 75,
   "metadata": {},
   "outputs": [],
   "source": [
    "train_data.drop([\n",
    "    'Order No', 'User Id', 'Placement - Time', 'Confirmation - Time', 'Arrival at Pickup - Time', 'Pickup - Time',\n",
    "    'Week_of_Placement', 'Week_of_Confirmation', 'Week_of_Arrival', 'Week_of_Pickup', 'Placement - Day of Month', 'Placement - Weekday (Mo = 1)',\n",
    "       'Confirmation - Day of Month', 'Confirmation - Weekday (Mo = 1)',\n",
    "       'Arrival at Pickup - Day of Month',\n",
    "       'Arrival at Pickup - Weekday (Mo = 1)', 'Pickup - Day of Month',\n",
    "       'Pickup - Weekday (Mo = 1)'\n",
    "], axis=1, inplace=True)\n",
    "\n",
    "orderNo = test_data['Order No']\n",
    "test_data.drop([\n",
    "    'Order No', 'User Id', 'Placement - Time', 'Confirmation - Time', 'Arrival at Pickup - Time', 'Pickup - Time',\n",
    "    'Week_of_Placement', 'Week_of_Confirmation', 'Week_of_Arrival', 'Week_of_Pickup', 'Placement - Day of Month', 'Placement - Weekday (Mo = 1)',\n",
    "       'Confirmation - Day of Month', 'Confirmation - Weekday (Mo = 1)',\n",
    "       'Arrival at Pickup - Day of Month',\n",
    "       'Arrival at Pickup - Weekday (Mo = 1)', 'Pickup - Day of Month',\n",
    "       'Pickup - Weekday (Mo = 1)'\n",
    "], axis=1, inplace=True)"
   ]
  },
  {
   "cell_type": "code",
   "execution_count": 76,
   "metadata": {},
   "outputs": [
    {
     "data": {
      "text/plain": [
       "Index(['Platform Type', 'Personal or Business', 'Distance (KM)', 'Temperature',\n",
       "       'Precipitation in millimeters', 'lat1', 'lng1', 'lat2', 'lng2',\n",
       "       'Rider Id', 'Time from Pickup to Arrival', 'No_of_Orders_per_User',\n",
       "       'Placement_period', 'Confirmation_period', 'Arrival_period',\n",
       "       'Pickup_period', 'Placement_min_period', 'Confirmation_min_period',\n",
       "       'Arrival_min_period', 'Pickup_min_period', 'Cyclic_Placement_x',\n",
       "       'Cyclic_Confirmation_x', 'Cyclic_Arrival_x', 'Cyclic_Pickup_x',\n",
       "       'Cyclic_Placement_y', 'Cyclic_Confirmation_y', 'Cyclic_Arrival_y',\n",
       "       'Cyclic_Pickup_y', 'Cyclic_Confirmation_Placement_x',\n",
       "       'Cyclic_Arrival_Confirmation_x', 'Cyclic_Pickup_Arrival_x',\n",
       "       'Cyclic_Pickup_Confirmation_x', 'Cyclic_Pickup_Placement_x',\n",
       "       'Cyclic_Confirmation_Placement_y', 'Cyclic_Arrival_Confirmation_y',\n",
       "       'Cyclic_Pickup_Arrival_y', 'Cyclic_Pickup_Confirmation_y',\n",
       "       'Cyclic_Pickup_Placement_y', 'Haversine_Distance', 'Manhattan_Distance',\n",
       "       'Bearing', 'center_latitude', 'center_longitude', 'X-coord_Pickup',\n",
       "       'Y-coord-Pickup', 'Z-coord-Pickup', 'X-coord_Dest.', 'Y-coord-Dest.',\n",
       "       'Z-coord-Dest.', 'latlng1', 'latlng2', 'Placement_Day_x',\n",
       "       'Confirmation_Day_x', 'Pickup_Day_x', 'Arrival_Day_x',\n",
       "       'Placement_Day_y', 'Confirmation_Day_y', 'Pickup_Day_y',\n",
       "       'Arrival_Day_y', 'Placement_WDay_x', 'Confirmation_WDay_x',\n",
       "       'Pickup_WDay_x', 'Arrival_WDay_x', 'Placement_WDay_y',\n",
       "       'Confirmation_WDay_y', 'Pickup_WDay_y', 'Arrival_WDay_y'],\n",
       "      dtype='object')"
      ]
     },
     "execution_count": 76,
     "metadata": {},
     "output_type": "execute_result"
    }
   ],
   "source": [
    "train_data.columns"
   ]
  },
  {
   "cell_type": "code",
   "execution_count": 77,
   "metadata": {},
   "outputs": [
    {
     "data": {
      "text/plain": [
       "(21201, 67)"
      ]
     },
     "execution_count": 77,
     "metadata": {},
     "output_type": "execute_result"
    }
   ],
   "source": [
    "train_data.shape"
   ]
  },
  {
   "cell_type": "code",
   "execution_count": null,
   "metadata": {},
   "outputs": [],
   "source": []
  },
  {
   "cell_type": "code",
   "execution_count": 78,
   "metadata": {},
   "outputs": [],
   "source": [
    "train_data = pd.merge(train_data, riders, on='Rider Id', how='left')\n",
    "test_data = pd.merge(test_data, riders, on='Rider Id', how='left')"
   ]
  },
  {
   "cell_type": "code",
   "execution_count": 79,
   "metadata": {},
   "outputs": [
    {
     "data": {
      "text/plain": [
       "Index(['Platform Type', 'Personal or Business', 'Rider Id', 'Placement_period',\n",
       "       'Confirmation_period', 'Arrival_period', 'Pickup_period',\n",
       "       'Placement_min_period', 'Confirmation_min_period', 'Arrival_min_period',\n",
       "       'Pickup_min_period'],\n",
       "      dtype='object')"
      ]
     },
     "execution_count": 79,
     "metadata": {},
     "output_type": "execute_result"
    }
   ],
   "source": [
    "train_data.select_dtypes(include='object').columns"
   ]
  },
  {
   "cell_type": "code",
   "execution_count": 80,
   "metadata": {},
   "outputs": [],
   "source": [
    "train_data.drop('Rider Id', axis=1, inplace=True)\n",
    "test_data.drop('Rider Id', axis=1, inplace=True)"
   ]
  },
  {
   "cell_type": "code",
   "execution_count": 81,
   "metadata": {},
   "outputs": [
    {
     "data": {
      "text/html": [
       "<div>\n",
       "<style scoped>\n",
       "    .dataframe tbody tr th:only-of-type {\n",
       "        vertical-align: middle;\n",
       "    }\n",
       "\n",
       "    .dataframe tbody tr th {\n",
       "        vertical-align: top;\n",
       "    }\n",
       "\n",
       "    .dataframe thead th {\n",
       "        text-align: right;\n",
       "    }\n",
       "</style>\n",
       "<table border=\"1\" class=\"dataframe\">\n",
       "  <thead>\n",
       "    <tr style=\"text-align: right;\">\n",
       "      <th></th>\n",
       "      <th>Platform Type</th>\n",
       "      <th>Personal or Business</th>\n",
       "      <th>Distance (KM)</th>\n",
       "      <th>Temperature</th>\n",
       "      <th>Precipitation in millimeters</th>\n",
       "      <th>lat1</th>\n",
       "      <th>lng1</th>\n",
       "      <th>lat2</th>\n",
       "      <th>lng2</th>\n",
       "      <th>Time from Pickup to Arrival</th>\n",
       "      <th>...</th>\n",
       "      <th>Pickup_WDay_x</th>\n",
       "      <th>Arrival_WDay_x</th>\n",
       "      <th>Placement_WDay_y</th>\n",
       "      <th>Confirmation_WDay_y</th>\n",
       "      <th>Pickup_WDay_y</th>\n",
       "      <th>Arrival_WDay_y</th>\n",
       "      <th>No_Of_Orders</th>\n",
       "      <th>Age</th>\n",
       "      <th>Average_Rating</th>\n",
       "      <th>No_of_Ratings</th>\n",
       "    </tr>\n",
       "  </thead>\n",
       "  <tbody>\n",
       "    <tr>\n",
       "      <th>0</th>\n",
       "      <td>3</td>\n",
       "      <td>Business</td>\n",
       "      <td>1.319508</td>\n",
       "      <td>20.400000</td>\n",
       "      <td>0.0</td>\n",
       "      <td>-1.317755</td>\n",
       "      <td>36.830370</td>\n",
       "      <td>-1.300406</td>\n",
       "      <td>36.829741</td>\n",
       "      <td>745</td>\n",
       "      <td>...</td>\n",
       "      <td>-0.974928</td>\n",
       "      <td>-0.974928</td>\n",
       "      <td>-0.222521</td>\n",
       "      <td>-0.222521</td>\n",
       "      <td>-0.222521</td>\n",
       "      <td>-0.222521</td>\n",
       "      <td>1637</td>\n",
       "      <td>1309</td>\n",
       "      <td>13.8</td>\n",
       "      <td>549</td>\n",
       "    </tr>\n",
       "    <tr>\n",
       "      <th>1</th>\n",
       "      <td>3</td>\n",
       "      <td>Personal</td>\n",
       "      <td>1.741101</td>\n",
       "      <td>26.400000</td>\n",
       "      <td>0.0</td>\n",
       "      <td>-1.351453</td>\n",
       "      <td>36.899315</td>\n",
       "      <td>-1.295004</td>\n",
       "      <td>36.814358</td>\n",
       "      <td>1993</td>\n",
       "      <td>...</td>\n",
       "      <td>-0.974928</td>\n",
       "      <td>-0.974928</td>\n",
       "      <td>-0.222521</td>\n",
       "      <td>-0.222521</td>\n",
       "      <td>-0.222521</td>\n",
       "      <td>-0.222521</td>\n",
       "      <td>396</td>\n",
       "      <td>339</td>\n",
       "      <td>13.6</td>\n",
       "      <td>69</td>\n",
       "    </tr>\n",
       "    <tr>\n",
       "      <th>2</th>\n",
       "      <td>3</td>\n",
       "      <td>Business</td>\n",
       "      <td>1.245731</td>\n",
       "      <td>23.258889</td>\n",
       "      <td>0.0</td>\n",
       "      <td>-1.308284</td>\n",
       "      <td>36.843419</td>\n",
       "      <td>-1.300921</td>\n",
       "      <td>36.828195</td>\n",
       "      <td>455</td>\n",
       "      <td>...</td>\n",
       "      <td>0.974928</td>\n",
       "      <td>0.974928</td>\n",
       "      <td>-0.222521</td>\n",
       "      <td>-0.222521</td>\n",
       "      <td>-0.222521</td>\n",
       "      <td>-0.222521</td>\n",
       "      <td>1023</td>\n",
       "      <td>242</td>\n",
       "      <td>12.5</td>\n",
       "      <td>114</td>\n",
       "    </tr>\n",
       "    <tr>\n",
       "      <th>3</th>\n",
       "      <td>3</td>\n",
       "      <td>Business</td>\n",
       "      <td>1.551846</td>\n",
       "      <td>19.200000</td>\n",
       "      <td>0.0</td>\n",
       "      <td>-1.281301</td>\n",
       "      <td>36.832396</td>\n",
       "      <td>-1.257147</td>\n",
       "      <td>36.795063</td>\n",
       "      <td>1341</td>\n",
       "      <td>...</td>\n",
       "      <td>-0.974928</td>\n",
       "      <td>-0.974928</td>\n",
       "      <td>-0.222521</td>\n",
       "      <td>-0.222521</td>\n",
       "      <td>-0.222521</td>\n",
       "      <td>-0.222521</td>\n",
       "      <td>886</td>\n",
       "      <td>283</td>\n",
       "      <td>14.5</td>\n",
       "      <td>113</td>\n",
       "    </tr>\n",
       "    <tr>\n",
       "      <th>4</th>\n",
       "      <td>1</td>\n",
       "      <td>Personal</td>\n",
       "      <td>1.551846</td>\n",
       "      <td>15.400000</td>\n",
       "      <td>0.0</td>\n",
       "      <td>-1.266597</td>\n",
       "      <td>36.792118</td>\n",
       "      <td>-1.295041</td>\n",
       "      <td>36.809817</td>\n",
       "      <td>1214</td>\n",
       "      <td>...</td>\n",
       "      <td>0.781831</td>\n",
       "      <td>0.781831</td>\n",
       "      <td>0.623490</td>\n",
       "      <td>0.623490</td>\n",
       "      <td>0.623490</td>\n",
       "      <td>0.623490</td>\n",
       "      <td>2311</td>\n",
       "      <td>872</td>\n",
       "      <td>14.1</td>\n",
       "      <td>533</td>\n",
       "    </tr>\n",
       "  </tbody>\n",
       "</table>\n",
       "<p>5 rows × 70 columns</p>\n",
       "</div>"
      ],
      "text/plain": [
       "  Platform Type Personal or Business  Distance (KM)  Temperature  \\\n",
       "0             3             Business       1.319508    20.400000   \n",
       "1             3             Personal       1.741101    26.400000   \n",
       "2             3             Business       1.245731    23.258889   \n",
       "3             3             Business       1.551846    19.200000   \n",
       "4             1             Personal       1.551846    15.400000   \n",
       "\n",
       "   Precipitation in millimeters      lat1       lng1      lat2       lng2  \\\n",
       "0                           0.0 -1.317755  36.830370 -1.300406  36.829741   \n",
       "1                           0.0 -1.351453  36.899315 -1.295004  36.814358   \n",
       "2                           0.0 -1.308284  36.843419 -1.300921  36.828195   \n",
       "3                           0.0 -1.281301  36.832396 -1.257147  36.795063   \n",
       "4                           0.0 -1.266597  36.792118 -1.295041  36.809817   \n",
       "\n",
       "   Time from Pickup to Arrival  ...  Pickup_WDay_x Arrival_WDay_x  \\\n",
       "0                          745  ...      -0.974928      -0.974928   \n",
       "1                         1993  ...      -0.974928      -0.974928   \n",
       "2                          455  ...       0.974928       0.974928   \n",
       "3                         1341  ...      -0.974928      -0.974928   \n",
       "4                         1214  ...       0.781831       0.781831   \n",
       "\n",
       "  Placement_WDay_y Confirmation_WDay_y Pickup_WDay_y Arrival_WDay_y  \\\n",
       "0        -0.222521           -0.222521     -0.222521      -0.222521   \n",
       "1        -0.222521           -0.222521     -0.222521      -0.222521   \n",
       "2        -0.222521           -0.222521     -0.222521      -0.222521   \n",
       "3        -0.222521           -0.222521     -0.222521      -0.222521   \n",
       "4         0.623490            0.623490      0.623490       0.623490   \n",
       "\n",
       "  No_Of_Orders   Age Average_Rating  No_of_Ratings  \n",
       "0         1637  1309           13.8            549  \n",
       "1          396   339           13.6             69  \n",
       "2         1023   242           12.5            114  \n",
       "3          886   283           14.5            113  \n",
       "4         2311   872           14.1            533  \n",
       "\n",
       "[5 rows x 70 columns]"
      ]
     },
     "execution_count": 81,
     "metadata": {},
     "output_type": "execute_result"
    }
   ],
   "source": [
    "train_data.head()"
   ]
  },
  {
   "cell_type": "code",
   "execution_count": 82,
   "metadata": {},
   "outputs": [
    {
     "data": {
      "text/html": [
       "<div>\n",
       "<style scoped>\n",
       "    .dataframe tbody tr th:only-of-type {\n",
       "        vertical-align: middle;\n",
       "    }\n",
       "\n",
       "    .dataframe tbody tr th {\n",
       "        vertical-align: top;\n",
       "    }\n",
       "\n",
       "    .dataframe thead th {\n",
       "        text-align: right;\n",
       "    }\n",
       "</style>\n",
       "<table border=\"1\" class=\"dataframe\">\n",
       "  <thead>\n",
       "    <tr style=\"text-align: right;\">\n",
       "      <th></th>\n",
       "      <th>Platform Type</th>\n",
       "      <th>Personal or Business</th>\n",
       "      <th>Distance (KM)</th>\n",
       "      <th>Temperature</th>\n",
       "      <th>Precipitation in millimeters</th>\n",
       "      <th>lat1</th>\n",
       "      <th>lng1</th>\n",
       "      <th>lat2</th>\n",
       "      <th>lng2</th>\n",
       "      <th>No_of_Orders_per_User</th>\n",
       "      <th>...</th>\n",
       "      <th>Pickup_WDay_x</th>\n",
       "      <th>Arrival_WDay_x</th>\n",
       "      <th>Placement_WDay_y</th>\n",
       "      <th>Confirmation_WDay_y</th>\n",
       "      <th>Pickup_WDay_y</th>\n",
       "      <th>Arrival_WDay_y</th>\n",
       "      <th>No_Of_Orders</th>\n",
       "      <th>Age</th>\n",
       "      <th>Average_Rating</th>\n",
       "      <th>No_of_Ratings</th>\n",
       "    </tr>\n",
       "  </thead>\n",
       "  <tbody>\n",
       "    <tr>\n",
       "      <th>0</th>\n",
       "      <td>3</td>\n",
       "      <td>Business</td>\n",
       "      <td>1.515717</td>\n",
       "      <td>23.258889</td>\n",
       "      <td>0.0</td>\n",
       "      <td>-1.333275</td>\n",
       "      <td>36.870815</td>\n",
       "      <td>-1.305249</td>\n",
       "      <td>36.822390</td>\n",
       "      <td>44</td>\n",
       "      <td>...</td>\n",
       "      <td>0.433884</td>\n",
       "      <td>0.433884</td>\n",
       "      <td>-0.900969</td>\n",
       "      <td>-0.900969</td>\n",
       "      <td>-0.900969</td>\n",
       "      <td>-0.900969</td>\n",
       "      <td>439</td>\n",
       "      <td>1511</td>\n",
       "      <td>13.3</td>\n",
       "      <td>171</td>\n",
       "    </tr>\n",
       "    <tr>\n",
       "      <th>1</th>\n",
       "      <td>3</td>\n",
       "      <td>Business</td>\n",
       "      <td>1.379730</td>\n",
       "      <td>23.258889</td>\n",
       "      <td>0.0</td>\n",
       "      <td>-1.272639</td>\n",
       "      <td>36.794723</td>\n",
       "      <td>-1.277007</td>\n",
       "      <td>36.823907</td>\n",
       "      <td>102</td>\n",
       "      <td>...</td>\n",
       "      <td>-0.974928</td>\n",
       "      <td>-0.974928</td>\n",
       "      <td>-0.222521</td>\n",
       "      <td>-0.222521</td>\n",
       "      <td>-0.222521</td>\n",
       "      <td>-0.222521</td>\n",
       "      <td>488</td>\n",
       "      <td>273</td>\n",
       "      <td>14.4</td>\n",
       "      <td>45</td>\n",
       "    </tr>\n",
       "    <tr>\n",
       "      <th>2</th>\n",
       "      <td>3</td>\n",
       "      <td>Business</td>\n",
       "      <td>1.379730</td>\n",
       "      <td>22.800000</td>\n",
       "      <td>0.0</td>\n",
       "      <td>-1.290894</td>\n",
       "      <td>36.822971</td>\n",
       "      <td>-1.276574</td>\n",
       "      <td>36.851365</td>\n",
       "      <td>26</td>\n",
       "      <td>...</td>\n",
       "      <td>-0.433884</td>\n",
       "      <td>-0.433884</td>\n",
       "      <td>-0.900969</td>\n",
       "      <td>-0.900969</td>\n",
       "      <td>-0.900969</td>\n",
       "      <td>-0.900969</td>\n",
       "      <td>833</td>\n",
       "      <td>460</td>\n",
       "      <td>13.1</td>\n",
       "      <td>67</td>\n",
       "    </tr>\n",
       "    <tr>\n",
       "      <th>3</th>\n",
       "      <td>3</td>\n",
       "      <td>Business</td>\n",
       "      <td>1.379730</td>\n",
       "      <td>24.500000</td>\n",
       "      <td>0.0</td>\n",
       "      <td>-1.290503</td>\n",
       "      <td>36.809646</td>\n",
       "      <td>-1.303382</td>\n",
       "      <td>36.790658</td>\n",
       "      <td>2</td>\n",
       "      <td>...</td>\n",
       "      <td>0.781831</td>\n",
       "      <td>0.781831</td>\n",
       "      <td>0.623490</td>\n",
       "      <td>0.623490</td>\n",
       "      <td>0.623490</td>\n",
       "      <td>0.623490</td>\n",
       "      <td>487</td>\n",
       "      <td>560</td>\n",
       "      <td>13.7</td>\n",
       "      <td>44</td>\n",
       "    </tr>\n",
       "    <tr>\n",
       "      <th>4</th>\n",
       "      <td>3</td>\n",
       "      <td>Business</td>\n",
       "      <td>1.430969</td>\n",
       "      <td>24.400000</td>\n",
       "      <td>0.0</td>\n",
       "      <td>-1.281081</td>\n",
       "      <td>36.814423</td>\n",
       "      <td>-1.266467</td>\n",
       "      <td>36.792161</td>\n",
       "      <td>24</td>\n",
       "      <td>...</td>\n",
       "      <td>0.974928</td>\n",
       "      <td>0.974928</td>\n",
       "      <td>-0.222521</td>\n",
       "      <td>-0.222521</td>\n",
       "      <td>-0.222521</td>\n",
       "      <td>-0.222521</td>\n",
       "      <td>4761</td>\n",
       "      <td>1120</td>\n",
       "      <td>14.1</td>\n",
       "      <td>1010</td>\n",
       "    </tr>\n",
       "  </tbody>\n",
       "</table>\n",
       "<p>5 rows × 69 columns</p>\n",
       "</div>"
      ],
      "text/plain": [
       "  Platform Type Personal or Business  Distance (KM)  Temperature  \\\n",
       "0             3             Business       1.515717    23.258889   \n",
       "1             3             Business       1.379730    23.258889   \n",
       "2             3             Business       1.379730    22.800000   \n",
       "3             3             Business       1.379730    24.500000   \n",
       "4             3             Business       1.430969    24.400000   \n",
       "\n",
       "   Precipitation in millimeters      lat1       lng1      lat2       lng2  \\\n",
       "0                           0.0 -1.333275  36.870815 -1.305249  36.822390   \n",
       "1                           0.0 -1.272639  36.794723 -1.277007  36.823907   \n",
       "2                           0.0 -1.290894  36.822971 -1.276574  36.851365   \n",
       "3                           0.0 -1.290503  36.809646 -1.303382  36.790658   \n",
       "4                           0.0 -1.281081  36.814423 -1.266467  36.792161   \n",
       "\n",
       "   No_of_Orders_per_User  ... Pickup_WDay_x Arrival_WDay_x Placement_WDay_y  \\\n",
       "0                     44  ...      0.433884       0.433884        -0.900969   \n",
       "1                    102  ...     -0.974928      -0.974928        -0.222521   \n",
       "2                     26  ...     -0.433884      -0.433884        -0.900969   \n",
       "3                      2  ...      0.781831       0.781831         0.623490   \n",
       "4                     24  ...      0.974928       0.974928        -0.222521   \n",
       "\n",
       "  Confirmation_WDay_y Pickup_WDay_y Arrival_WDay_y No_Of_Orders   Age  \\\n",
       "0           -0.900969     -0.900969      -0.900969          439  1511   \n",
       "1           -0.222521     -0.222521      -0.222521          488   273   \n",
       "2           -0.900969     -0.900969      -0.900969          833   460   \n",
       "3            0.623490      0.623490       0.623490          487   560   \n",
       "4           -0.222521     -0.222521      -0.222521         4761  1120   \n",
       "\n",
       "   Average_Rating  No_of_Ratings  \n",
       "0            13.3            171  \n",
       "1            14.4             45  \n",
       "2            13.1             67  \n",
       "3            13.7             44  \n",
       "4            14.1           1010  \n",
       "\n",
       "[5 rows x 69 columns]"
      ]
     },
     "execution_count": 82,
     "metadata": {},
     "output_type": "execute_result"
    }
   ],
   "source": [
    "test_data.head()"
   ]
  },
  {
   "cell_type": "code",
   "execution_count": null,
   "metadata": {},
   "outputs": [],
   "source": []
  },
  {
   "cell_type": "code",
   "execution_count": null,
   "metadata": {},
   "outputs": [],
   "source": []
  },
  {
   "cell_type": "code",
   "execution_count": 83,
   "metadata": {},
   "outputs": [
    {
     "name": "stderr",
     "output_type": "stream",
     "text": [
      "C:\\Users\\USER\\AppData\\Local\\Continuum\\anaconda3\\lib\\site-packages\\ipykernel_launcher.py:9: SettingWithCopyWarning: \n",
      "A value is trying to be set on a copy of a slice from a DataFrame.\n",
      "Try using .loc[row_indexer,col_indexer] = value instead\n",
      "\n",
      "See the caveats in the documentation: http://pandas.pydata.org/pandas-docs/stable/indexing.html#indexing-view-versus-copy\n",
      "  if __name__ == '__main__':\n",
      "C:\\Users\\USER\\AppData\\Local\\Continuum\\anaconda3\\lib\\site-packages\\ipykernel_launcher.py:10: SettingWithCopyWarning: \n",
      "A value is trying to be set on a copy of a slice from a DataFrame.\n",
      "Try using .loc[row_indexer,col_indexer] = value instead\n",
      "\n",
      "See the caveats in the documentation: http://pandas.pydata.org/pandas-docs/stable/indexing.html#indexing-view-versus-copy\n",
      "  # Remove the CWD from sys.path while we load stuff.\n"
     ]
    }
   ],
   "source": [
    "time = train_data['Time from Pickup to Arrival']\n",
    "\n",
    "train_num = train_data.drop('Time from Pickup to Arrival', axis=1).select_dtypes(exclude='object')\n",
    "test_num = test_data.select_dtypes(exclude='object')\n",
    "\n",
    "train_cat = train_data.select_dtypes(include='object')\n",
    "test_cat = test_data.select_dtypes(include='object')\n",
    "\n",
    "train_cat['label'] = 1\n",
    "test_cat['label'] = 0"
   ]
  },
  {
   "cell_type": "code",
   "execution_count": 84,
   "metadata": {},
   "outputs": [],
   "source": [
    "combined = pd.concat([train_cat, test_cat], axis=0)#.reset_index(drop=True)"
   ]
  },
  {
   "cell_type": "code",
   "execution_count": 85,
   "metadata": {},
   "outputs": [],
   "source": [
    "combined = pd.get_dummies(combined, columns=combined.columns[:-1], drop_first=True)\n",
    "\n",
    "train_cat = combined[combined['label']==1]\n",
    "test_cat = combined[combined['label']==0]"
   ]
  },
  {
   "cell_type": "code",
   "execution_count": 86,
   "metadata": {},
   "outputs": [
    {
     "name": "stderr",
     "output_type": "stream",
     "text": [
      "C:\\Users\\USER\\AppData\\Local\\Continuum\\anaconda3\\lib\\site-packages\\pandas\\core\\frame.py:3940: SettingWithCopyWarning: \n",
      "A value is trying to be set on a copy of a slice from a DataFrame\n",
      "\n",
      "See the caveats in the documentation: http://pandas.pydata.org/pandas-docs/stable/indexing.html#indexing-view-versus-copy\n",
      "  errors=errors)\n"
     ]
    }
   ],
   "source": [
    "train_cat.drop('label', axis=1, inplace=True)\n",
    "test_cat.drop('label', axis=1, inplace=True)"
   ]
  },
  {
   "cell_type": "code",
   "execution_count": 87,
   "metadata": {},
   "outputs": [],
   "source": [
    "train_data = pd.concat([train_num, train_cat, time], axis=1)\n",
    "test_data = pd.concat([test_num, test_cat], axis=1)"
   ]
  },
  {
   "cell_type": "code",
   "execution_count": 88,
   "metadata": {},
   "outputs": [
    {
     "data": {
      "text/html": [
       "<div>\n",
       "<style scoped>\n",
       "    .dataframe tbody tr th:only-of-type {\n",
       "        vertical-align: middle;\n",
       "    }\n",
       "\n",
       "    .dataframe tbody tr th {\n",
       "        vertical-align: top;\n",
       "    }\n",
       "\n",
       "    .dataframe thead th {\n",
       "        text-align: right;\n",
       "    }\n",
       "</style>\n",
       "<table border=\"1\" class=\"dataframe\">\n",
       "  <thead>\n",
       "    <tr style=\"text-align: right;\">\n",
       "      <th></th>\n",
       "      <th>Distance (KM)</th>\n",
       "      <th>Temperature</th>\n",
       "      <th>Precipitation in millimeters</th>\n",
       "      <th>lat1</th>\n",
       "      <th>lng1</th>\n",
       "      <th>lat2</th>\n",
       "      <th>lng2</th>\n",
       "      <th>No_of_Orders_per_User</th>\n",
       "      <th>Cyclic_Placement_x</th>\n",
       "      <th>Cyclic_Confirmation_x</th>\n",
       "      <th>...</th>\n",
       "      <th>Confirmation_min_period_fourth_quarter</th>\n",
       "      <th>Confirmation_min_period_second_quarter</th>\n",
       "      <th>Confirmation_min_period_third_quarter</th>\n",
       "      <th>Arrival_min_period_fourth_quarter</th>\n",
       "      <th>Arrival_min_period_second_quarter</th>\n",
       "      <th>Arrival_min_period_third_quarter</th>\n",
       "      <th>Pickup_min_period_fourth_quarter</th>\n",
       "      <th>Pickup_min_period_second_quarter</th>\n",
       "      <th>Pickup_min_period_third_quarter</th>\n",
       "      <th>Time from Pickup to Arrival</th>\n",
       "    </tr>\n",
       "  </thead>\n",
       "  <tbody>\n",
       "    <tr>\n",
       "      <th>0</th>\n",
       "      <td>1.319508</td>\n",
       "      <td>20.400000</td>\n",
       "      <td>0.0</td>\n",
       "      <td>-1.317755</td>\n",
       "      <td>36.830370</td>\n",
       "      <td>-1.300406</td>\n",
       "      <td>36.829741</td>\n",
       "      <td>182</td>\n",
       "      <td>0.588609</td>\n",
       "      <td>0.572981</td>\n",
       "      <td>...</td>\n",
       "      <td>0</td>\n",
       "      <td>0</td>\n",
       "      <td>1</td>\n",
       "      <td>0</td>\n",
       "      <td>0</td>\n",
       "      <td>0</td>\n",
       "      <td>0</td>\n",
       "      <td>1</td>\n",
       "      <td>0</td>\n",
       "      <td>745</td>\n",
       "    </tr>\n",
       "    <tr>\n",
       "      <th>1</th>\n",
       "      <td>1.741101</td>\n",
       "      <td>26.400000</td>\n",
       "      <td>0.0</td>\n",
       "      <td>-1.351453</td>\n",
       "      <td>36.899315</td>\n",
       "      <td>-1.295004</td>\n",
       "      <td>36.814358</td>\n",
       "      <td>8</td>\n",
       "      <td>0.189667</td>\n",
       "      <td>0.159235</td>\n",
       "      <td>...</td>\n",
       "      <td>0</td>\n",
       "      <td>1</td>\n",
       "      <td>0</td>\n",
       "      <td>0</td>\n",
       "      <td>0</td>\n",
       "      <td>1</td>\n",
       "      <td>0</td>\n",
       "      <td>0</td>\n",
       "      <td>1</td>\n",
       "      <td>1993</td>\n",
       "    </tr>\n",
       "    <tr>\n",
       "      <th>2</th>\n",
       "      <td>1.245731</td>\n",
       "      <td>23.258889</td>\n",
       "      <td>0.0</td>\n",
       "      <td>-1.308284</td>\n",
       "      <td>36.843419</td>\n",
       "      <td>-1.300921</td>\n",
       "      <td>36.828195</td>\n",
       "      <td>162</td>\n",
       "      <td>-0.171141</td>\n",
       "      <td>-0.185381</td>\n",
       "      <td>...</td>\n",
       "      <td>0</td>\n",
       "      <td>0</td>\n",
       "      <td>1</td>\n",
       "      <td>1</td>\n",
       "      <td>0</td>\n",
       "      <td>0</td>\n",
       "      <td>1</td>\n",
       "      <td>0</td>\n",
       "      <td>0</td>\n",
       "      <td>455</td>\n",
       "    </tr>\n",
       "    <tr>\n",
       "      <th>3</th>\n",
       "      <td>1.551846</td>\n",
       "      <td>19.200000</td>\n",
       "      <td>0.0</td>\n",
       "      <td>-1.281301</td>\n",
       "      <td>36.832396</td>\n",
       "      <td>-1.257147</td>\n",
       "      <td>36.795063</td>\n",
       "      <td>74</td>\n",
       "      <td>0.623993</td>\n",
       "      <td>0.622230</td>\n",
       "      <td>...</td>\n",
       "      <td>0</td>\n",
       "      <td>1</td>\n",
       "      <td>0</td>\n",
       "      <td>0</td>\n",
       "      <td>0</td>\n",
       "      <td>1</td>\n",
       "      <td>0</td>\n",
       "      <td>0</td>\n",
       "      <td>1</td>\n",
       "      <td>1341</td>\n",
       "    </tr>\n",
       "    <tr>\n",
       "      <th>4</th>\n",
       "      <td>1.551846</td>\n",
       "      <td>15.400000</td>\n",
       "      <td>0.0</td>\n",
       "      <td>-1.266597</td>\n",
       "      <td>36.792118</td>\n",
       "      <td>-1.295041</td>\n",
       "      <td>36.809817</td>\n",
       "      <td>1</td>\n",
       "      <td>0.517654</td>\n",
       "      <td>0.513916</td>\n",
       "      <td>...</td>\n",
       "      <td>1</td>\n",
       "      <td>0</td>\n",
       "      <td>0</td>\n",
       "      <td>0</td>\n",
       "      <td>0</td>\n",
       "      <td>0</td>\n",
       "      <td>0</td>\n",
       "      <td>0</td>\n",
       "      <td>0</td>\n",
       "      <td>1214</td>\n",
       "    </tr>\n",
       "  </tbody>\n",
       "</table>\n",
       "<p>5 rows × 92 columns</p>\n",
       "</div>"
      ],
      "text/plain": [
       "   Distance (KM)  Temperature  Precipitation in millimeters      lat1  \\\n",
       "0       1.319508    20.400000                           0.0 -1.317755   \n",
       "1       1.741101    26.400000                           0.0 -1.351453   \n",
       "2       1.245731    23.258889                           0.0 -1.308284   \n",
       "3       1.551846    19.200000                           0.0 -1.281301   \n",
       "4       1.551846    15.400000                           0.0 -1.266597   \n",
       "\n",
       "        lng1      lat2       lng2  No_of_Orders_per_User  Cyclic_Placement_x  \\\n",
       "0  36.830370 -1.300406  36.829741                    182            0.588609   \n",
       "1  36.899315 -1.295004  36.814358                      8            0.189667   \n",
       "2  36.843419 -1.300921  36.828195                    162           -0.171141   \n",
       "3  36.832396 -1.257147  36.795063                     74            0.623993   \n",
       "4  36.792118 -1.295041  36.809817                      1            0.517654   \n",
       "\n",
       "   Cyclic_Confirmation_x  ...  Confirmation_min_period_fourth_quarter  \\\n",
       "0               0.572981  ...                                       0   \n",
       "1               0.159235  ...                                       0   \n",
       "2              -0.185381  ...                                       0   \n",
       "3               0.622230  ...                                       0   \n",
       "4               0.513916  ...                                       1   \n",
       "\n",
       "   Confirmation_min_period_second_quarter  \\\n",
       "0                                       0   \n",
       "1                                       1   \n",
       "2                                       0   \n",
       "3                                       1   \n",
       "4                                       0   \n",
       "\n",
       "   Confirmation_min_period_third_quarter  Arrival_min_period_fourth_quarter  \\\n",
       "0                                      1                                  0   \n",
       "1                                      0                                  0   \n",
       "2                                      1                                  1   \n",
       "3                                      0                                  0   \n",
       "4                                      0                                  0   \n",
       "\n",
       "   Arrival_min_period_second_quarter  Arrival_min_period_third_quarter  \\\n",
       "0                                  0                                 0   \n",
       "1                                  0                                 1   \n",
       "2                                  0                                 0   \n",
       "3                                  0                                 1   \n",
       "4                                  0                                 0   \n",
       "\n",
       "   Pickup_min_period_fourth_quarter  Pickup_min_period_second_quarter  \\\n",
       "0                                 0                                 1   \n",
       "1                                 0                                 0   \n",
       "2                                 1                                 0   \n",
       "3                                 0                                 0   \n",
       "4                                 0                                 0   \n",
       "\n",
       "   Pickup_min_period_third_quarter  Time from Pickup to Arrival  \n",
       "0                                0                          745  \n",
       "1                                1                         1993  \n",
       "2                                0                          455  \n",
       "3                                1                         1341  \n",
       "4                                0                         1214  \n",
       "\n",
       "[5 rows x 92 columns]"
      ]
     },
     "execution_count": 88,
     "metadata": {},
     "output_type": "execute_result"
    }
   ],
   "source": [
    "train_data.head()"
   ]
  },
  {
   "cell_type": "code",
   "execution_count": 89,
   "metadata": {},
   "outputs": [
    {
     "data": {
      "text/plain": [
       "(21201, 92)"
      ]
     },
     "execution_count": 89,
     "metadata": {},
     "output_type": "execute_result"
    }
   ],
   "source": [
    "train_data.shape"
   ]
  },
  {
   "cell_type": "code",
   "execution_count": 90,
   "metadata": {},
   "outputs": [
    {
     "data": {
      "text/plain": [
       "(7068, 91)"
      ]
     },
     "execution_count": 90,
     "metadata": {},
     "output_type": "execute_result"
    }
   ],
   "source": [
    "test_data.shape"
   ]
  },
  {
   "cell_type": "code",
   "execution_count": 91,
   "metadata": {},
   "outputs": [
    {
     "data": {
      "text/plain": [
       "set()"
      ]
     },
     "execution_count": 91,
     "metadata": {},
     "output_type": "execute_result"
    }
   ],
   "source": [
    "set(test_data.columns) - set(train_data.columns)"
   ]
  },
  {
   "cell_type": "code",
   "execution_count": 92,
   "metadata": {},
   "outputs": [],
   "source": [
    "y = train_data['Time from Pickup to Arrival']\n",
    "X = train_data.drop('Time from Pickup to Arrival', axis=1)"
   ]
  },
  {
   "cell_type": "code",
   "execution_count": 93,
   "metadata": {},
   "outputs": [],
   "source": [
    "from sklearn.model_selection import train_test_split\n",
    "import xgboost as xgb"
   ]
  },
  {
   "cell_type": "code",
   "execution_count": null,
   "metadata": {},
   "outputs": [],
   "source": []
  },
  {
   "cell_type": "code",
   "execution_count": null,
   "metadata": {},
   "outputs": [],
   "source": []
  },
  {
   "cell_type": "code",
   "execution_count": 94,
   "metadata": {},
   "outputs": [],
   "source": [
    "X_train, X_test, y_train, y_test = train_test_split(X, y, test_size=0.25, random_state=42)"
   ]
  },
  {
   "cell_type": "code",
   "execution_count": 95,
   "metadata": {},
   "outputs": [
    {
     "name": "stderr",
     "output_type": "stream",
     "text": [
      "C:\\Users\\USER\\AppData\\Local\\Continuum\\anaconda3\\lib\\site-packages\\xgboost\\core.py:587: FutureWarning: Series.base is deprecated and will be removed in a future version\n",
      "  if getattr(data, 'base', None) is not None and \\\n"
     ]
    },
    {
     "name": "stdout",
     "output_type": "stream",
     "text": [
      "[11:47:10] WARNING: src/objective/regression_obj.cu:152: reg:linear is now deprecated in favor of reg:squarederror.\n"
     ]
    },
    {
     "data": {
      "text/plain": [
       "XGBRegressor(base_score=0.5, booster='gbtree', colsample_bylevel=1,\n",
       "       colsample_bynode=1, colsample_bytree=0.8, gamma=0,\n",
       "       importance_type='gain', learning_rate=0.08, max_delta_step=0,\n",
       "       max_depth=4, min_child_weight=1, missing=None, n_estimators=250,\n",
       "       n_jobs=-1, nthread=None, objective='reg:linear', random_state=42,\n",
       "       reg_alpha=0, reg_lambda=1, scale_pos_weight=1, seed=None,\n",
       "       silent=None, subsample=0.8, verbosity=1)"
      ]
     },
     "execution_count": 95,
     "metadata": {},
     "output_type": "execute_result"
    }
   ],
   "source": [
    "xgbm = xgb.XGBRegressor(\n",
    "    n_estimators=250, max_depth=4, learning_rate=0.08, subsample=0.8, colsample_bytree=0.8, \n",
    "    n_jobs=-1, random_state=42\n",
    ")\n",
    "\n",
    "xgbm.fit(X_train, y_train)"
   ]
  },
  {
   "cell_type": "code",
   "execution_count": 95,
   "metadata": {},
   "outputs": [],
   "source": [
    "from sklearn.metrics import mean_squared_error\n",
    "from sklearn.model_selection import cross_val_score\n",
    "from sklearn.model_selection import KFold"
   ]
  },
  {
   "cell_type": "code",
   "execution_count": 97,
   "metadata": {},
   "outputs": [
    {
     "data": {
      "text/plain": [
       "753.2560355237115"
      ]
     },
     "execution_count": 97,
     "metadata": {},
     "output_type": "execute_result"
    }
   ],
   "source": [
    "math.sqrt(mean_squared_error(y_test, xgbm.predict(X_test)))"
   ]
  },
  {
   "cell_type": "code",
   "execution_count": 98,
   "metadata": {},
   "outputs": [
    {
     "data": {
      "text/plain": [
       "741.999901746331"
      ]
     },
     "execution_count": 98,
     "metadata": {},
     "output_type": "execute_result"
    }
   ],
   "source": [
    "math.sqrt(-cross_val_score(xgbm, X_train, y_train, cv=KFold(n_splits=5), scoring='neg_mean_squared_error', n_jobs=-1).mean())"
   ]
  },
  {
   "cell_type": "code",
   "execution_count": 99,
   "metadata": {},
   "outputs": [],
   "source": [
    "pred = xgbm.predict(test_data)"
   ]
  },
  {
   "cell_type": "code",
   "execution_count": 100,
   "metadata": {},
   "outputs": [],
   "source": [
    "sub = pd.DataFrame({'Order No' : orderNo, 'Time from Pickup to Arrival' : pred})\n",
    "\n",
    "sub.to_csv('rough_sub.csv', index=False)"
   ]
  },
  {
   "cell_type": "code",
   "execution_count": null,
   "metadata": {},
   "outputs": [],
   "source": []
  },
  {
   "cell_type": "code",
   "execution_count": 96,
   "metadata": {},
   "outputs": [],
   "source": [
    "import lightgbm as lgb"
   ]
  },
  {
   "cell_type": "code",
   "execution_count": 96,
   "metadata": {},
   "outputs": [
    {
     "data": {
      "text/plain": [
       "LGBMRegressor(boosting_type='gbdt', class_weight=None, colsample_bytree=0.8,\n",
       "       importance_type='split', learning_rate=0.08, max_depth=4,\n",
       "       min_child_samples=20, min_child_weight=0.001, min_split_gain=0.0,\n",
       "       n_estimators=250, n_jobs=-1, num_leaves=31, objective=None,\n",
       "       random_state=42, reg_alpha=0.0, reg_lambda=0.0, silent=True,\n",
       "       subsample=0.8, subsample_for_bin=200000, subsample_freq=0)"
      ]
     },
     "execution_count": 96,
     "metadata": {},
     "output_type": "execute_result"
    }
   ],
   "source": [
    "lgbm = lgb.LGBMRegressor(\n",
    "    n_estimators=250, max_depth=4, learning_rate=0.08, subsample=0.8, colsample_bytree=0.8, \n",
    "    n_jobs=-1, random_state=42\n",
    ")\n",
    "\n",
    "lgbm.fit(X_train, y_train)"
   ]
  },
  {
   "cell_type": "code",
   "execution_count": 100,
   "metadata": {},
   "outputs": [
    {
     "data": {
      "text/plain": [
       "751.8313989759566"
      ]
     },
     "execution_count": 100,
     "metadata": {},
     "output_type": "execute_result"
    }
   ],
   "source": [
    "math.sqrt(mean_squared_error(y_test,lgbm.predict(X_test)))"
   ]
  },
  {
   "cell_type": "code",
   "execution_count": 101,
   "metadata": {},
   "outputs": [
    {
     "data": {
      "text/plain": [
       "740.0212304827016"
      ]
     },
     "execution_count": 101,
     "metadata": {},
     "output_type": "execute_result"
    }
   ],
   "source": [
    "math.sqrt(-cross_val_score(lgbm, X_train, y_train, cv=KFold(n_splits=5), scoring='neg_mean_squared_error', n_jobs=-1).mean())"
   ]
  },
  {
   "cell_type": "code",
   "execution_count": null,
   "metadata": {},
   "outputs": [],
   "source": []
  },
  {
   "cell_type": "code",
   "execution_count": 96,
   "metadata": {},
   "outputs": [],
   "source": [
    "from sklearn.ensemble import RandomForestRegressor"
   ]
  },
  {
   "cell_type": "code",
   "execution_count": 97,
   "metadata": {},
   "outputs": [
    {
     "data": {
      "text/plain": [
       "RandomForestRegressor(bootstrap=True, criterion='mse', max_depth=4,\n",
       "           max_features=0.7, max_leaf_nodes=None,\n",
       "           min_impurity_decrease=0.0, min_impurity_split=None,\n",
       "           min_samples_leaf=1, min_samples_split=2,\n",
       "           min_weight_fraction_leaf=0.0, n_estimators=100, n_jobs=-1,\n",
       "           oob_score=False, random_state=2, verbose=0, warm_start=False)"
      ]
     },
     "execution_count": 97,
     "metadata": {},
     "output_type": "execute_result"
    }
   ],
   "source": [
    "rfc = RandomForestRegressor(\n",
    "    n_estimators=100, max_depth=4, max_features=0.7, n_jobs=-1, random_state=2\n",
    ")\n",
    "\n",
    "rfc.fit(X_train, y_train )"
   ]
  },
  {
   "cell_type": "code",
   "execution_count": 99,
   "metadata": {},
   "outputs": [
    {
     "data": {
      "text/plain": [
       "793.5303835874516"
      ]
     },
     "execution_count": 99,
     "metadata": {},
     "output_type": "execute_result"
    }
   ],
   "source": [
    "math.sqrt(mean_squared_error(y_test, rfc.predict(X_test)))"
   ]
  },
  {
   "cell_type": "code",
   "execution_count": 100,
   "metadata": {},
   "outputs": [
    {
     "data": {
      "text/plain": [
       "782.5112770184307"
      ]
     },
     "execution_count": 100,
     "metadata": {},
     "output_type": "execute_result"
    }
   ],
   "source": [
    "math.sqrt(-cross_val_score(rfc, X_train, y_train, cv=KFold(n_splits=5), scoring='neg_mean_squared_error', n_jobs=-1).mean())"
   ]
  },
  {
   "cell_type": "code",
   "execution_count": null,
   "metadata": {},
   "outputs": [],
   "source": []
  },
  {
   "cell_type": "code",
   "execution_count": 97,
   "metadata": {},
   "outputs": [],
   "source": [
    "from sklearn.model_selection import GridSearchCV"
   ]
  },
  {
   "cell_type": "markdown",
   "metadata": {},
   "source": [
    "<h3>Tuning</h3>"
   ]
  },
  {
   "cell_type": "code",
   "execution_count": 101,
   "metadata": {},
   "outputs": [
    {
     "name": "stdout",
     "output_type": "stream",
     "text": [
      "[07:05:10] WARNING: src/objective/regression_obj.cu:152: reg:linear is now deprecated in favor of reg:squarederror.\n"
     ]
    },
    {
     "data": {
      "text/plain": [
       "GridSearchCV(cv=KFold(n_splits=5, random_state=None, shuffle=False),\n",
       "       error_score='raise-deprecating',\n",
       "       estimator=XGBRegressor(base_score=0.5, booster='gbtree', colsample_bylevel=1,\n",
       "       colsample_bynode=1, colsample_bytree=0.8, gamma=0,\n",
       "       importance_type='gain', learning_rate=0.1, max_delta_step=0,\n",
       "       max_depth=4, min_child_weight=1, missing=None, n_estimators=100,\n",
       "       n_jobs=1, nthread=-1, objective='reg:linear', random_state=0,\n",
       "       reg_alpha=0, reg_lambda=1, scale_pos_weight=1, seed=None,\n",
       "       silent=None, subsample=0.8, verbosity=1),\n",
       "       fit_params=None, iid='warn', n_jobs=-1,\n",
       "       param_grid={'max_depth': [4, 5, 6], 'min_child_weight': [2, 3, 4]},\n",
       "       pre_dispatch='2*n_jobs', refit=True, return_train_score='warn',\n",
       "       scoring='neg_mean_squared_error', verbose=0)"
      ]
     },
     "execution_count": 101,
     "metadata": {},
     "output_type": "execute_result"
    }
   ],
   "source": [
    "params_1 = {\n",
    "    'max_depth' : [4, 5, 6],\n",
    "    'min_child_weight' : [2, 3, 4]\n",
    "}\n",
    "\n",
    "grid = GridSearchCV(\n",
    "    xgb.XGBRegressor(\n",
    "    max_depth=4, min_child_weight=1, gamma = 0, subsample=0.8, colsample_bytree=0.8,\n",
    "    nthread=-1\n",
    "), params_1, scoring='neg_mean_squared_error', n_jobs=-1, refit=True, verbose=0, cv=KFold(n_splits=5)\n",
    ")\n",
    "\n",
    "grid.fit(X_train, y_train)\n",
    "\n",
    "#grid.grid_scores_"
   ]
  },
  {
   "cell_type": "code",
   "execution_count": 102,
   "metadata": {},
   "outputs": [
    {
     "data": {
      "text/plain": [
       "({'max_depth': 5, 'min_child_weight': 3}, -552032.7927420116)"
      ]
     },
     "execution_count": 102,
     "metadata": {},
     "output_type": "execute_result"
    }
   ],
   "source": [
    "grid.best_params_, grid.best_score_"
   ]
  },
  {
   "cell_type": "code",
   "execution_count": 100,
   "metadata": {},
   "outputs": [
    {
     "name": "stderr",
     "output_type": "stream",
     "text": [
      "C:\\Users\\USER\\AppData\\Local\\Continuum\\anaconda3\\lib\\site-packages\\xgboost\\core.py:587: FutureWarning: Series.base is deprecated and will be removed in a future version\n",
      "  if getattr(data, 'base', None) is not None and \\\n"
     ]
    },
    {
     "name": "stdout",
     "output_type": "stream",
     "text": [
      "[10:44:21] WARNING: src/objective/regression_obj.cu:152: reg:linear is now deprecated in favor of reg:squarederror.\n"
     ]
    },
    {
     "data": {
      "text/plain": [
       "GridSearchCV(cv=KFold(n_splits=5, random_state=None, shuffle=False),\n",
       "       error_score='raise-deprecating',\n",
       "       estimator=XGBRegressor(base_score=0.5, booster='gbtree', colsample_bylevel=1,\n",
       "       colsample_bynode=1, colsample_bytree=0.8, gamma=0,\n",
       "       importance_type='gain', learning_rate=0.1, max_delta_step=0,\n",
       "       max_depth=5, min_child_weight=3, missing=None, n_estimators=100,\n",
       "       n_jobs=1, nthread=-1, objective='reg:linear', random_state=0,\n",
       "       reg_alpha=0, reg_lambda=1, scale_pos_weight=1, seed=None,\n",
       "       silent=None, subsample=0.8, verbosity=1),\n",
       "       fit_params=None, iid='warn', n_jobs=-1,\n",
       "       param_grid={'reg_alpha': [0.001, 0.0025, 0.005, 0.0075, 0.01]},\n",
       "       pre_dispatch='2*n_jobs', refit=True, return_train_score='warn',\n",
       "       scoring='neg_mean_squared_error', verbose=0)"
      ]
     },
     "execution_count": 100,
     "metadata": {},
     "output_type": "execute_result"
    }
   ],
   "source": [
    "params_1 = {\n",
    "    #'reg_lambda' : [0.01, 0.05, 0.1, 0.5, 1],\n",
    "    'reg_alpha':[0.001, 0.0025, 0.005, 0.0075, 0.01]\n",
    "}\n",
    "\n",
    "grid = GridSearchCV(\n",
    "    xgb.XGBRegressor(\n",
    "    max_depth=5, min_child_weight=3, gamma = 0, subsample=0.8, colsample_bytree=0.8,\n",
    "    nthread=-1\n",
    "), params_1, scoring='neg_mean_squared_error', n_jobs=-1, refit=True, verbose=0, cv=KFold(n_splits=5)\n",
    ")\n",
    "\n",
    "grid.fit(X_train, y_train)\n",
    "\n",
    "#grid.grid_scores_"
   ]
  },
  {
   "cell_type": "code",
   "execution_count": 101,
   "metadata": {},
   "outputs": [
    {
     "data": {
      "text/plain": [
       "({'reg_alpha': 0.0075}, -552032.7824910344)"
      ]
     },
     "execution_count": 101,
     "metadata": {},
     "output_type": "execute_result"
    }
   ],
   "source": [
    "grid.best_params_, grid.best_score_"
   ]
  },
  {
   "cell_type": "code",
   "execution_count": 98,
   "metadata": {},
   "outputs": [
    {
     "name": "stderr",
     "output_type": "stream",
     "text": [
      "C:\\Users\\USER\\AppData\\Local\\Continuum\\anaconda3\\lib\\site-packages\\xgboost\\core.py:587: FutureWarning: Series.base is deprecated and will be removed in a future version\n",
      "  if getattr(data, 'base', None) is not None and \\\n"
     ]
    },
    {
     "name": "stdout",
     "output_type": "stream",
     "text": [
      "[11:07:01] WARNING: src/objective/regression_obj.cu:152: reg:linear is now deprecated in favor of reg:squarederror.\n"
     ]
    },
    {
     "data": {
      "text/plain": [
       "XGBRegressor(base_score=0.5, booster='gbtree', colsample_bylevel=1,\n",
       "       colsample_bynode=1, colsample_bytree=0.8, gamma=0.0,\n",
       "       importance_type='gain', learning_rate=0.075, max_delta_step=0,\n",
       "       max_depth=5, min_child_weight=3, missing=None, n_estimators=250,\n",
       "       n_jobs=1, nthread=-1, objective='reg:linear', random_state=0,\n",
       "       reg_alpha=0.0075, reg_lambda=1, scale_pos_weight=1, seed=None,\n",
       "       silent=None, subsample=0.8, verbosity=1)"
      ]
     },
     "execution_count": 98,
     "metadata": {},
     "output_type": "execute_result"
    }
   ],
   "source": [
    "xgbc = xgb.XGBRegressor(n_estimators=250, learning_rate=0.075,\n",
    "    max_depth=5, min_child_weight=3, gamma = 0.0, subsample=0.8, colsample_bytree=0.8,\n",
    "    nthread=-1, reg_alpha=0.0075, reg_lambda=1\n",
    ")\n",
    "\n",
    "xgbc.fit(X_train, y_train)"
   ]
  },
  {
   "cell_type": "code",
   "execution_count": 99,
   "metadata": {},
   "outputs": [
    {
     "data": {
      "text/plain": [
       "751.5392194719291"
      ]
     },
     "execution_count": 99,
     "metadata": {},
     "output_type": "execute_result"
    }
   ],
   "source": [
    "math.sqrt(mean_squared_error(y_test,xgbc.predict(X_test)))"
   ]
  },
  {
   "cell_type": "code",
   "execution_count": 100,
   "metadata": {},
   "outputs": [
    {
     "data": {
      "text/plain": [
       "742.4236832951121"
      ]
     },
     "execution_count": 100,
     "metadata": {},
     "output_type": "execute_result"
    }
   ],
   "source": [
    "math.sqrt(-cross_val_score(xgbc, X_train, y_train, cv=KFold(n_splits=5), scoring='neg_mean_squared_error', n_jobs=-1).mean())"
   ]
  },
  {
   "cell_type": "code",
   "execution_count": 101,
   "metadata": {},
   "outputs": [],
   "source": [
    "pred = xgbc.predict(test_data)\n",
    "\n",
    "sub = pd.DataFrame({'Order No' : orderNo, 'Time from Pickup to Arrival' : pred})\n",
    "\n",
    "sub.to_csv('rough_tuned_sub.csv', index=False)"
   ]
  },
  {
   "cell_type": "code",
   "execution_count": null,
   "metadata": {},
   "outputs": [],
   "source": []
  },
  {
   "cell_type": "code",
   "execution_count": null,
   "metadata": {},
   "outputs": [],
   "source": []
  },
  {
   "cell_type": "code",
   "execution_count": 114,
   "metadata": {},
   "outputs": [
    {
     "data": {
      "text/plain": [
       "GridSearchCV(cv=KFold(n_splits=5, random_state=None, shuffle=False),\n",
       "       error_score='raise-deprecating',\n",
       "       estimator=LGBMRegressor(boosting_type='gbdt', class_weight=None, colsample_bytree=0.7,\n",
       "       importance_type='split', learning_rate=0.1, max_depth=5,\n",
       "       min_child_samples=20, min_child_weight=0.001, min_split_gain=0.0,\n",
       "       n_estimators=100, n_jobs=-1, num_leaves=31, objective=None,\n",
       "       random_state=None, reg_alpha=0.0, reg_lambda=0.0, silent=True,\n",
       "       subsample=0.8, subsample_for_bin=200000, subsample_freq=5),\n",
       "       fit_params=None, iid='warn', n_jobs=-1,\n",
       "       param_grid={'reg_lambda': [0.01, 0.05, 0.1, 0.5, 1], 'reg_alpha': [0, 0.001, 0.005, 0.01, 0.05]},\n",
       "       pre_dispatch='2*n_jobs', refit=True, return_train_score='warn',\n",
       "       scoring='neg_mean_squared_error', verbose=0)"
      ]
     },
     "execution_count": 114,
     "metadata": {},
     "output_type": "execute_result"
    }
   ],
   "source": [
    "lgb_params_1 = {\n",
    "    'reg_lambda' : [0.01, 0.05, 0.1, 0.5, 1],\n",
    "    'reg_alpha':[0, 0.001, 0.005, 0.01, 0.05]\n",
    "}\n",
    "\n",
    "lgb_grid = GridSearchCV(\n",
    "    , lgb_params_1, scoring='neg_mean_squared_error', n_jobs=-1, refit=True, verbose=0, cv=KFold(n_splits=5)\n",
    ")\n",
    "\n",
    "lgb_grid.fit(X_train, y_train)\n",
    "\n",
    "#lgb_grid.grid_scores_"
   ]
  },
  {
   "cell_type": "code",
   "execution_count": 115,
   "metadata": {},
   "outputs": [
    {
     "data": {
      "text/plain": [
       "({'reg_alpha': 0.05, 'reg_lambda': 0.01}, -550517.834947349)"
      ]
     },
     "execution_count": 115,
     "metadata": {},
     "output_type": "execute_result"
    }
   ],
   "source": [
    "lgb_grid.best_params_, lgb_grid.best_score_"
   ]
  },
  {
   "cell_type": "code",
   "execution_count": null,
   "metadata": {},
   "outputs": [],
   "source": []
  },
  {
   "cell_type": "code",
   "execution_count": null,
   "metadata": {},
   "outputs": [],
   "source": []
  },
  {
   "cell_type": "code",
   "execution_count": 116,
   "metadata": {},
   "outputs": [
    {
     "data": {
      "text/plain": [
       "LGBMRegressor(boosting_type='gbdt', class_weight=None, colsample_bytree=0.7,\n",
       "       importance_type='split', learning_rate=0.08, max_depth=5,\n",
       "       min_child_samples=20, min_child_weight=0.001, min_split_gain=0.0,\n",
       "       n_estimators=300, n_jobs=-1, num_leaves=31, objective=None,\n",
       "       random_state=None, reg_alpha=0.05, reg_lambda=0.01, silent=True,\n",
       "       subsample=0.8, subsample_for_bin=200000, subsample_freq=5)"
      ]
     },
     "execution_count": 116,
     "metadata": {},
     "output_type": "execute_result"
    }
   ],
   "source": [
    "lgbm = lgb.LGBMRegressor(\n",
    "    num_leaves=31, max_depth=5, min_child_samples=20, min_child_weight=0.001, subsample=0.8, \n",
    "    colsample_bytree=0.7, subsample_freq=5, reg_alpha=0.05, reg_lambda=0.01,\n",
    "    n_estimators=300, learning_rate=0.08\n",
    ")\n",
    "\n",
    "lgbm.fit(X_train, y_train)"
   ]
  },
  {
   "cell_type": "code",
   "execution_count": 117,
   "metadata": {},
   "outputs": [
    {
     "data": {
      "text/plain": [
       "750.4229622023736"
      ]
     },
     "execution_count": 117,
     "metadata": {},
     "output_type": "execute_result"
    }
   ],
   "source": [
    "math.sqrt(mean_squared_error(y_test,lgbm.predict(X_test)))"
   ]
  },
  {
   "cell_type": "code",
   "execution_count": 118,
   "metadata": {},
   "outputs": [
    {
     "data": {
      "text/plain": [
       "743.7742762530418"
      ]
     },
     "execution_count": 118,
     "metadata": {},
     "output_type": "execute_result"
    }
   ],
   "source": [
    "math.sqrt(-cross_val_score(lgbm, X_train, y_train, cv=KFold(n_splits=5), scoring='neg_mean_squared_error', n_jobs=-1).mean())"
   ]
  },
  {
   "cell_type": "code",
   "execution_count": 119,
   "metadata": {},
   "outputs": [],
   "source": [
    "pred = lgbm.predict(test_data)\n",
    "\n",
    "sub = pd.DataFrame({'Order No' : orderNo, 'Time from Pickup to Arrival' : pred})\n",
    "\n",
    "sub.to_csv('rough_tuned_lgbm_sub.csv', index=False)"
   ]
  },
  {
   "cell_type": "code",
   "execution_count": null,
   "metadata": {},
   "outputs": [],
   "source": []
  }
 ],
 "metadata": {
  "kernelspec": {
   "display_name": "Python 3",
   "language": "python",
   "name": "python3"
  },
  "language_info": {
   "codemirror_mode": {
    "name": "ipython",
    "version": 3
   },
   "file_extension": ".py",
   "mimetype": "text/x-python",
   "name": "python",
   "nbconvert_exporter": "python",
   "pygments_lexer": "ipython3",
   "version": "3.7.3"
  }
 },
 "nbformat": 4,
 "nbformat_minor": 2
}
