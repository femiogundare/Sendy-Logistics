{
 "cells": [
  {
   "cell_type": "code",
   "execution_count": 2,
   "metadata": {},
   "outputs": [],
   "source": [
    "import numpy as np\n",
    "import pandas as pd\n",
    "from matplotlib import pyplot as plt\n",
    "import seaborn as sns\n",
    "import math\n",
    "from scipy import stats\n",
    "from pygeocoder import Geocoder\n",
    "\n",
    "from datetime import datetime"
   ]
  },
  {
   "cell_type": "code",
   "execution_count": 3,
   "metadata": {},
   "outputs": [
    {
     "data": {
      "text/plain": [
       "'C:\\\\Users\\\\USER\\\\Desktop\\\\ZINDI DATASETS\\\\Sendy Logistics Challenge\\\\NoteBooks'"
      ]
     },
     "execution_count": 3,
     "metadata": {},
     "output_type": "execute_result"
    }
   ],
   "source": [
    "import os\n",
    "os.getcwd()"
   ]
  },
  {
   "cell_type": "code",
   "execution_count": 4,
   "metadata": {},
   "outputs": [],
   "source": [
    "train_data = pd.read_csv('C:\\\\Users\\\\USER\\\\Desktop\\\\ZINDI DATASETS\\\\Sendy Logistics Challenge\\\\Train.csv')\n",
    "test_data = pd.read_csv('C:\\\\Users\\\\USER\\\\Desktop\\\\ZINDI DATASETS\\\\Sendy Logistics Challenge\\\\Test.csv')\n",
    "#riders = pd.read_csv('C:\\\\Users\\\\USER\\\\Desktop\\\\ZINDI DATASETS\\\\Sendy Logistics Challenge\\\\Riders.csv')"
   ]
  },
  {
   "cell_type": "code",
   "execution_count": null,
   "metadata": {},
   "outputs": [],
   "source": []
  },
  {
   "cell_type": "code",
   "execution_count": 5,
   "metadata": {},
   "outputs": [
    {
     "name": "stdout",
     "output_type": "stream",
     "text": [
      "-1.4335118999999998\n",
      "-1.0302254000000002\n"
     ]
    }
   ],
   "source": [
    "print(test_data['Pickup Lat'].min())\n",
    "print(test_data['Destination Lat'].max())"
   ]
  },
  {
   "cell_type": "code",
   "execution_count": 6,
   "metadata": {},
   "outputs": [
    {
     "name": "stdout",
     "output_type": "stream",
     "text": [
      "36.6538278\n",
      "37.0189577\n"
     ]
    }
   ],
   "source": [
    "print(test_data['Pickup Long'].min())\n",
    "print(test_data['Destination Long'].max())"
   ]
  },
  {
   "cell_type": "code",
   "execution_count": 7,
   "metadata": {},
   "outputs": [
    {
     "data": {
      "text/html": [
       "<div>\n",
       "<style scoped>\n",
       "    .dataframe tbody tr th:only-of-type {\n",
       "        vertical-align: middle;\n",
       "    }\n",
       "\n",
       "    .dataframe tbody tr th {\n",
       "        vertical-align: top;\n",
       "    }\n",
       "\n",
       "    .dataframe thead th {\n",
       "        text-align: right;\n",
       "    }\n",
       "</style>\n",
       "<table border=\"1\" class=\"dataframe\">\n",
       "  <thead>\n",
       "    <tr style=\"text-align: right;\">\n",
       "      <th></th>\n",
       "      <th>Order No</th>\n",
       "      <th>User Id</th>\n",
       "      <th>Vehicle Type</th>\n",
       "      <th>Platform Type</th>\n",
       "      <th>Personal or Business</th>\n",
       "      <th>Placement - Day of Month</th>\n",
       "      <th>Placement - Weekday (Mo = 1)</th>\n",
       "      <th>Placement - Time</th>\n",
       "      <th>Confirmation - Day of Month</th>\n",
       "      <th>Confirmation - Weekday (Mo = 1)</th>\n",
       "      <th>...</th>\n",
       "      <th>Arrival at Destination - Time</th>\n",
       "      <th>Distance (KM)</th>\n",
       "      <th>Temperature</th>\n",
       "      <th>Precipitation in millimeters</th>\n",
       "      <th>Pickup Lat</th>\n",
       "      <th>Pickup Long</th>\n",
       "      <th>Destination Lat</th>\n",
       "      <th>Destination Long</th>\n",
       "      <th>Rider Id</th>\n",
       "      <th>Time from Pickup to Arrival</th>\n",
       "    </tr>\n",
       "  </thead>\n",
       "  <tbody>\n",
       "    <tr>\n",
       "      <th>0</th>\n",
       "      <td>Order_No_4211</td>\n",
       "      <td>User_Id_633</td>\n",
       "      <td>Bike</td>\n",
       "      <td>3</td>\n",
       "      <td>Business</td>\n",
       "      <td>9</td>\n",
       "      <td>5</td>\n",
       "      <td>9:35:46 AM</td>\n",
       "      <td>9</td>\n",
       "      <td>5</td>\n",
       "      <td>...</td>\n",
       "      <td>10:39:55 AM</td>\n",
       "      <td>4</td>\n",
       "      <td>20.4</td>\n",
       "      <td>NaN</td>\n",
       "      <td>-1.317755</td>\n",
       "      <td>36.830370</td>\n",
       "      <td>-1.300406</td>\n",
       "      <td>36.829741</td>\n",
       "      <td>Rider_Id_432</td>\n",
       "      <td>745</td>\n",
       "    </tr>\n",
       "    <tr>\n",
       "      <th>1</th>\n",
       "      <td>Order_No_25375</td>\n",
       "      <td>User_Id_2285</td>\n",
       "      <td>Bike</td>\n",
       "      <td>3</td>\n",
       "      <td>Personal</td>\n",
       "      <td>12</td>\n",
       "      <td>5</td>\n",
       "      <td>11:16:16 AM</td>\n",
       "      <td>12</td>\n",
       "      <td>5</td>\n",
       "      <td>...</td>\n",
       "      <td>12:17:22 PM</td>\n",
       "      <td>16</td>\n",
       "      <td>26.4</td>\n",
       "      <td>NaN</td>\n",
       "      <td>-1.351453</td>\n",
       "      <td>36.899315</td>\n",
       "      <td>-1.295004</td>\n",
       "      <td>36.814358</td>\n",
       "      <td>Rider_Id_856</td>\n",
       "      <td>1993</td>\n",
       "    </tr>\n",
       "    <tr>\n",
       "      <th>2</th>\n",
       "      <td>Order_No_1899</td>\n",
       "      <td>User_Id_265</td>\n",
       "      <td>Bike</td>\n",
       "      <td>3</td>\n",
       "      <td>Business</td>\n",
       "      <td>30</td>\n",
       "      <td>2</td>\n",
       "      <td>12:39:25 PM</td>\n",
       "      <td>30</td>\n",
       "      <td>2</td>\n",
       "      <td>...</td>\n",
       "      <td>1:00:38 PM</td>\n",
       "      <td>3</td>\n",
       "      <td>NaN</td>\n",
       "      <td>NaN</td>\n",
       "      <td>-1.308284</td>\n",
       "      <td>36.843419</td>\n",
       "      <td>-1.300921</td>\n",
       "      <td>36.828195</td>\n",
       "      <td>Rider_Id_155</td>\n",
       "      <td>455</td>\n",
       "    </tr>\n",
       "    <tr>\n",
       "      <th>3</th>\n",
       "      <td>Order_No_9336</td>\n",
       "      <td>User_Id_1402</td>\n",
       "      <td>Bike</td>\n",
       "      <td>3</td>\n",
       "      <td>Business</td>\n",
       "      <td>15</td>\n",
       "      <td>5</td>\n",
       "      <td>9:25:34 AM</td>\n",
       "      <td>15</td>\n",
       "      <td>5</td>\n",
       "      <td>...</td>\n",
       "      <td>10:05:27 AM</td>\n",
       "      <td>9</td>\n",
       "      <td>19.2</td>\n",
       "      <td>NaN</td>\n",
       "      <td>-1.281301</td>\n",
       "      <td>36.832396</td>\n",
       "      <td>-1.257147</td>\n",
       "      <td>36.795063</td>\n",
       "      <td>Rider_Id_855</td>\n",
       "      <td>1341</td>\n",
       "    </tr>\n",
       "    <tr>\n",
       "      <th>4</th>\n",
       "      <td>Order_No_27883</td>\n",
       "      <td>User_Id_1737</td>\n",
       "      <td>Bike</td>\n",
       "      <td>1</td>\n",
       "      <td>Personal</td>\n",
       "      <td>13</td>\n",
       "      <td>1</td>\n",
       "      <td>9:55:18 AM</td>\n",
       "      <td>13</td>\n",
       "      <td>1</td>\n",
       "      <td>...</td>\n",
       "      <td>10:25:37 AM</td>\n",
       "      <td>9</td>\n",
       "      <td>15.4</td>\n",
       "      <td>NaN</td>\n",
       "      <td>-1.266597</td>\n",
       "      <td>36.792118</td>\n",
       "      <td>-1.295041</td>\n",
       "      <td>36.809817</td>\n",
       "      <td>Rider_Id_770</td>\n",
       "      <td>1214</td>\n",
       "    </tr>\n",
       "  </tbody>\n",
       "</table>\n",
       "<p>5 rows × 29 columns</p>\n",
       "</div>"
      ],
      "text/plain": [
       "         Order No       User Id Vehicle Type  Platform Type  \\\n",
       "0   Order_No_4211   User_Id_633         Bike              3   \n",
       "1  Order_No_25375  User_Id_2285         Bike              3   \n",
       "2   Order_No_1899   User_Id_265         Bike              3   \n",
       "3   Order_No_9336  User_Id_1402         Bike              3   \n",
       "4  Order_No_27883  User_Id_1737         Bike              1   \n",
       "\n",
       "  Personal or Business  Placement - Day of Month  \\\n",
       "0             Business                         9   \n",
       "1             Personal                        12   \n",
       "2             Business                        30   \n",
       "3             Business                        15   \n",
       "4             Personal                        13   \n",
       "\n",
       "   Placement - Weekday (Mo = 1) Placement - Time  Confirmation - Day of Month  \\\n",
       "0                             5       9:35:46 AM                            9   \n",
       "1                             5      11:16:16 AM                           12   \n",
       "2                             2      12:39:25 PM                           30   \n",
       "3                             5       9:25:34 AM                           15   \n",
       "4                             1       9:55:18 AM                           13   \n",
       "\n",
       "   Confirmation - Weekday (Mo = 1)  ... Arrival at Destination - Time  \\\n",
       "0                                5  ...                   10:39:55 AM   \n",
       "1                                5  ...                   12:17:22 PM   \n",
       "2                                2  ...                    1:00:38 PM   \n",
       "3                                5  ...                   10:05:27 AM   \n",
       "4                                1  ...                   10:25:37 AM   \n",
       "\n",
       "   Distance (KM)  Temperature Precipitation in millimeters  Pickup Lat  \\\n",
       "0              4         20.4                          NaN   -1.317755   \n",
       "1             16         26.4                          NaN   -1.351453   \n",
       "2              3          NaN                          NaN   -1.308284   \n",
       "3              9         19.2                          NaN   -1.281301   \n",
       "4              9         15.4                          NaN   -1.266597   \n",
       "\n",
       "   Pickup Long Destination Lat  Destination Long      Rider Id  \\\n",
       "0    36.830370       -1.300406         36.829741  Rider_Id_432   \n",
       "1    36.899315       -1.295004         36.814358  Rider_Id_856   \n",
       "2    36.843419       -1.300921         36.828195  Rider_Id_155   \n",
       "3    36.832396       -1.257147         36.795063  Rider_Id_855   \n",
       "4    36.792118       -1.295041         36.809817  Rider_Id_770   \n",
       "\n",
       "  Time from Pickup to Arrival  \n",
       "0                         745  \n",
       "1                        1993  \n",
       "2                         455  \n",
       "3                        1341  \n",
       "4                        1214  \n",
       "\n",
       "[5 rows x 29 columns]"
      ]
     },
     "execution_count": 7,
     "metadata": {},
     "output_type": "execute_result"
    }
   ],
   "source": [
    "train_data.head()"
   ]
  },
  {
   "cell_type": "code",
   "execution_count": 8,
   "metadata": {},
   "outputs": [
    {
     "data": {
      "text/html": [
       "<div>\n",
       "<style scoped>\n",
       "    .dataframe tbody tr th:only-of-type {\n",
       "        vertical-align: middle;\n",
       "    }\n",
       "\n",
       "    .dataframe tbody tr th {\n",
       "        vertical-align: top;\n",
       "    }\n",
       "\n",
       "    .dataframe thead th {\n",
       "        text-align: right;\n",
       "    }\n",
       "</style>\n",
       "<table border=\"1\" class=\"dataframe\">\n",
       "  <thead>\n",
       "    <tr style=\"text-align: right;\">\n",
       "      <th></th>\n",
       "      <th>Order No</th>\n",
       "      <th>User Id</th>\n",
       "      <th>Vehicle Type</th>\n",
       "      <th>Platform Type</th>\n",
       "      <th>Personal or Business</th>\n",
       "      <th>Placement - Day of Month</th>\n",
       "      <th>Placement - Weekday (Mo = 1)</th>\n",
       "      <th>Placement - Time</th>\n",
       "      <th>Confirmation - Day of Month</th>\n",
       "      <th>Confirmation - Weekday (Mo = 1)</th>\n",
       "      <th>...</th>\n",
       "      <th>Pickup - Weekday (Mo = 1)</th>\n",
       "      <th>Pickup - Time</th>\n",
       "      <th>Distance (KM)</th>\n",
       "      <th>Temperature</th>\n",
       "      <th>Precipitation in millimeters</th>\n",
       "      <th>Pickup Lat</th>\n",
       "      <th>Pickup Long</th>\n",
       "      <th>Destination Lat</th>\n",
       "      <th>Destination Long</th>\n",
       "      <th>Rider Id</th>\n",
       "    </tr>\n",
       "  </thead>\n",
       "  <tbody>\n",
       "    <tr>\n",
       "      <th>0</th>\n",
       "      <td>Order_No_19248</td>\n",
       "      <td>User_Id_3355</td>\n",
       "      <td>Bike</td>\n",
       "      <td>3</td>\n",
       "      <td>Business</td>\n",
       "      <td>27</td>\n",
       "      <td>3</td>\n",
       "      <td>4:44:10 PM</td>\n",
       "      <td>27</td>\n",
       "      <td>3</td>\n",
       "      <td>...</td>\n",
       "      <td>3</td>\n",
       "      <td>5:06:47 PM</td>\n",
       "      <td>8</td>\n",
       "      <td>NaN</td>\n",
       "      <td>NaN</td>\n",
       "      <td>-1.333275</td>\n",
       "      <td>36.870815</td>\n",
       "      <td>-1.305249</td>\n",
       "      <td>36.822390</td>\n",
       "      <td>Rider_Id_192</td>\n",
       "    </tr>\n",
       "    <tr>\n",
       "      <th>1</th>\n",
       "      <td>Order_No_12736</td>\n",
       "      <td>User_Id_3647</td>\n",
       "      <td>Bike</td>\n",
       "      <td>3</td>\n",
       "      <td>Business</td>\n",
       "      <td>17</td>\n",
       "      <td>5</td>\n",
       "      <td>12:57:35 PM</td>\n",
       "      <td>17</td>\n",
       "      <td>5</td>\n",
       "      <td>...</td>\n",
       "      <td>5</td>\n",
       "      <td>1:25:37 PM</td>\n",
       "      <td>5</td>\n",
       "      <td>NaN</td>\n",
       "      <td>NaN</td>\n",
       "      <td>-1.272639</td>\n",
       "      <td>36.794723</td>\n",
       "      <td>-1.277007</td>\n",
       "      <td>36.823907</td>\n",
       "      <td>Rider_Id_868</td>\n",
       "    </tr>\n",
       "    <tr>\n",
       "      <th>2</th>\n",
       "      <td>Order_No_768</td>\n",
       "      <td>User_Id_2154</td>\n",
       "      <td>Bike</td>\n",
       "      <td>3</td>\n",
       "      <td>Business</td>\n",
       "      <td>27</td>\n",
       "      <td>4</td>\n",
       "      <td>11:08:14 AM</td>\n",
       "      <td>27</td>\n",
       "      <td>4</td>\n",
       "      <td>...</td>\n",
       "      <td>4</td>\n",
       "      <td>11:57:54 AM</td>\n",
       "      <td>5</td>\n",
       "      <td>22.8</td>\n",
       "      <td>NaN</td>\n",
       "      <td>-1.290894</td>\n",
       "      <td>36.822971</td>\n",
       "      <td>-1.276574</td>\n",
       "      <td>36.851365</td>\n",
       "      <td>Rider_Id_26</td>\n",
       "    </tr>\n",
       "    <tr>\n",
       "      <th>3</th>\n",
       "      <td>Order_No_15332</td>\n",
       "      <td>User_Id_2910</td>\n",
       "      <td>Bike</td>\n",
       "      <td>3</td>\n",
       "      <td>Business</td>\n",
       "      <td>17</td>\n",
       "      <td>1</td>\n",
       "      <td>1:51:35 PM</td>\n",
       "      <td>17</td>\n",
       "      <td>1</td>\n",
       "      <td>...</td>\n",
       "      <td>1</td>\n",
       "      <td>2:16:52 PM</td>\n",
       "      <td>5</td>\n",
       "      <td>24.5</td>\n",
       "      <td>NaN</td>\n",
       "      <td>-1.290503</td>\n",
       "      <td>36.809646</td>\n",
       "      <td>-1.303382</td>\n",
       "      <td>36.790658</td>\n",
       "      <td>Rider_Id_685</td>\n",
       "    </tr>\n",
       "    <tr>\n",
       "      <th>4</th>\n",
       "      <td>Order_No_21373</td>\n",
       "      <td>User_Id_1205</td>\n",
       "      <td>Bike</td>\n",
       "      <td>3</td>\n",
       "      <td>Business</td>\n",
       "      <td>11</td>\n",
       "      <td>2</td>\n",
       "      <td>11:30:28 AM</td>\n",
       "      <td>11</td>\n",
       "      <td>2</td>\n",
       "      <td>...</td>\n",
       "      <td>2</td>\n",
       "      <td>11:56:04 AM</td>\n",
       "      <td>6</td>\n",
       "      <td>24.4</td>\n",
       "      <td>NaN</td>\n",
       "      <td>-1.281081</td>\n",
       "      <td>36.814423</td>\n",
       "      <td>-1.266467</td>\n",
       "      <td>36.792161</td>\n",
       "      <td>Rider_Id_858</td>\n",
       "    </tr>\n",
       "  </tbody>\n",
       "</table>\n",
       "<p>5 rows × 25 columns</p>\n",
       "</div>"
      ],
      "text/plain": [
       "         Order No       User Id Vehicle Type  Platform Type  \\\n",
       "0  Order_No_19248  User_Id_3355         Bike              3   \n",
       "1  Order_No_12736  User_Id_3647         Bike              3   \n",
       "2    Order_No_768  User_Id_2154         Bike              3   \n",
       "3  Order_No_15332  User_Id_2910         Bike              3   \n",
       "4  Order_No_21373  User_Id_1205         Bike              3   \n",
       "\n",
       "  Personal or Business  Placement - Day of Month  \\\n",
       "0             Business                        27   \n",
       "1             Business                        17   \n",
       "2             Business                        27   \n",
       "3             Business                        17   \n",
       "4             Business                        11   \n",
       "\n",
       "   Placement - Weekday (Mo = 1) Placement - Time  Confirmation - Day of Month  \\\n",
       "0                             3       4:44:10 PM                           27   \n",
       "1                             5      12:57:35 PM                           17   \n",
       "2                             4      11:08:14 AM                           27   \n",
       "3                             1       1:51:35 PM                           17   \n",
       "4                             2      11:30:28 AM                           11   \n",
       "\n",
       "   Confirmation - Weekday (Mo = 1)  ... Pickup - Weekday (Mo = 1)  \\\n",
       "0                                3  ...                         3   \n",
       "1                                5  ...                         5   \n",
       "2                                4  ...                         4   \n",
       "3                                1  ...                         1   \n",
       "4                                2  ...                         2   \n",
       "\n",
       "   Pickup - Time  Distance (KM) Temperature  Precipitation in millimeters  \\\n",
       "0     5:06:47 PM              8         NaN                           NaN   \n",
       "1     1:25:37 PM              5         NaN                           NaN   \n",
       "2    11:57:54 AM              5        22.8                           NaN   \n",
       "3     2:16:52 PM              5        24.5                           NaN   \n",
       "4    11:56:04 AM              6        24.4                           NaN   \n",
       "\n",
       "   Pickup Lat Pickup Long  Destination Lat  Destination Long      Rider Id  \n",
       "0   -1.333275   36.870815        -1.305249         36.822390  Rider_Id_192  \n",
       "1   -1.272639   36.794723        -1.277007         36.823907  Rider_Id_868  \n",
       "2   -1.290894   36.822971        -1.276574         36.851365   Rider_Id_26  \n",
       "3   -1.290503   36.809646        -1.303382         36.790658  Rider_Id_685  \n",
       "4   -1.281081   36.814423        -1.266467         36.792161  Rider_Id_858  \n",
       "\n",
       "[5 rows x 25 columns]"
      ]
     },
     "execution_count": 8,
     "metadata": {},
     "output_type": "execute_result"
    }
   ],
   "source": [
    "test_data.head()"
   ]
  },
  {
   "cell_type": "code",
   "execution_count": 9,
   "metadata": {},
   "outputs": [
    {
     "data": {
      "text/plain": [
       "{'Arrival at Destination - Day of Month',\n",
       " 'Arrival at Destination - Time',\n",
       " 'Arrival at Destination - Weekday (Mo = 1)',\n",
       " 'Time from Pickup to Arrival'}"
      ]
     },
     "execution_count": 9,
     "metadata": {},
     "output_type": "execute_result"
    }
   ],
   "source": [
    "x = train_data.columns\n",
    "y = test_data.columns\n",
    "\n",
    "fts = (set(x) - set(y))\n",
    "fts"
   ]
  },
  {
   "cell_type": "code",
   "execution_count": 10,
   "metadata": {},
   "outputs": [
    {
     "data": {
      "text/plain": [
       "Index(['Order No', 'User Id', 'Vehicle Type', 'Platform Type',\n",
       "       'Personal or Business', 'Placement - Day of Month',\n",
       "       'Placement - Weekday (Mo = 1)', 'Placement - Time',\n",
       "       'Confirmation - Day of Month', 'Confirmation - Weekday (Mo = 1)',\n",
       "       'Confirmation - Time', 'Arrival at Pickup - Day of Month',\n",
       "       'Arrival at Pickup - Weekday (Mo = 1)', 'Arrival at Pickup - Time',\n",
       "       'Pickup - Day of Month', 'Pickup - Weekday (Mo = 1)', 'Pickup - Time',\n",
       "       'Arrival at Destination - Day of Month',\n",
       "       'Arrival at Destination - Weekday (Mo = 1)',\n",
       "       'Arrival at Destination - Time', 'Distance (KM)', 'Temperature',\n",
       "       'Precipitation in millimeters', 'Pickup Lat', 'Pickup Long',\n",
       "       'Destination Lat', 'Destination Long', 'Rider Id',\n",
       "       'Time from Pickup to Arrival'],\n",
       "      dtype='object')"
      ]
     },
     "execution_count": 10,
     "metadata": {},
     "output_type": "execute_result"
    }
   ],
   "source": [
    "train_data.columns"
   ]
  },
  {
   "cell_type": "code",
   "execution_count": 11,
   "metadata": {},
   "outputs": [
    {
     "data": {
      "text/plain": [
       "dtype('O')"
      ]
     },
     "execution_count": 11,
     "metadata": {},
     "output_type": "execute_result"
    }
   ],
   "source": [
    "train_data['Arrival at Destination - Time'].dtype"
   ]
  },
  {
   "cell_type": "code",
   "execution_count": 12,
   "metadata": {},
   "outputs": [
    {
     "data": {
      "text/plain": [
       "count    21201.000000\n",
       "mean      1556.920947\n",
       "std        987.270788\n",
       "min          1.000000\n",
       "25%        882.000000\n",
       "50%       1369.000000\n",
       "75%       2040.000000\n",
       "max       7883.000000\n",
       "Name: Time from Pickup to Arrival, dtype: float64"
      ]
     },
     "execution_count": 12,
     "metadata": {},
     "output_type": "execute_result"
    }
   ],
   "source": [
    "train_data['Time from Pickup to Arrival'].describe()"
   ]
  },
  {
   "cell_type": "code",
   "execution_count": 13,
   "metadata": {},
   "outputs": [
    {
     "data": {
      "text/plain": [
       "0    10:27:30 AM\n",
       "1    11:44:09 AM\n",
       "2    12:53:03 PM\n",
       "3     9:43:06 AM\n",
       "4    10:05:23 AM\n",
       "Name: Pickup - Time, dtype: object"
      ]
     },
     "execution_count": 13,
     "metadata": {},
     "output_type": "execute_result"
    }
   ],
   "source": [
    "train_data['Pickup - Time'].head()"
   ]
  },
  {
   "cell_type": "code",
   "execution_count": 14,
   "metadata": {},
   "outputs": [
    {
     "data": {
      "text/plain": [
       "0    10:39:55 AM\n",
       "1    12:17:22 PM\n",
       "2     1:00:38 PM\n",
       "3    10:05:27 AM\n",
       "4    10:25:37 AM\n",
       "Name: Arrival at Destination - Time, dtype: object"
      ]
     },
     "execution_count": 14,
     "metadata": {},
     "output_type": "execute_result"
    }
   ],
   "source": [
    "train_data['Arrival at Destination - Time'].head()"
   ]
  },
  {
   "cell_type": "code",
   "execution_count": 15,
   "metadata": {},
   "outputs": [],
   "source": [
    "#(pd.to_datetime(train_data['Arrival at Destination - Time']) - pd.to_datetime(train_data['Arrival at Pickup - Time'])).astype('timedelta64[s]')#.dt."
   ]
  },
  {
   "cell_type": "code",
   "execution_count": 16,
   "metadata": {},
   "outputs": [
    {
     "data": {
      "text/plain": [
       "{'Arrival at Destination - Day of Month',\n",
       " 'Arrival at Destination - Time',\n",
       " 'Arrival at Destination - Weekday (Mo = 1)',\n",
       " 'Time from Pickup to Arrival'}"
      ]
     },
     "execution_count": 16,
     "metadata": {},
     "output_type": "execute_result"
    }
   ],
   "source": [
    "fts"
   ]
  },
  {
   "cell_type": "code",
   "execution_count": 17,
   "metadata": {},
   "outputs": [
    {
     "name": "stdout",
     "output_type": "stream",
     "text": [
      "(21201, 29)\n"
     ]
    },
    {
     "data": {
      "text/plain": [
       "(7068, 25)"
      ]
     },
     "execution_count": 17,
     "metadata": {},
     "output_type": "execute_result"
    }
   ],
   "source": [
    "#train_data.drop([\n",
    "#    'Arrival at Destination - Day of Month', 'Arrival at Destination - Time', \n",
    "#    'Arrival at Destination - Weekday (Mo = 1)'\n",
    "#], axis=1, inplace=True)\n",
    "\n",
    "print(train_data.shape)\n",
    "test_data.shape"
   ]
  },
  {
   "cell_type": "code",
   "execution_count": 18,
   "metadata": {},
   "outputs": [],
   "source": [
    "train_data.drop_duplicates(keep='first', inplace=True)\n",
    "test_data.drop_duplicates(keep='first', inplace=True)"
   ]
  },
  {
   "cell_type": "code",
   "execution_count": 19,
   "metadata": {},
   "outputs": [
    {
     "name": "stdout",
     "output_type": "stream",
     "text": [
      "(21201, 29)\n"
     ]
    },
    {
     "data": {
      "text/plain": [
       "(7068, 25)"
      ]
     },
     "execution_count": 19,
     "metadata": {},
     "output_type": "execute_result"
    }
   ],
   "source": [
    "print(train_data.shape)\n",
    "test_data.shape"
   ]
  },
  {
   "cell_type": "code",
   "execution_count": 20,
   "metadata": {},
   "outputs": [],
   "source": [
    "train_data.drop('Vehicle Type', axis=1, inplace=True)\n",
    "test_data.drop('Vehicle Type', axis=1, inplace=True)"
   ]
  },
  {
   "cell_type": "code",
   "execution_count": 21,
   "metadata": {},
   "outputs": [
    {
     "data": {
      "text/plain": [
       "Index(['Order No', 'User Id', 'Platform Type', 'Personal or Business',\n",
       "       'Placement - Day of Month', 'Placement - Weekday (Mo = 1)',\n",
       "       'Placement - Time', 'Confirmation - Day of Month',\n",
       "       'Confirmation - Weekday (Mo = 1)', 'Confirmation - Time',\n",
       "       'Arrival at Pickup - Day of Month',\n",
       "       'Arrival at Pickup - Weekday (Mo = 1)', 'Arrival at Pickup - Time',\n",
       "       'Pickup - Day of Month', 'Pickup - Weekday (Mo = 1)', 'Pickup - Time',\n",
       "       'Arrival at Destination - Day of Month',\n",
       "       'Arrival at Destination - Weekday (Mo = 1)',\n",
       "       'Arrival at Destination - Time', 'Distance (KM)', 'Temperature',\n",
       "       'Precipitation in millimeters', 'Pickup Lat', 'Pickup Long',\n",
       "       'Destination Lat', 'Destination Long', 'Rider Id',\n",
       "       'Time from Pickup to Arrival'],\n",
       "      dtype='object')"
      ]
     },
     "execution_count": 21,
     "metadata": {},
     "output_type": "execute_result"
    }
   ],
   "source": [
    "train_data.columns"
   ]
  },
  {
   "cell_type": "code",
   "execution_count": 22,
   "metadata": {},
   "outputs": [
    {
     "data": {
      "text/html": [
       "<div>\n",
       "<style scoped>\n",
       "    .dataframe tbody tr th:only-of-type {\n",
       "        vertical-align: middle;\n",
       "    }\n",
       "\n",
       "    .dataframe tbody tr th {\n",
       "        vertical-align: top;\n",
       "    }\n",
       "\n",
       "    .dataframe thead th {\n",
       "        text-align: right;\n",
       "    }\n",
       "</style>\n",
       "<table border=\"1\" class=\"dataframe\">\n",
       "  <thead>\n",
       "    <tr style=\"text-align: right;\">\n",
       "      <th></th>\n",
       "      <th>Order No</th>\n",
       "      <th>User Id</th>\n",
       "      <th>Platform Type</th>\n",
       "      <th>Personal or Business</th>\n",
       "      <th>Placement - Day of Month</th>\n",
       "      <th>Placement - Weekday (Mo = 1)</th>\n",
       "      <th>Placement - Time</th>\n",
       "      <th>Confirmation - Day of Month</th>\n",
       "      <th>Confirmation - Weekday (Mo = 1)</th>\n",
       "      <th>Confirmation - Time</th>\n",
       "      <th>...</th>\n",
       "      <th>Arrival at Destination - Time</th>\n",
       "      <th>Distance (KM)</th>\n",
       "      <th>Temperature</th>\n",
       "      <th>Precipitation in millimeters</th>\n",
       "      <th>Pickup Lat</th>\n",
       "      <th>Pickup Long</th>\n",
       "      <th>Destination Lat</th>\n",
       "      <th>Destination Long</th>\n",
       "      <th>Rider Id</th>\n",
       "      <th>Time from Pickup to Arrival</th>\n",
       "    </tr>\n",
       "  </thead>\n",
       "  <tbody>\n",
       "    <tr>\n",
       "      <th>0</th>\n",
       "      <td>Order_No_4211</td>\n",
       "      <td>User_Id_633</td>\n",
       "      <td>3</td>\n",
       "      <td>Business</td>\n",
       "      <td>9</td>\n",
       "      <td>5</td>\n",
       "      <td>9:35:46 AM</td>\n",
       "      <td>9</td>\n",
       "      <td>5</td>\n",
       "      <td>9:40:10 AM</td>\n",
       "      <td>...</td>\n",
       "      <td>10:39:55 AM</td>\n",
       "      <td>4</td>\n",
       "      <td>20.4</td>\n",
       "      <td>NaN</td>\n",
       "      <td>-1.317755</td>\n",
       "      <td>36.830370</td>\n",
       "      <td>-1.300406</td>\n",
       "      <td>36.829741</td>\n",
       "      <td>Rider_Id_432</td>\n",
       "      <td>745</td>\n",
       "    </tr>\n",
       "    <tr>\n",
       "      <th>1</th>\n",
       "      <td>Order_No_25375</td>\n",
       "      <td>User_Id_2285</td>\n",
       "      <td>3</td>\n",
       "      <td>Personal</td>\n",
       "      <td>12</td>\n",
       "      <td>5</td>\n",
       "      <td>11:16:16 AM</td>\n",
       "      <td>12</td>\n",
       "      <td>5</td>\n",
       "      <td>11:23:21 AM</td>\n",
       "      <td>...</td>\n",
       "      <td>12:17:22 PM</td>\n",
       "      <td>16</td>\n",
       "      <td>26.4</td>\n",
       "      <td>NaN</td>\n",
       "      <td>-1.351453</td>\n",
       "      <td>36.899315</td>\n",
       "      <td>-1.295004</td>\n",
       "      <td>36.814358</td>\n",
       "      <td>Rider_Id_856</td>\n",
       "      <td>1993</td>\n",
       "    </tr>\n",
       "    <tr>\n",
       "      <th>2</th>\n",
       "      <td>Order_No_1899</td>\n",
       "      <td>User_Id_265</td>\n",
       "      <td>3</td>\n",
       "      <td>Business</td>\n",
       "      <td>30</td>\n",
       "      <td>2</td>\n",
       "      <td>12:39:25 PM</td>\n",
       "      <td>30</td>\n",
       "      <td>2</td>\n",
       "      <td>12:42:44 PM</td>\n",
       "      <td>...</td>\n",
       "      <td>1:00:38 PM</td>\n",
       "      <td>3</td>\n",
       "      <td>NaN</td>\n",
       "      <td>NaN</td>\n",
       "      <td>-1.308284</td>\n",
       "      <td>36.843419</td>\n",
       "      <td>-1.300921</td>\n",
       "      <td>36.828195</td>\n",
       "      <td>Rider_Id_155</td>\n",
       "      <td>455</td>\n",
       "    </tr>\n",
       "    <tr>\n",
       "      <th>3</th>\n",
       "      <td>Order_No_9336</td>\n",
       "      <td>User_Id_1402</td>\n",
       "      <td>3</td>\n",
       "      <td>Business</td>\n",
       "      <td>15</td>\n",
       "      <td>5</td>\n",
       "      <td>9:25:34 AM</td>\n",
       "      <td>15</td>\n",
       "      <td>5</td>\n",
       "      <td>9:26:05 AM</td>\n",
       "      <td>...</td>\n",
       "      <td>10:05:27 AM</td>\n",
       "      <td>9</td>\n",
       "      <td>19.2</td>\n",
       "      <td>NaN</td>\n",
       "      <td>-1.281301</td>\n",
       "      <td>36.832396</td>\n",
       "      <td>-1.257147</td>\n",
       "      <td>36.795063</td>\n",
       "      <td>Rider_Id_855</td>\n",
       "      <td>1341</td>\n",
       "    </tr>\n",
       "  </tbody>\n",
       "</table>\n",
       "<p>4 rows × 28 columns</p>\n",
       "</div>"
      ],
      "text/plain": [
       "         Order No       User Id  Platform Type Personal or Business  \\\n",
       "0   Order_No_4211   User_Id_633              3             Business   \n",
       "1  Order_No_25375  User_Id_2285              3             Personal   \n",
       "2   Order_No_1899   User_Id_265              3             Business   \n",
       "3   Order_No_9336  User_Id_1402              3             Business   \n",
       "\n",
       "   Placement - Day of Month  Placement - Weekday (Mo = 1) Placement - Time  \\\n",
       "0                         9                             5       9:35:46 AM   \n",
       "1                        12                             5      11:16:16 AM   \n",
       "2                        30                             2      12:39:25 PM   \n",
       "3                        15                             5       9:25:34 AM   \n",
       "\n",
       "   Confirmation - Day of Month  Confirmation - Weekday (Mo = 1)  \\\n",
       "0                            9                                5   \n",
       "1                           12                                5   \n",
       "2                           30                                2   \n",
       "3                           15                                5   \n",
       "\n",
       "  Confirmation - Time  ...  Arrival at Destination - Time  Distance (KM)  \\\n",
       "0          9:40:10 AM  ...                    10:39:55 AM              4   \n",
       "1         11:23:21 AM  ...                    12:17:22 PM             16   \n",
       "2         12:42:44 PM  ...                     1:00:38 PM              3   \n",
       "3          9:26:05 AM  ...                    10:05:27 AM              9   \n",
       "\n",
       "  Temperature  Precipitation in millimeters  Pickup Lat Pickup Long  \\\n",
       "0        20.4                           NaN   -1.317755   36.830370   \n",
       "1        26.4                           NaN   -1.351453   36.899315   \n",
       "2         NaN                           NaN   -1.308284   36.843419   \n",
       "3        19.2                           NaN   -1.281301   36.832396   \n",
       "\n",
       "   Destination Lat  Destination Long      Rider Id  \\\n",
       "0        -1.300406         36.829741  Rider_Id_432   \n",
       "1        -1.295004         36.814358  Rider_Id_856   \n",
       "2        -1.300921         36.828195  Rider_Id_155   \n",
       "3        -1.257147         36.795063  Rider_Id_855   \n",
       "\n",
       "   Time from Pickup to Arrival  \n",
       "0                          745  \n",
       "1                         1993  \n",
       "2                          455  \n",
       "3                         1341  \n",
       "\n",
       "[4 rows x 28 columns]"
      ]
     },
     "execution_count": 22,
     "metadata": {},
     "output_type": "execute_result"
    }
   ],
   "source": [
    "train_data.head(4)"
   ]
  },
  {
   "cell_type": "code",
   "execution_count": null,
   "metadata": {},
   "outputs": [],
   "source": []
  },
  {
   "cell_type": "code",
   "execution_count": 23,
   "metadata": {},
   "outputs": [
    {
     "data": {
      "text/plain": [
       "(20107, 28)"
      ]
     },
     "execution_count": 23,
     "metadata": {},
     "output_type": "execute_result"
    }
   ],
   "source": [
    "train_data = train_data[train_data['Time from Pickup to Arrival']>300]\n",
    "\n",
    "train_data.shape"
   ]
  },
  {
   "cell_type": "code",
   "execution_count": null,
   "metadata": {},
   "outputs": [],
   "source": []
  },
  {
   "cell_type": "code",
   "execution_count": 24,
   "metadata": {},
   "outputs": [
    {
     "data": {
      "image/png": "[encoded data removed]",
      "text/plain": [
       "<Figure size 432x288 with 1 Axes>"
      ]
     },
     "metadata": {
      "needs_background": "light"
     },
     "output_type": "display_data"
    }
   ],
   "source": [
    "plt.plot(train_data.groupby('Arrival at Pickup - Day of Month').count()[['Order No']], 'o-', label='train')\n",
    "plt.plot(test_data.groupby('Arrival at Pickup - Day of Month').count()[['Order No']], 'o-', label='test')\n",
    "plt.title('Trips over Time.')\n",
    "plt.legend(loc=0)\n",
    "plt.ylabel('Trips')\n",
    "plt.show()"
   ]
  },
  {
   "cell_type": "code",
   "execution_count": null,
   "metadata": {},
   "outputs": [],
   "source": []
  },
  {
   "cell_type": "code",
   "execution_count": null,
   "metadata": {},
   "outputs": [],
   "source": [
    "train_orders = train_data.groupby('User Id', as_index=False)['Order No'].count().rename(columns={'Order No' : 'No_of_Orders_per_User'}).reset_index(drop=True)\n",
    "test_orders = test_data.groupby('User Id', as_index=False)['Order No'].count().rename(columns={'Order No' : 'No_of_Orders_per_User'}).reset_index(drop=True)\n",
    "\n",
    "\n",
    "train_data = pd.merge(train_data, train_orders, on='User Id', how='left')\n",
    "test_data = pd.merge(test_data, test_orders, on='User Id', how='left')"
   ]
  },
  {
   "cell_type": "code",
   "execution_count": null,
   "metadata": {},
   "outputs": [],
   "source": [
    "#train_data.head()"
   ]
  },
  {
   "cell_type": "code",
   "execution_count": null,
   "metadata": {},
   "outputs": [],
   "source": [
    "def sort_day_of_month(day):\n",
    "    \n",
    "    if day in range(1, 8):\n",
    "        return 'first_wk'\n",
    "    elif day in range(8, 15):\n",
    "        return 'second_wk'\n",
    "    elif day in range(15, 22):\n",
    "        return 'third_wk'\n",
    "    elif day in range(22, 29):\n",
    "        return 'fourth_wk'\n",
    "    else:\n",
    "        return 'fifth_wk'\n",
    "    \n",
    "\n",
    "train_data['Week_of_Placement'] = train_data['Placement - Day of Month'].map(sort_day_of_month)\n",
    "test_data['Week_of_Placement'] = test_data['Placement - Day of Month'].map(sort_day_of_month)\n",
    "\n",
    "train_data['Week_of_Confirmation'] = train_data['Confirmation - Day of Month'].map(sort_day_of_month)\n",
    "test_data['Week_of_Confirmation'] = test_data['Confirmation - Day of Month'].map(sort_day_of_month)\n",
    "\n",
    "train_data['Week_of_Arrival'] = train_data['Arrival at Pickup - Day of Month'].map(sort_day_of_month)\n",
    "test_data['Week_of_Arrival'] = test_data['Arrival at Pickup - Day of Month'].map(sort_day_of_month)\n",
    "\n",
    "train_data['Week_of_Pickup'] = train_data['Pickup - Day of Month'].map(sort_day_of_month)\n",
    "test_data['Week_of_Pickup'] = test_data['Pickup - Day of Month'].map(sort_day_of_month)\n",
    "\n",
    "train_data['Week_of_Dest_Arr'] = train_data['Arrival at Destination - Day of Month'].map(sort_day_of_month)\n",
    "test_data['Week_of_Dest_Arr'] = test_data['Arrival at Pickup - Day of Month'].map(sort_day_of_month)"
   ]
  },
  {
   "cell_type": "code",
   "execution_count": null,
   "metadata": {},
   "outputs": [
    {
     "data": {
      "text/plain": [
       "Index(['Order No', 'User Id', 'Platform Type', 'Personal or Business',\n",
       "       'Placement - Day of Month', 'Placement - Weekday (Mo = 1)',\n",
       "       'Placement - Time', 'Confirmation - Day of Month',\n",
       "       'Confirmation - Weekday (Mo = 1)', 'Confirmation - Time',\n",
       "       'Arrival at Pickup - Day of Month',\n",
       "       'Arrival at Pickup - Weekday (Mo = 1)', 'Arrival at Pickup - Time',\n",
       "       'Pickup - Day of Month', 'Pickup - Weekday (Mo = 1)', 'Pickup - Time',\n",
       "       'Arrival at Destination - Day of Month',\n",
       "       'Arrival at Destination - Weekday (Mo = 1)',\n",
       "       'Arrival at Destination - Time', 'Distance (KM)', 'Temperature',\n",
       "       'Precipitation in millimeters', 'Pickup Lat', 'Pickup Long',\n",
       "       'Destination Lat', 'Destination Long', 'Rider Id',\n",
       "       'Time from Pickup to Arrival', 'No_of_Orders_per_User',\n",
       "       'Week_of_Placement', 'Week_of_Confirmation', 'Week_of_Arrival',\n",
       "       'Week_of_Pickup', 'Week_of_Dest_Arr'],\n",
       "      dtype='object')"
      ]
     },
     "execution_count": 28,
     "metadata": {},
     "output_type": "execute_result"
    }
   ],
   "source": [
    "train_data.columns"
   ]
  },
  {
   "cell_type": "code",
   "execution_count": null,
   "metadata": {},
   "outputs": [],
   "source": [
    "train_data['Placement_hour'] = pd.to_datetime(train_data['Placement - Time']).dt.hour\n",
    "train_data['Placement_min'] = pd.to_datetime(train_data['Placement - Time']).dt.minute\n",
    "train_data['Placement_sec'] = pd.to_datetime(train_data['Placement - Time']).dt.second\n",
    "\n",
    "test_data['Placement_hour'] = pd.to_datetime(test_data['Placement - Time']).dt.hour\n",
    "test_data['Placement_min'] = pd.to_datetime(test_data['Placement - Time']).dt.minute\n",
    "test_data['Placement_sec'] = pd.to_datetime(test_data['Placement - Time']).dt.second\n",
    "\n",
    "\n",
    "#--------------------\n",
    "\n",
    "train_data['Confirmation_hour'] = pd.to_datetime(train_data['Confirmation - Time']).dt.hour\n",
    "train_data['Confirmation_min'] = pd.to_datetime(train_data['Confirmation - Time']).dt.minute\n",
    "train_data['Confirmation_sec'] = pd.to_datetime(train_data['Confirmation - Time']).dt.second\n",
    "\n",
    "test_data['Confirmation_hour'] = pd.to_datetime(test_data['Confirmation - Time']).dt.hour\n",
    "test_data['Confirmation_min'] = pd.to_datetime(test_data['Confirmation - Time']).dt.minute\n",
    "test_data['Confirmation_sec'] = pd.to_datetime(test_data['Confirmation - Time']).dt.second\n",
    "\n",
    "\n",
    "#---------------------------------\n",
    "\n",
    "\n",
    "train_data['Arrival_hour'] = pd.to_datetime(train_data['Arrival at Pickup - Time']).dt.hour\n",
    "train_data['Arrival_min'] = pd.to_datetime(train_data['Arrival at Pickup - Time']).dt.minute\n",
    "train_data['Arrival_sec'] = pd.to_datetime(train_data['Arrival at Pickup - Time']).dt.second\n",
    "\n",
    "test_data['Arrival_hour'] = pd.to_datetime(test_data['Arrival at Pickup - Time']).dt.hour\n",
    "test_data['Arrival_min'] = pd.to_datetime(test_data['Arrival at Pickup - Time']).dt.minute\n",
    "test_data['Arrival_sec'] = pd.to_datetime(test_data['Arrival at Pickup - Time']).dt.second\n",
    "\n",
    "\n",
    "#--------------------\n",
    "\n",
    "train_data['Pickup_hour'] = pd.to_datetime(train_data['Pickup - Time']).dt.hour\n",
    "train_data['Pickup_min'] = pd.to_datetime(train_data['Pickup - Time']).dt.minute\n",
    "train_data['Pickup_sec'] = pd.to_datetime(train_data['Pickup - Time']).dt.second\n",
    "\n",
    "test_data['Pickup_hour'] = pd.to_datetime(test_data['Pickup - Time']).dt.hour\n",
    "test_data['Pickup_min'] = pd.to_datetime(test_data['Pickup - Time']).dt.minute\n",
    "test_data['Pickup_sec'] = pd.to_datetime(test_data['Pickup - Time']).dt.second\n",
    "\n",
    "\n",
    "#---------------------------------\n",
    "\n",
    "train_data['Dest_hour'] = pd.to_datetime(train_data['Arrival at Destination - Time']).dt.hour\n",
    "train_data['Dest_min'] = pd.to_datetime(train_data['Arrival at Destination - Time']).dt.minute\n",
    "train_data['Dest_sec'] = pd.to_datetime(train_data['Arrival at Destination - Time']).dt.second\n",
    "\n",
    "#test_data['Dest_hour'] = pd.to_datetime(test_data['Arrival at Destination - Time']).dt.hour\n",
    "#test_data['Dest_min'] = pd.to_datetime(test_data['Arrival at Destination - Time']).dt.minute\n",
    "#test_data['Dest_sec'] = pd.to_datetime(test_data['Arrival at Destination - Time']).dt.second"
   ]
  },
  {
   "cell_type": "code",
   "execution_count": null,
   "metadata": {},
   "outputs": [],
   "source": [
    "def day_period(hr):\n",
    "    \n",
    "    if hr in range(0, 6):\n",
    "        return 'early_morning'\n",
    "    elif hr in range(6, 12):\n",
    "        return 'morning'\n",
    "    elif hr in range(12, 16):\n",
    "        return 'afternoon'\n",
    "    elif hr in range(16, 20):\n",
    "        return 'evening'\n",
    "    else:\n",
    "        return 'nighttime'\n",
    "    \n",
    "\n",
    "train_data['Placement_period'] = train_data['Placement_hour'].map(day_period)\n",
    "test_data['Placement_period'] = test_data['Placement_hour'].map(day_period)\n",
    "\n",
    "train_data['Confirmation_period'] = train_data['Confirmation_hour'].map(day_period)\n",
    "test_data['Confirmation_period'] = test_data['Confirmation_hour'].map(day_period)\n",
    "\n",
    "train_data['Arrival_period'] = train_data['Arrival_hour'].map(day_period)\n",
    "test_data['Arrival_period'] = test_data['Arrival_hour'].map(day_period)\n",
    "\n",
    "train_data['Pickup_period'] = train_data['Pickup_hour'].map(day_period)\n",
    "test_data['Pickup_period'] = test_data['Pickup_hour'].map(day_period)\n",
    "\n",
    "train_data['Dest_period'] = train_data['Dest_hour'].map(day_period)\n",
    "#test_data['Dest_period'] = test_data['Dest_hour'].map(day_period)"
   ]
  },
  {
   "cell_type": "code",
   "execution_count": null,
   "metadata": {},
   "outputs": [],
   "source": [
    "def min_period(min):\n",
    "    \n",
    "    if min in range(0, 16):\n",
    "        return 'first_quarter'\n",
    "    elif min in range(16, 31):\n",
    "        return 'second_quarter'\n",
    "    elif min in range(31, 46):\n",
    "        return 'third_quarter'\n",
    "    else:\n",
    "        return 'fourth_quarter'\n",
    "    \n",
    "    \n",
    "\n",
    "train_data['Placement_min_period'] = train_data['Placement_min'].map(min_period)\n",
    "test_data['Placement_min_period'] = test_data['Placement_min'].map(min_period)\n",
    "\n",
    "train_data['Confirmation_min_period'] = train_data['Confirmation_min'].map(min_period)\n",
    "test_data['Confirmation_min_period'] = test_data['Confirmation_min'].map(min_period)\n",
    "\n",
    "train_data['Arrival_min_period'] = train_data['Arrival_min'].map(min_period)\n",
    "test_data['Arrival_min_period'] = test_data['Arrival_min'].map(min_period)\n",
    "\n",
    "train_data['Pickup_min_period'] = train_data['Pickup_min'].map(min_period)\n",
    "test_data['Pickup_min_period'] = test_data['Pickup_min'].map(min_period)\n",
    "\n",
    "train_data['Dest_min_period'] = train_data['Dest_min'].map(min_period)\n",
    "#test_data['Pickup_min_period'] = test_data['Pickup_min'].map(min_period)"
   ]
  },
  {
   "cell_type": "code",
   "execution_count": null,
   "metadata": {},
   "outputs": [],
   "source": [
    "train_data['Placement_time_secs'] = train_data['Placement_hour']*3600 + train_data['Placement_min']*60 + train_data['Placement_sec']\n",
    "test_data['Placement_time_secs'] = test_data['Placement_hour']*3600 + test_data['Placement_min']*60 + test_data['Placement_sec']\n",
    "\n",
    "train_data['Confirmation_time_secs'] = train_data['Confirmation_hour']*3600 + train_data['Confirmation_min']*60 + train_data['Confirmation_sec']\n",
    "test_data['Confirmation_time_secs'] = test_data['Confirmation_hour']*3600 + test_data['Confirmation_min']*60 + test_data['Confirmation_sec']\n",
    "\n",
    "train_data['Arrival_time_secs'] = train_data['Arrival_hour']*3600 + train_data['Arrival_min']*60 + train_data['Arrival_sec']\n",
    "test_data['Arrival_time_secs'] = test_data['Arrival_hour']*3600 + test_data['Arrival_min']*60 + test_data['Arrival_sec']\n",
    "\n",
    "train_data['Pickup_time_secs'] = train_data['Pickup_hour']*3600 + train_data['Pickup_min']*60 + train_data['Pickup_sec']\n",
    "test_data['Pickup_time_secs'] = test_data['Pickup_hour']*3600 + test_data['Pickup_min']*60 + test_data['Pickup_sec']\n",
    "\n",
    "train_data['Dest_time_secs'] = train_data['Dest_hour']*3600 + train_data['Dest_min']*60 + train_data['Dest_sec']\n",
    "\n",
    "train_data['Pickup_dt'] = train_data['Pickup_time_secs'] - train_data['Pickup_time_secs'].min()\n",
    "test_data['Pickup_dt'] = test_data['Pickup_time_secs'] - train_data['Pickup_time_secs'].min()"
   ]
  },
  {
   "cell_type": "code",
   "execution_count": null,
   "metadata": {},
   "outputs": [],
   "source": []
  },
  {
   "cell_type": "code",
   "execution_count": null,
   "metadata": {},
   "outputs": [],
   "source": [
    "pd.to_datetime(train_data['Pickup - Time']).head()"
   ]
  },
  {
   "cell_type": "code",
   "execution_count": null,
   "metadata": {},
   "outputs": [],
   "source": [
    "#pd.to_datetime(train_data['Pickup - Time']).astype('datetime64[s]')"
   ]
  },
  {
   "cell_type": "code",
   "execution_count": null,
   "metadata": {},
   "outputs": [],
   "source": [
    "train_data.head()"
   ]
  },
  {
   "cell_type": "code",
   "execution_count": null,
   "metadata": {},
   "outputs": [],
   "source": [
    "train_data['Confirmation - Placement'] = train_data['Confirmation_time_secs'] - train_data['Placement_time_secs']\n",
    "train_data['Arrival - Confirmation'] = train_data['Arrival_time_secs'] - train_data['Confirmation_time_secs']\n",
    "train_data['Pickup - Arrival'] = train_data['Pickup_time_secs'] - train_data['Pickup_time_secs']\n",
    "train_data['Pickup - Confirmation'] = train_data['Pickup_time_secs'] - train_data['Confirmation_time_secs']\n",
    "train_data['Pickup - Placement'] = train_data['Pickup_time_secs'] - train_data['Placement_time_secs']\n",
    "\n",
    "\n",
    "\n",
    "test_data['Confirmation - Placement'] = test_data['Confirmation_time_secs'] - test_data['Placement_time_secs']\n",
    "test_data['Arrival - Confirmation'] = test_data['Arrival_time_secs'] - test_data['Confirmation_time_secs']\n",
    "test_data['Pickup - Arrival'] = test_data['Pickup_time_secs'] - test_data['Pickup_time_secs']\n",
    "test_data['Pickup - Confirmation'] = test_data['Pickup_time_secs'] - test_data['Confirmation_time_secs']\n",
    "test_data['Pickup - Placement'] = test_data['Pickup_time_secs'] - test_data['Placement_time_secs']"
   ]
  },
  {
   "cell_type": "code",
   "execution_count": null,
   "metadata": {},
   "outputs": [],
   "source": [
    "train_data.drop([\n",
    "    'Placement_hour', 'Placement_min', 'Placement_sec', 'Confirmation_hour', 'Confirmation_min',\n",
    "    'Confirmation_sec', 'Arrival_hour', 'Arrival_min', 'Arrival_sec', 'Pickup_hour', 'Pickup_min',\n",
    "    'Pickup_sec'\n",
    "], axis=1, inplace=True)\n",
    "\n",
    "\n",
    "test_data.drop([\n",
    "    'Placement_hour', 'Placement_min', 'Placement_sec', 'Confirmation_hour', 'Confirmation_min',\n",
    "    'Confirmation_sec', 'Arrival_hour', 'Arrival_min', 'Arrival_sec', 'Pickup_hour', 'Pickup_min',\n",
    "    'Pickup_sec'\n",
    "], axis=1, inplace=True)"
   ]
  },
  {
   "cell_type": "code",
   "execution_count": null,
   "metadata": {},
   "outputs": [],
   "source": [
    "#train_data.columns"
   ]
  },
  {
   "cell_type": "code",
   "execution_count": null,
   "metadata": {},
   "outputs": [],
   "source": [
    "train_data['Cyclic_Placement_x'] = train_data['Placement_time_secs'].map(lambda x: math.sin(2*math.pi*x/86400))\n",
    "train_data['Cyclic_Confirmation_x'] = train_data['Confirmation_time_secs'].map(lambda x: math.sin(2*math.pi*x/86400))\n",
    "train_data['Cyclic_Arrival_x'] = train_data['Arrival_time_secs'].map(lambda x: math.sin(2*math.pi*x/86400))\n",
    "train_data['Cyclic_Pickup_x'] = train_data['Pickup_time_secs'].map(lambda x: math.sin(2*math.pi*x/86400))\n",
    "train_data['Cyclic_Dest_x'] = train_data['Dest_time_secs'].map(lambda x: math.sin(2*math.pi*x/86400))\n",
    "\n",
    "train_data['Cyclic_Placement_y'] = train_data['Placement_time_secs'].map(lambda x: math.cos(2*math.pi*x/86400))\n",
    "train_data['Cyclic_Confirmation_y'] = train_data['Confirmation_time_secs'].map(lambda x: math.cos(2*math.pi*x/86400))\n",
    "train_data['Cyclic_Arrival_y'] = train_data['Arrival_time_secs'].map(lambda x: math.cos(2*math.pi*x/86400))\n",
    "train_data['Cyclic_Pickup_y'] = train_data['Pickup_time_secs'].map(lambda x: math.cos(2*math.pi*x/86400))\n",
    "train_data['Cyclic_Dest_y'] = train_data['Dest_time_secs'].map(lambda x: math.cos(2*math.pi*x/86400))\n",
    "\n",
    "\n",
    "#---------------------------\n",
    "\n",
    "\n",
    "\n",
    "test_data['Cyclic_Placement_x'] = test_data['Placement_time_secs'].map(lambda x: math.sin(2*math.pi*x/86400))\n",
    "test_data['Cyclic_Confirmation_x'] = test_data['Confirmation_time_secs'].map(lambda x: math.sin(2*math.pi*x/86400))\n",
    "test_data['Cyclic_Arrival_x'] = test_data['Arrival_time_secs'].map(lambda x: math.sin(2*math.pi*x/86400))\n",
    "test_data['Cyclic_Pickup_x'] = test_data['Pickup_time_secs'].map(lambda x: math.sin(2*math.pi*x/86400))\n",
    "\n",
    "test_data['Cyclic_Placement_y'] = test_data['Placement_time_secs'].map(lambda x: math.cos(2*math.pi*x/86400))\n",
    "test_data['Cyclic_Confirmation_y'] = test_data['Confirmation_time_secs'].map(lambda x: math.cos(2*math.pi*x/86400))\n",
    "test_data['Cyclic_Arrival_y'] = test_data['Arrival_time_secs'].map(lambda x: math.cos(2*math.pi*x/86400))\n",
    "test_data['Cyclic_Pickup_y'] = test_data['Pickup_time_secs'].map(lambda x: math.cos(2*math.pi*x/86400))"
   ]
  },
  {
   "cell_type": "code",
   "execution_count": null,
   "metadata": {},
   "outputs": [],
   "source": [
    "#train_data.columns"
   ]
  },
  {
   "cell_type": "code",
   "execution_count": null,
   "metadata": {},
   "outputs": [],
   "source": [
    "train_data.drop([\n",
    "    'Placement_time_secs', 'Confirmation_time_secs', 'Arrival_time_secs', 'Pickup_time_secs',\n",
    "    'Dest_time_secs'\n",
    "], axis=1, inplace=True)\n",
    "\n",
    "test_data.drop([\n",
    "    'Placement_time_secs', 'Confirmation_time_secs', 'Arrival_time_secs', 'Pickup_time_secs'\n",
    "], axis=1, inplace=True)"
   ]
  },
  {
   "cell_type": "code",
   "execution_count": null,
   "metadata": {},
   "outputs": [],
   "source": [
    "#train_data.columns"
   ]
  },
  {
   "cell_type": "code",
   "execution_count": null,
   "metadata": {},
   "outputs": [],
   "source": [
    "train_data['Cyclic_Confirmation_Placement_x'] = train_data['Confirmation - Placement'].map(lambda x: math.sin(2*math.pi*x/86400))\n",
    "train_data['Cyclic_Arrival_Confirmation_x'] = train_data['Arrival - Confirmation'].map(lambda x: math.sin(2*math.pi*x/86400))\n",
    "train_data['Cyclic_Pickup_Arrival_x'] = train_data['Pickup - Arrival'].map(lambda x: math.sin(2*math.pi*x/86400))\n",
    "train_data['Cyclic_Pickup_Confirmation_x'] = train_data['Pickup - Confirmation'].map(lambda x: math.sin(2*math.pi*x/86400))\n",
    "train_data['Cyclic_Pickup_Placement_x'] = train_data['Pickup - Placement'].map(lambda x: math.sin(2*math.pi*x/86400))\n",
    "\n",
    "train_data['Cyclic_Confirmation_Placement_y'] = train_data['Confirmation - Placement'].map(lambda x: math.cos(2*math.pi*x/86400))\n",
    "train_data['Cyclic_Arrival_Confirmation_y'] = train_data['Arrival - Confirmation'].map(lambda x: math.cos(2*math.pi*x/86400))\n",
    "train_data['Cyclic_Pickup_Arrival_y'] = train_data['Pickup - Arrival'].map(lambda x: math.cos(2*math.pi*x/86400))\n",
    "train_data['Cyclic_Pickup_Confirmation_y'] = train_data['Pickup - Confirmation'].map(lambda x: math.cos(2*math.pi*x/86400))\n",
    "train_data['Cyclic_Pickup_Placement_y'] = train_data['Pickup - Placement'].map(lambda x: math.cos(2*math.pi*x/86400))\n",
    "\n",
    "\n",
    "#-------------------\n",
    "\n",
    "\n",
    "\n",
    "test_data['Cyclic_Confirmation_Placement_x'] = test_data['Confirmation - Placement'].map(lambda x: math.sin(2*math.pi*x/86400))\n",
    "test_data['Cyclic_Arrival_Confirmation_x'] = test_data['Arrival - Confirmation'].map(lambda x: math.sin(2*math.pi*x/86400))\n",
    "test_data['Cyclic_Pickup_Arrival_x'] = test_data['Pickup - Arrival'].map(lambda x: math.sin(2*math.pi*x/86400))\n",
    "test_data['Cyclic_Pickup_Confirmation_x'] = test_data['Pickup - Confirmation'].map(lambda x: math.sin(2*math.pi*x/86400))\n",
    "test_data['Cyclic_Pickup_Placement_x'] = test_data['Pickup - Placement'].map(lambda x: math.sin(2*math.pi*x/86400))\n",
    "\n",
    "test_data['Cyclic_Confirmation_Placement_y'] = test_data['Confirmation - Placement'].map(lambda x: math.cos(2*math.pi*x/86400))\n",
    "test_data['Cyclic_Arrival_Confirmation_y'] = test_data['Arrival - Confirmation'].map(lambda x: math.cos(2*math.pi*x/86400))\n",
    "test_data['Cyclic_Pickup_Arrival_y'] = test_data['Pickup - Arrival'].map(lambda x: math.cos(2*math.pi*x/86400))\n",
    "test_data['Cyclic_Pickup_Confirmation_y'] = test_data['Pickup - Confirmation'].map(lambda x: math.cos(2*math.pi*x/86400))\n",
    "test_data['Cyclic_Pickup_Placement_y'] = test_data['Pickup - Placement'].map(lambda x: math.cos(2*math.pi*x/86400))"
   ]
  },
  {
   "cell_type": "code",
   "execution_count": null,
   "metadata": {},
   "outputs": [],
   "source": [
    "#train_data.columns"
   ]
  },
  {
   "cell_type": "code",
   "execution_count": null,
   "metadata": {},
   "outputs": [],
   "source": [
    "train_data.drop([\n",
    "    'Confirmation - Placement', 'Arrival - Confirmation', 'Pickup - Arrival', 'Pickup - Confirmation',\n",
    "    'Pickup - Placement'\n",
    "], axis=1, inplace=True)\n",
    "\n",
    "\n",
    "test_data.drop([\n",
    "    'Confirmation - Placement', 'Arrival - Confirmation', 'Pickup - Arrival', 'Pickup - Confirmation',\n",
    "    'Pickup - Placement'\n",
    "], axis=1, inplace=True)"
   ]
  },
  {
   "cell_type": "code",
   "execution_count": null,
   "metadata": {},
   "outputs": [],
   "source": [
    "train_data.columns"
   ]
  },
  {
   "cell_type": "code",
   "execution_count": null,
   "metadata": {},
   "outputs": [],
   "source": [
    "train_data = train_data.rename(columns={\n",
    "    'Pickup Lat' : 'lat1', 'Pickup Long' : 'lng1', \n",
    "    'Destination Lat' : 'lat2', 'Destination Long' : 'lng2'\n",
    "})\n",
    "\n",
    "test_data = test_data.rename(columns={\n",
    "    'Pickup Lat' : 'lat1', 'Pickup Long' : 'lng1', \n",
    "    'Destination Lat' : 'lat2', 'Destination Long' : 'lng2'\n",
    "})"
   ]
  },
  {
   "cell_type": "code",
   "execution_count": null,
   "metadata": {},
   "outputs": [],
   "source": [
    "#A. Haversine Distance Between the Two Lat/Lons:\n",
    "\n",
    "def haversine_array(lat1, lng1, lat2, lng2):\n",
    "    lat1, lng1, lat2, lng2 = map(np.radians, (lat1, lng1, lat2, lng2))\n",
    "    AVG_EARTH_RADIUS = 6371  # in km\n",
    "    lat = lat2 - lat1\n",
    "    lng = lng2 - lng1\n",
    "    d = np.sin(lat * 0.5) ** 2 + np.cos(lat1) * np.cos(lat2) * np.sin(lng * 0.5) ** 2\n",
    "    h = 2 * AVG_EARTH_RADIUS * np.arcsin(np.sqrt(d))\n",
    "    return h\n",
    "\n",
    "train_data['Haversine_Distance'] = haversine_array(**train_data[['lat1', 'lng1', 'lat2', 'lng2']])\n",
    "test_data['Haversine_Distance'] = haversine_array(**test_data[['lat1', 'lng1', 'lat2', 'lng2']])"
   ]
  },
  {
   "cell_type": "code",
   "execution_count": null,
   "metadata": {},
   "outputs": [],
   "source": [
    "#B. Manhattan Distance Between the two Lat/Lons:\n",
    "\n",
    "def dummy_manhattan_distance(lat1, lng1, lat2, lng2):\n",
    "    a = haversine_array(lat1, lng1, lat1, lng2)\n",
    "    b = haversine_array(lat1, lng1, lat2, lng1)\n",
    "    return a + b\n",
    "\n",
    "train_data['Manhattan_Distance'] = dummy_manhattan_distance(**train_data[['lat1', 'lng1', 'lat2', 'lng2']])\n",
    "test_data['Manhattan_Distance'] = dummy_manhattan_distance(**test_data[['lat1', 'lng1', 'lat2', 'lng2']])"
   ]
  },
  {
   "cell_type": "code",
   "execution_count": null,
   "metadata": {},
   "outputs": [],
   "source": [
    "#C. Bearing Between the two Lat/Lons:\n",
    "\n",
    "def bearing_array(lat1, lng1, lat2, lng2):\n",
    "    AVG_EARTH_RADIUS = 6371  # in km\n",
    "    lng_delta_rad = np.radians(lng2 - lng1)\n",
    "    lat1, lng1, lat2, lng2 = map(np.radians, (lat1, lng1, lat2, lng2))\n",
    "    y = np.sin(lng_delta_rad) * np.cos(lat2)\n",
    "    x = np.cos(lat1) * np.sin(lat2) - np.sin(lat1) * np.cos(lat2) * np.cos(lng_delta_rad)\n",
    "    return np.degrees(np.arctan2(y, x))\n",
    "\n",
    "train_data['Bearing'] = bearing_array(**train_data[['lat1', 'lng1', 'lat2', 'lng2']])\n",
    "test_data['Bearing'] = bearing_array(**test_data[['lat1', 'lng1', 'lat2', 'lng2']])"
   ]
  },
  {
   "cell_type": "code",
   "execution_count": null,
   "metadata": {},
   "outputs": [],
   "source": [
    "#D. ---- Center Latitude and Longitude between Pickup and Dropoff:\n",
    "\n",
    "train_data.loc[:, 'center_latitude'] = (train_data['lat1'].values + train_data['lat2'].values) / 2\n",
    "train_data.loc[:, 'center_longitude'] = (train_data['lng1'].values + train_data['lng2'].values) / 2\n",
    "\n",
    "\n",
    "test_data.loc[:, 'center_latitude'] = (test_data['lat1'].values + test_data['lat2'].values) / 2\n",
    "test_data.loc[:, 'center_longitude'] = (test_data['lng1'].values + test_data['lng2'].values) / 2"
   ]
  },
  {
   "cell_type": "code",
   "execution_count": null,
   "metadata": {},
   "outputs": [],
   "source": [
    "#E. ---X, Y, Z???\n",
    "\n",
    "\n",
    "train_data['X-coord_Pickup'] = np.cos(train_data['lat1']) * np.cos(train_data['lng1'])\n",
    "train_data['Y-coord-Pickup'] = np.cos(train_data['lat1']) * np.sin(train_data['lng1'])\n",
    "train_data['Z-coord-Pickup'] = np.sin(train_data['lat1'])\n",
    "\n",
    "test_data['X-coord_Pickup'] = np.cos(test_data['lat1']) * np.cos(test_data['lng1'])\n",
    "test_data['Y-coord-Pickup'] = np.cos(test_data['lat1']) * np.sin(test_data['lng1'])\n",
    "test_data['Z-coord-Pickup'] = np.sin(test_data['lat1'])\n",
    "\n",
    "\n",
    "#------------------------------------------\n",
    "\n",
    "\n",
    "train_data['X-coord_Dest.'] = np.cos(train_data['lat2']) * np.cos(train_data['lng2'])\n",
    "train_data['Y-coord-Dest.'] = np.cos(train_data['lat2']) * np.sin(train_data['lng2'])\n",
    "train_data['Z-coord-Dest.'] = np.sin(train_data['lat2'])\n",
    "\n",
    "test_data['X-coord_Dest.'] = np.cos(test_data['lat2']) * np.cos(test_data['lng2'])\n",
    "test_data['Y-coord-Dest.'] = np.cos(test_data['lat2']) * np.sin(test_data['lng2'])\n",
    "test_data['Z-coord-Dest.'] = np.sin(test_data['lat2'])"
   ]
  },
  {
   "cell_type": "code",
   "execution_count": null,
   "metadata": {},
   "outputs": [],
   "source": [
    "#train_data.head()"
   ]
  },
  {
   "cell_type": "code",
   "execution_count": null,
   "metadata": {},
   "outputs": [],
   "source": [
    "#train_data[['Distance (KM)', 'Haversine_Distance', 'Manhattan_Distance']]"
   ]
  },
  {
   "cell_type": "code",
   "execution_count": null,
   "metadata": {},
   "outputs": [],
   "source": [
    "#F. Lat-Long\n",
    "\n",
    "train_data['latlng1'] = train_data['lat1'] + train_data['lng1']\n",
    "train_data['latlng2'] = train_data['lat2'] + train_data['lng2']\n",
    "\n",
    "\n",
    "test_data['latlng1'] = test_data['lat1'] + test_data['lng1']\n",
    "test_data['latlng2'] = test_data['lat2'] + test_data['lng2']"
   ]
  },
  {
   "cell_type": "code",
   "execution_count": null,
   "metadata": {},
   "outputs": [],
   "source": [
    "\n",
    "\n",
    "coords = np.vstack((train_data[['lat1', 'lng1']].values,\n",
    "                    train_data[['lat2', 'lng2']].values,\n",
    "                    test_data[['lat1', 'lng1']].values,\n",
    "                    test_data[['lat2', 'lng2']].values))\n",
    " \n"
   ]
  },
  {
   "cell_type": "code",
   "execution_count": null,
   "metadata": {},
   "outputs": [],
   "source": [
    "#H. PCA\n",
    "\n",
    "from sklearn.decomposition import PCA\n",
    "\n",
    "pca = PCA().fit(coords)\n",
    "\n",
    "train_data['pickup_pca0'] = pca.transform(train_data[['lat1', 'lng1']])[:, 0]\n",
    "train_data['pickup_pca1'] = pca.transform(train_data[['lat1', 'lng1']])[:, 1]\n",
    "train_data['dropoff_pca0'] = pca.transform(train_data[['lat2', 'lng2']])[:, 0]\n",
    "train_data['dropoff_pca1'] = pca.transform(train_data[['lat2', 'lng2']])[:, 1]\n",
    "\n",
    "test_data['pickup_pca0'] = pca.transform(test_data[['lat1', 'lng1']])[:, 0]\n",
    "test_data['pickup_pca1'] = pca.transform(test_data[['lat1', 'lng1']])[:, 1]\n",
    "test_data['dropoff_pca0'] = pca.transform(test_data[['lat2', 'lng2']])[:, 0]\n",
    "test_data['dropoff_pca1'] = pca.transform(test_data[['lat2', 'lng2']])[:, 1]"
   ]
  },
  {
   "cell_type": "code",
   "execution_count": null,
   "metadata": {},
   "outputs": [],
   "source": [
    "#I. Speed\n",
    "\n",
    "\n",
    "train_data.loc[:, 'Avg_speed'] = 1000 * train_data['Distance (KM)'] / train_data['Time from Pickup to Arrival']\n",
    "train_data.loc[:, 'Avg_speed_h'] = 1000 * train_data['Haversine_Distance'] / train_data['Time from Pickup to Arrival']\n",
    "train_data.loc[:, 'Avg_speed_m'] = 1000 * train_data['Manhattan_Distance'] / train_data['Time from Pickup to Arrival']"
   ]
  },
  {
   "cell_type": "code",
   "execution_count": null,
   "metadata": {},
   "outputs": [],
   "source": [
    "#J. Bin long lat\n",
    "\n",
    "train_data['lat1_bin'] = np.round(train_data['lat1'], 2)\n",
    "test_data['lat1_bin'] = np.round(test_data['lat1'], 2)\n",
    "\n",
    "train_data['lat2_bin'] = np.round(train_data['lat2'], 2)\n",
    "test_data['lat2_bin'] = np.round(test_data['lat2'], 2)\n",
    "\n",
    "train_data['lng1_bin'] = np.round(train_data['lng1'], 2)\n",
    "test_data['lng1_bin'] = np.round(test_data['lng1'], 2)\n",
    "\n",
    "train_data['lng2_bin'] = np.round(train_data['lng2'], 2)\n",
    "test_data['lng2_bin'] = np.round(test_data['lng2'], 2)"
   ]
  },
  {
   "cell_type": "code",
   "execution_count": null,
   "metadata": {},
   "outputs": [],
   "source": [
    "train_data['Temperature'] = train_data.groupby(['lat2_bin', 'lng2_bin'])['Temperature'].transform(lambda x: x.fillna(x.mean()))\n",
    "test_data['Temperature'] = test_data.groupby(['lat2_bin', 'lng2_bin'])['Temperature'].transform(lambda x: x.fillna(x.mean()))#.isnull().sum()"
   ]
  },
  {
   "cell_type": "code",
   "execution_count": null,
   "metadata": {},
   "outputs": [],
   "source": [
    "print(train_data['Temperature'].mean())\n",
    "print(train_data['Temperature'].std())\n",
    "print(train_data['Temperature'].median())\n",
    "print(train_data['Temperature'].mode())"
   ]
  },
  {
   "cell_type": "code",
   "execution_count": null,
   "metadata": {},
   "outputs": [],
   "source": [
    "train_data['Temperature'] = train_data['Temperature'].fillna(train_data['Temperature'].mean())\n",
    "test_data['Temperature'] = test_data['Temperature'].fillna(test_data['Temperature'].mean())"
   ]
  },
  {
   "cell_type": "code",
   "execution_count": null,
   "metadata": {},
   "outputs": [],
   "source": []
  },
  {
   "cell_type": "code",
   "execution_count": null,
   "metadata": {},
   "outputs": [],
   "source": [
    "train_data['Precipitation in millimeters'] = train_data.groupby(['lat2_bin', 'lng2_bin'])['Precipitation in millimeters'].transform(lambda x: x.fillna(x.mean()))#.isnull().sum()\n",
    "test_data['Precipitation in millimeters'] = test_data.groupby(['lat2_bin', 'lng2_bin'])['Precipitation in millimeters'].transform(lambda x: x.fillna(x.mean()))#.isnull().sum()"
   ]
  },
  {
   "cell_type": "code",
   "execution_count": null,
   "metadata": {},
   "outputs": [],
   "source": [
    "print(train_data['Precipitation in millimeters'].mean())\n",
    "print(train_data['Precipitation in millimeters'].std())\n",
    "print(train_data['Precipitation in millimeters'].median())\n",
    "print(train_data['Precipitation in millimeters'].mode())"
   ]
  },
  {
   "cell_type": "code",
   "execution_count": null,
   "metadata": {},
   "outputs": [],
   "source": [
    "train_data['Precipitation in millimeters'].isnull().sum()"
   ]
  },
  {
   "cell_type": "code",
   "execution_count": null,
   "metadata": {},
   "outputs": [],
   "source": [
    "train_data['Precipitation in millimeters'] = train_data['Precipitation in millimeters'].fillna(method='ffill')\n",
    "test_data['Precipitation in millimeters'] = test_data['Precipitation in millimeters'].fillna(method='ffill')"
   ]
  },
  {
   "cell_type": "code",
   "execution_count": null,
   "metadata": {},
   "outputs": [],
   "source": []
  },
  {
   "cell_type": "code",
   "execution_count": null,
   "metadata": {},
   "outputs": [],
   "source": [
    "fig, ax = plt.subplots(nrows=1, ncols=2, figsize=(16, 4))\n",
    "\n",
    "ax1 = train_data['Distance (KM)'].hist(figsize=(5, 3), ax=ax[0])\n",
    "\n",
    "ax2 = ax[1]\n",
    "stats.probplot(train_data['Distance (KM)'], plot = ax2)\n",
    "#ax2.set_title('', size=18)"
   ]
  },
  {
   "cell_type": "code",
   "execution_count": null,
   "metadata": {},
   "outputs": [],
   "source": [
    "fig, ax = plt.subplots(nrows=1, ncols=2, figsize=(16, 4))\n",
    "\n",
    "ax1 = (train_data['Distance (KM)']**(1/5)).hist(figsize=(5, 3), ax=ax[0])\n",
    "\n",
    "ax2 = ax[1]\n",
    "stats.probplot((train_data['Distance (KM)']**(1/5)), plot = ax2)\n",
    "#ax2.set_title('', size=18)"
   ]
  },
  {
   "cell_type": "code",
   "execution_count": null,
   "metadata": {},
   "outputs": [],
   "source": [
    "train_data['Distance (KM)'] = train_data['Distance (KM)']**(1/5)\n",
    "test_data['Distance (KM)'] = test_data['Distance (KM)']**(1/5)"
   ]
  },
  {
   "cell_type": "code",
   "execution_count": null,
   "metadata": {},
   "outputs": [],
   "source": [
    "#(test_data['Haversine_Distance']**(1/3)).hist()\n",
    "\n",
    "train_data['Haversine_Distance'] = train_data['Haversine_Distance']**(1/3)\n",
    "test_data['Haversine_Distance'] = test_data['Haversine_Distance']**(1/3)\n",
    "\n",
    "train_data['Manhattan_Distance'] = train_data['Manhattan_Distance']**(1/3)\n",
    "test_data['Manhattan_Distance'] = test_data['Manhattan_Distance']**(1/3)"
   ]
  },
  {
   "cell_type": "code",
   "execution_count": null,
   "metadata": {},
   "outputs": [],
   "source": []
  },
  {
   "cell_type": "code",
   "execution_count": null,
   "metadata": {},
   "outputs": [],
   "source": [
    "train_data['Platform Type'] = train_data['Platform Type'].astype(str)\n",
    "test_data['Platform Type'] = test_data['Platform Type'].astype(str)"
   ]
  },
  {
   "cell_type": "code",
   "execution_count": null,
   "metadata": {},
   "outputs": [],
   "source": [
    "train_data['Placement_Day_x'] = train_data['Placement - Day of Month'].map(lambda x: math.sin(2*math.pi*x/31))\n",
    "train_data['Confirmation_Day_x'] = train_data['Confirmation - Day of Month'].map(lambda x: math.sin(2*math.pi*x/31))\n",
    "train_data['Pickup_Day_x'] = train_data['Pickup - Day of Month'].map(lambda x: math.sin(2*math.pi*x/31))\n",
    "train_data['Arrival_Day_x'] = train_data['Arrival at Pickup - Day of Month'].map(lambda x: math.sin(2*math.pi*x/31))\n",
    "train_data['Destination_Day_x'] = train_data['Arrival at Destination - Day of Month'].map(lambda x: math.sin(2*math.pi*x/31))\n",
    "\n",
    "\n",
    "train_data['Placement_Day_y'] = train_data['Placement - Day of Month'].map(lambda x: math.cos(2*math.pi*x/31))\n",
    "train_data['Confirmation_Day_y'] = train_data['Confirmation - Day of Month'].map(lambda x: math.cos(2*math.pi*x/31))\n",
    "train_data['Pickup_Day_y'] = train_data['Pickup - Day of Month'].map(lambda x: math.cos(2*math.pi*x/31))\n",
    "train_data['Arrival_Day_y'] = train_data['Arrival at Pickup - Day of Month'].map(lambda x: math.cos(2*math.pi*x/31))\n",
    "train_data['Destination_Day_y'] = train_data['Arrival at Destination - Day of Month'].map(lambda x: math.cos(2*math.pi*x/31))\n",
    "\n",
    "\n",
    "#-------------------\n",
    "\n",
    "\n",
    "\n",
    "test_data['Placement_Day_x'] = test_data['Placement - Day of Month'].map(lambda x: math.sin(2*math.pi*x/31))\n",
    "test_data['Confirmation_Day_x'] = test_data['Confirmation - Day of Month'].map(lambda x: math.sin(2*math.pi*x/31))\n",
    "test_data['Pickup_Day_x'] = test_data['Pickup - Day of Month'].map(lambda x: math.sin(2*math.pi*x/31))\n",
    "test_data['Arrival_Day_x'] = test_data['Arrival at Pickup - Day of Month'].map(lambda x: math.sin(2*math.pi*x/31))\n",
    "\n",
    "\n",
    "test_data['Placement_Day_y'] = test_data['Placement - Day of Month'].map(lambda x: math.cos(2*math.pi*x/31))\n",
    "test_data['Confirmation_Day_y'] = test_data['Confirmation - Day of Month'].map(lambda x: math.cos(2*math.pi*x/31))\n",
    "test_data['Pickup_Day_y'] = test_data['Pickup - Day of Month'].map(lambda x: math.cos(2*math.pi*x/31))\n",
    "test_data['Arrival_Day_y'] = test_data['Arrival at Pickup - Day of Month'].map(lambda x: math.cos(2*math.pi*x/31))"
   ]
  },
  {
   "cell_type": "code",
   "execution_count": null,
   "metadata": {},
   "outputs": [],
   "source": [
    "train_data['Placement_WDay_x'] = train_data['Placement - Weekday (Mo = 1)'].map(lambda x: math.sin(2*math.pi*x/7))\n",
    "train_data['Confirmation_WDay_x'] = train_data['Confirmation - Weekday (Mo = 1)'].map(lambda x: math.sin(2*math.pi*x/7))\n",
    "train_data['Pickup_WDay_x'] = train_data['Pickup - Weekday (Mo = 1)'].map(lambda x: math.sin(2*math.pi*x/7))\n",
    "train_data['Arrival_WDay_x'] = train_data['Arrival at Pickup - Weekday (Mo = 1)'].map(lambda x: math.sin(2*math.pi*x/7))\n",
    "train_data['Destination_WDay_x'] = train_data['Arrival at Destination - Weekday (Mo = 1)'].map(lambda x: math.sin(2*math.pi*x/7))\n",
    "\n",
    "\n",
    "train_data['Placement_WDay_y'] = train_data['Placement - Weekday (Mo = 1)'].map(lambda x: math.cos(2*math.pi*x/7))\n",
    "train_data['Confirmation_WDay_y'] = train_data['Confirmation - Weekday (Mo = 1)'].map(lambda x: math.cos(2*math.pi*x/7))\n",
    "train_data['Pickup_WDay_y'] = train_data['Pickup - Weekday (Mo = 1)'].map(lambda x: math.cos(2*math.pi*x/7))\n",
    "train_data['Arrival_WDay_y'] = train_data['Arrival at Pickup - Weekday (Mo = 1)'].map(lambda x: math.cos(2*math.pi*x/7))\n",
    "train_data['Arrival_WDay_y'] = train_data['Arrival at Destination - Weekday (Mo = 1)'].map(lambda x: math.cos(2*math.pi*x/7))\n",
    "\n",
    "\n",
    "#-------------------\n",
    "\n",
    "\n",
    "\n",
    "test_data['Placement_WDay_x'] = test_data['Placement - Weekday (Mo = 1)'].map(lambda x: math.sin(2*math.pi*x/7))\n",
    "test_data['Confirmation_WDay_x'] = test_data['Confirmation - Weekday (Mo = 1)'].map(lambda x: math.sin(2*math.pi*x/7))\n",
    "test_data['Pickup_WDay_x'] = test_data['Pickup - Weekday (Mo = 1)'].map(lambda x: math.sin(2*math.pi*x/7))\n",
    "test_data['Arrival_WDay_x'] = test_data['Arrival at Pickup - Weekday (Mo = 1)'].map(lambda x: math.sin(2*math.pi*x/7))\n",
    "\n",
    "\n",
    "test_data['Placement_WDay_y'] = test_data['Placement - Weekday (Mo = 1)'].map(lambda x: math.cos(2*math.pi*x/7))\n",
    "test_data['Confirmation_WDay_y'] = test_data['Confirmation - Weekday (Mo = 1)'].map(lambda x: math.cos(2*math.pi*x/7))\n",
    "test_data['Pickup_WDay_y'] = test_data['Pickup - Weekday (Mo = 1)'].map(lambda x: math.cos(2*math.pi*x/7))\n",
    "test_data['Arrival_WDay_y'] = test_data['Arrival at Pickup - Weekday (Mo = 1)'].map(lambda x: math.cos(2*math.pi*x/7))"
   ]
  },
  {
   "cell_type": "code",
   "execution_count": null,
   "metadata": {},
   "outputs": [],
   "source": [
    "train_data.shape"
   ]
  },
  {
   "cell_type": "code",
   "execution_count": null,
   "metadata": {},
   "outputs": [],
   "source": [
    "#train_data.columns[-30:]"
   ]
  },
  {
   "cell_type": "code",
   "execution_count": null,
   "metadata": {},
   "outputs": [],
   "source": [
    "train_data.select_dtypes(include='object').columns"
   ]
  },
  {
   "cell_type": "code",
   "execution_count": null,
   "metadata": {},
   "outputs": [],
   "source": [
    "train_data.drop([\n",
    "    'Order No', 'User Id', 'Placement - Time', 'Confirmation - Time', 'Arrival at Pickup - Time', 'Pickup - Time',\n",
    "    'Week_of_Placement', 'Week_of_Confirmation', 'Week_of_Arrival', 'Week_of_Pickup', \n",
    "    'Week_of_Dest_Arr', 'Placement - Day of Month', 'Placement - Weekday (Mo = 1)',\n",
    "       'Confirmation - Day of Month', 'Confirmation - Weekday (Mo = 1)',\n",
    "       'Arrival at Pickup - Day of Month',\n",
    "       'Arrival at Pickup - Weekday (Mo = 1)', 'Pickup - Day of Month',\n",
    "       'Pickup - Weekday (Mo = 1)', 'Arrival at Destination - Day of Month',\n",
    "       'Arrival at Destination - Weekday (Mo = 1)',\n",
    "       'Arrival at Destination - Time'\n",
    "], axis=1, inplace=True)\n",
    "\n",
    "orderNo = test_data['Order No']\n",
    "test_data.drop([\n",
    "    'Order No', 'User Id', 'Placement - Time', 'Confirmation - Time', 'Arrival at Pickup - Time', 'Pickup - Time',\n",
    "    'Week_of_Placement', 'Week_of_Confirmation', 'Week_of_Arrival', 'Week_of_Pickup', 'Placement - Day of Month', 'Placement - Weekday (Mo = 1)',\n",
    "       'Confirmation - Day of Month', 'Confirmation - Weekday (Mo = 1)',\n",
    "       'Arrival at Pickup - Day of Month',\n",
    "       'Arrival at Pickup - Weekday (Mo = 1)', 'Pickup - Day of Month',\n",
    "       'Pickup - Weekday (Mo = 1)'\n",
    "], axis=1, inplace=True)"
   ]
  },
  {
   "cell_type": "code",
   "execution_count": null,
   "metadata": {},
   "outputs": [],
   "source": [
    "train_data.columns"
   ]
  },
  {
   "cell_type": "code",
   "execution_count": null,
   "metadata": {},
   "outputs": [],
   "source": []
  },
  {
   "cell_type": "code",
   "execution_count": null,
   "metadata": {},
   "outputs": [],
   "source": [
    "riders = pd.read_csv('riders_modified.csv', index_col=0)\n",
    "riders.head(3)"
   ]
  },
  {
   "cell_type": "code",
   "execution_count": null,
   "metadata": {},
   "outputs": [],
   "source": []
  },
  {
   "cell_type": "code",
   "execution_count": null,
   "metadata": {},
   "outputs": [],
   "source": [
    "train_data = pd.merge(train_data, riders, on='Rider Id', how='left')\n",
    "test_data = pd.merge(test_data, riders, on='Rider Id', how='left')"
   ]
  },
  {
   "cell_type": "code",
   "execution_count": null,
   "metadata": {},
   "outputs": [],
   "source": [
    "train_riderId = train_data['Rider Id']\n",
    "test_riderId = test_data['Rider Id']\n",
    "\n",
    "train_data.drop('Rider Id', axis=1, inplace=True)\n",
    "test_data.drop('Rider Id', axis=1, inplace=True)"
   ]
  },
  {
   "cell_type": "code",
   "execution_count": null,
   "metadata": {},
   "outputs": [],
   "source": [
    "train_data['Avg_rating_bin'] = train_data['Avg_rating_bin'].astype(str)\n",
    "test_data['Avg_rating_bin'] = test_data['Avg_rating_bin'].astype(str)"
   ]
  },
  {
   "cell_type": "code",
   "execution_count": null,
   "metadata": {},
   "outputs": [],
   "source": [
    "train_data.select_dtypes(include='object').columns"
   ]
  },
  {
   "cell_type": "code",
   "execution_count": null,
   "metadata": {},
   "outputs": [],
   "source": []
  },
  {
   "cell_type": "code",
   "execution_count": null,
   "metadata": {},
   "outputs": [],
   "source": [
    "print(train_data.shape)\n",
    "print(test_data.shape)"
   ]
  },
  {
   "cell_type": "code",
   "execution_count": null,
   "metadata": {},
   "outputs": [],
   "source": [
    "train_data.drop(['Avg_speed',\n",
    "                'Avg_speed_h',\n",
    " 'Avg_speed_m',\n",
    " 'Cyclic_Dest_x',\n",
    " 'Cyclic_Dest_y',\n",
    " 'Dest_hour',\n",
    " 'Dest_min',\n",
    " 'Dest_sec',\n",
    " 'Destination_Day_x',\n",
    " 'Destination_Day_y',\n",
    " 'Destination_WDay_x'],\n",
    " axis=1, inplace=True)"
   ]
  },
  {
   "cell_type": "code",
   "execution_count": null,
   "metadata": {},
   "outputs": [],
   "source": [
    "time = train_data['Time from Pickup to Arrival']\n",
    "\n",
    "train_num = train_data.drop('Time from Pickup to Arrival', axis=1).select_dtypes(exclude='object')\n",
    "test_num = test_data.select_dtypes(exclude='object')\n",
    "\n",
    "train_cat = train_data.select_dtypes(include='object')\n",
    "test_cat = test_data.select_dtypes(include='object')\n",
    "\n",
    "train_cat['label'] = 1\n",
    "test_cat['label'] = 0"
   ]
  },
  {
   "cell_type": "code",
   "execution_count": null,
   "metadata": {},
   "outputs": [],
   "source": [
    "combined = pd.concat([train_cat, test_cat], axis=0)#.reset_index(drop=True)"
   ]
  },
  {
   "cell_type": "code",
   "execution_count": null,
   "metadata": {},
   "outputs": [],
   "source": [
    "combined = pd.get_dummies(combined, columns=combined.columns[:-1], drop_first=True)\n",
    "\n",
    "train_cat = combined[combined['label']==1]\n",
    "test_cat = combined[combined['label']==0]"
   ]
  },
  {
   "cell_type": "code",
   "execution_count": null,
   "metadata": {
    "scrolled": true
   },
   "outputs": [],
   "source": [
    "train_cat.drop('label', axis=1, inplace=True)\n",
    "test_cat.drop('label', axis=1, inplace=True)"
   ]
  },
  {
   "cell_type": "code",
   "execution_count": null,
   "metadata": {},
   "outputs": [],
   "source": [
    "train_data = pd.concat([train_num, train_cat, time], axis=1)\n",
    "test_data = pd.concat([test_num, test_cat], axis=1)"
   ]
  },
  {
   "cell_type": "code",
   "execution_count": null,
   "metadata": {},
   "outputs": [],
   "source": [
    "train_data.head(3)"
   ]
  },
  {
   "cell_type": "code",
   "execution_count": null,
   "metadata": {},
   "outputs": [],
   "source": []
  },
  {
   "cell_type": "code",
   "execution_count": null,
   "metadata": {},
   "outputs": [],
   "source": [
    "train_data.shape"
   ]
  },
  {
   "cell_type": "code",
   "execution_count": null,
   "metadata": {},
   "outputs": [],
   "source": [
    "test_data.shape"
   ]
  },
  {
   "cell_type": "code",
   "execution_count": null,
   "metadata": {},
   "outputs": [],
   "source": [
    "train_data.shape"
   ]
  },
  {
   "cell_type": "code",
   "execution_count": null,
   "metadata": {},
   "outputs": [],
   "source": [
    "test_data.shape"
   ]
  },
  {
   "cell_type": "code",
   "execution_count": null,
   "metadata": {},
   "outputs": [],
   "source": [
    "y = train_data['Time from Pickup to Arrival']\n",
    "X = train_data.drop('Time from Pickup to Arrival', axis=1)"
   ]
  },
  {
   "cell_type": "code",
   "execution_count": null,
   "metadata": {},
   "outputs": [],
   "source": []
  },
  {
   "cell_type": "code",
   "execution_count": null,
   "metadata": {},
   "outputs": [],
   "source": [
    "from sklearn.ensemble import RandomForestRegressor\n",
    "from sklearn.tree import DecisionTreeRegressor\n",
    "import xgboost as xgb\n",
    "import lightgbm as lgb\n",
    "#import catboost as cat\n",
    "from sklearn.svm import SVR\n",
    "from sklearn.linear_model import LinearRegression\n",
    "from sklearn.ensemble import ExtraTreesRegressor\n",
    "from sklearn.ensemble import BaggingRegressor\n",
    "from sklearn.ensemble import GradientBoostingRegressor\n",
    "from sklearn.ensemble import AdaBoostRegressor"
   ]
  },
  {
   "cell_type": "code",
   "execution_count": null,
   "metadata": {},
   "outputs": [],
   "source": [
    "import mlxtend\n",
    "from mlxtend.feature_selection import SequentialFeatureSelector as SFS\n",
    "from sklearn.pipeline import Pipeline\n",
    "\n",
    "from sklearn.model_selection import train_test_split, KFold, cross_val_score, GridSearchCV\n",
    "from sklearn.metrics import mean_squared_error"
   ]
  },
  {
   "cell_type": "code",
   "execution_count": null,
   "metadata": {},
   "outputs": [],
   "source": []
  },
  {
   "cell_type": "code",
   "execution_count": null,
   "metadata": {},
   "outputs": [],
   "source": [
    "X_train, X_test, y_train, y_test = train_test_split(X, y, test_size=0.25, random_state=42)"
   ]
  },
  {
   "cell_type": "code",
   "execution_count": 118,
   "metadata": {},
   "outputs": [
    {
     "data": {
      "text/plain": [
       "662.1415107427221"
      ]
     },
     "execution_count": 118,
     "metadata": {},
     "output_type": "execute_result"
    }
   ],
   "source": [
    "xgbm = xgb.XGBRegressor(\n",
    "    n_estimators=250, max_depth=4, learning_rate=0.08, subsample=0.8, colsample_bytree=0.8, \n",
    "    n_jobs=-1, random_state=42\n",
    ")\n",
    "\n",
    "math.sqrt(-cross_val_score(xgbm, X_train, y_train, cv=KFold(n_splits=5), scoring='neg_mean_squared_error', n_jobs=-1).mean())"
   ]
  },
  {
   "cell_type": "code",
   "execution_count": 119,
   "metadata": {},
   "outputs": [
    {
     "name": "stderr",
     "output_type": "stream",
     "text": [
      "C:\\Users\\USER\\AppData\\Local\\Continuum\\anaconda3\\lib\\site-packages\\xgboost\\core.py:587: FutureWarning: Series.base is deprecated and will be removed in a future version\n",
      "  if getattr(data, 'base', None) is not None and \\\n"
     ]
    },
    {
     "name": "stdout",
     "output_type": "stream",
     "text": [
      "[12:22:00] WARNING: src/objective/regression_obj.cu:152: reg:linear is now deprecated in favor of reg:squarederror.\n"
     ]
    },
    {
     "data": {
      "text/plain": [
       "XGBRegressor(base_score=0.5, booster='gbtree', colsample_bylevel=1,\n",
       "             colsample_bynode=1, colsample_bytree=0.8, gamma=0,\n",
       "             importance_type='gain', learning_rate=0.08, max_delta_step=0,\n",
       "             max_depth=4, min_child_weight=1, missing=None, n_estimators=250,\n",
       "             n_jobs=-1, nthread=None, objective='reg:linear', random_state=42,\n",
       "             reg_alpha=0, reg_lambda=1, scale_pos_weight=1, seed=None,\n",
       "             silent=None, subsample=0.8, verbosity=1)"
      ]
     },
     "execution_count": 119,
     "metadata": {},
     "output_type": "execute_result"
    }
   ],
   "source": [
    "xgbm.fit(X_train, y_train)"
   ]
  },
  {
   "cell_type": "code",
   "execution_count": 122,
   "metadata": {},
   "outputs": [
    {
     "data": {
      "text/plain": [
       "649.3350683361872"
      ]
     },
     "execution_count": 122,
     "metadata": {},
     "output_type": "execute_result"
    }
   ],
   "source": [
    "math.sqrt(mean_squared_error(y_test, xgbm.predict(X_test)))"
   ]
  },
  {
   "cell_type": "code",
   "execution_count": 127,
   "metadata": {},
   "outputs": [
    {
     "name": "stdout",
     "output_type": "stream",
     "text": [
      "[12:50:43] WARNING: src/objective/regression_obj.cu:152: reg:linear is now deprecated in favor of reg:squarederror.\n"
     ]
    },
    {
     "data": {
      "text/plain": [
       "GridSearchCV(cv=KFold(n_splits=3, random_state=None, shuffle=False),\n",
       "             error_score='raise-deprecating',\n",
       "             estimator=XGBRegressor(base_score=0.5, booster='gbtree',\n",
       "                                    colsample_bylevel=1, colsample_bynode=1,\n",
       "                                    colsample_bytree=0.8, gamma=0,\n",
       "                                    importance_type='gain', learning_rate=0.1,\n",
       "                                    max_delta_step=0, max_depth=4,\n",
       "                                    min_child_weight=1, missing=None,\n",
       "                                    n_estimators=100, n_jobs=-1, nthread=None,\n",
       "                                    objective='reg:linear', random_state=42,\n",
       "                                    reg_alpha=0, reg_lambda=1,\n",
       "                                    scale_pos_weight=1, seed=None, silent=None,\n",
       "                                    subsample=0.8, verbosity=1),\n",
       "             iid='warn', n_jobs=-1,\n",
       "             param_grid={'max_depth': [4, 5, 6, 7, 8],\n",
       "                         'min_child_weight': [2, 5, 7, 10]},\n",
       "             pre_dispatch='2*n_jobs', refit=True, return_train_score=False,\n",
       "             scoring='neg_mean_squared_error', verbose=0)"
      ]
     },
     "execution_count": 127,
     "metadata": {},
     "output_type": "execute_result"
    }
   ],
   "source": [
    "params = {\n",
    "    'max_depth' : [4, 5, 6, 7, 8],\n",
    "    'min_child_weight' : [2, 5, 7, 10]\n",
    "}\n",
    "\n",
    "grid = GridSearchCV(xgb.XGBRegressor(\n",
    "    n_estimators=100, max_depth=4, learning_rate=0.1, subsample=0.8, colsample_bytree=0.8, \n",
    "    n_jobs=-1, random_state=42\n",
    "), params, scoring='neg_mean_squared_error', cv=KFold(n_splits=3), n_jobs=-1)\n",
    "\n",
    "grid.fit(X_train.values, y_train.values)"
   ]
  },
  {
   "cell_type": "code",
   "execution_count": 128,
   "metadata": {},
   "outputs": [
    {
     "data": {
      "text/plain": [
       "({'max_depth': 6, 'min_child_weight': 7}, -453119.5539088681)"
      ]
     },
     "execution_count": 128,
     "metadata": {},
     "output_type": "execute_result"
    }
   ],
   "source": [
    "grid.best_params_, grid.best_score_"
   ]
  },
  {
   "cell_type": "code",
   "execution_count": 133,
   "metadata": {},
   "outputs": [
    {
     "name": "stdout",
     "output_type": "stream",
     "text": [
      "[13:37:07] WARNING: src/objective/regression_obj.cu:152: reg:linear is now deprecated in favor of reg:squarederror.\n"
     ]
    },
    {
     "data": {
      "text/plain": [
       "GridSearchCV(cv=KFold(n_splits=3, random_state=None, shuffle=False),\n",
       "             error_score='raise-deprecating',\n",
       "             estimator=XGBRegressor(base_score=0.5, booster='gbtree',\n",
       "                                    colsample_bylevel=1, colsample_bynode=1,\n",
       "                                    colsample_bytree=0.8, gamma=0,\n",
       "                                    importance_type='gain', learning_rate=0.1,\n",
       "                                    max_delta_step=0, max_depth=6,\n",
       "                                    min_child_weight=7, missing=None,\n",
       "                                    n_estimators=100, n_jobs=-1, nthread=None,\n",
       "                                    objective='reg:linear', random_state=42,\n",
       "                                    reg_alpha=0, reg_lambda=1,\n",
       "                                    scale_pos_weight=1, seed=None, silent=None,\n",
       "                                    subsample=0.8, verbosity=1),\n",
       "             iid='warn', n_jobs=-1,\n",
       "             param_grid={'colsample_bytree': [0.6, 0.7, 0.8, 0.9],\n",
       "                         'subsample': [0.6, 0.7, 0.8, 0.9]},\n",
       "             pre_dispatch='2*n_jobs', refit=True, return_train_score=False,\n",
       "             scoring='neg_mean_squared_error', verbose=0)"
      ]
     },
     "execution_count": 133,
     "metadata": {},
     "output_type": "execute_result"
    }
   ],
   "source": [
    "params = {\n",
    "    'subsample' : [0.6, 0.7, 0.8, 0.9],\n",
    "    'colsample_bytree' : [0.6, 0.7, 0.8, 0.9]\n",
    "}\n",
    "\n",
    "grid = GridSearchCV(xgb.XGBRegressor(\n",
    "    n_estimators=100, max_depth=6, min_child_weight=7, learning_rate=0.1, \n",
    "    subsample=0.8, colsample_bytree=0.8, \n",
    "    n_jobs=-1, random_state=42\n",
    "), params, scoring='neg_mean_squared_error', cv=KFold(n_splits=3), n_jobs=-1)\n",
    "\n",
    "grid.fit(X_train.values, y_train.values)"
   ]
  },
  {
   "cell_type": "code",
   "execution_count": 134,
   "metadata": {},
   "outputs": [
    {
     "data": {
      "text/plain": [
       "({'colsample_bytree': 0.9, 'subsample': 0.9}, -450217.6670876967)"
      ]
     },
     "execution_count": 134,
     "metadata": {},
     "output_type": "execute_result"
    }
   ],
   "source": [
    "grid.best_params_, grid.best_score_"
   ]
  },
  {
   "cell_type": "code",
   "execution_count": 101,
   "metadata": {},
   "outputs": [
    {
     "name": "stdout",
     "output_type": "stream",
     "text": [
      "[16:58:56] WARNING: src/objective/regression_obj.cu:152: reg:linear is now deprecated in favor of reg:squarederror.\n"
     ]
    },
    {
     "data": {
      "text/plain": [
       "GridSearchCV(cv=KFold(n_splits=3, random_state=None, shuffle=False),\n",
       "             error_score='raise-deprecating',\n",
       "             estimator=XGBRegressor(base_score=0.5, booster='gbtree',\n",
       "                                    colsample_bylevel=1, colsample_bynode=1,\n",
       "                                    colsample_bytree=0.9, gamma=0,\n",
       "                                    importance_type='gain', learning_rate=0.1,\n",
       "                                    max_delta_step=0, max_depth=6,\n",
       "                                    min_child_weight=7, missing=None,\n",
       "                                    n_estimators=100, n_jobs=-1,...ead=None,\n",
       "                                    objective='reg:linear', random_state=42,\n",
       "                                    reg_alpha=0, reg_lambda=1,\n",
       "                                    scale_pos_weight=1, seed=None, silent=None,\n",
       "                                    subsample=0.9, verbosity=1),\n",
       "             iid='warn', n_jobs=-1,\n",
       "             param_grid={'reg_alpha': [0, 0.05, 0.075, 0.1, 0.15, 0.3, 0.5],\n",
       "                         'reg_lambda': [0, 0.25, 0.5, 1]},\n",
       "             pre_dispatch='2*n_jobs', refit=True, return_train_score=False,\n",
       "             scoring='neg_mean_squared_error', verbose=0)"
      ]
     },
     "execution_count": 101,
     "metadata": {},
     "output_type": "execute_result"
    }
   ],
   "source": [
    "params = {\n",
    "    'reg_alpha' : [0, 0.05, 0.075, 0.1, 0.15, 0.3, 0.5],\n",
    "    'reg_lambda' : [0, 0.25, 0.5, 1]\n",
    "}\n",
    "\n",
    "grid = GridSearchCV(xgb.XGBRegressor(\n",
    "    n_estimators=100, max_depth=6, min_child_weight=7, learning_rate=0.1, \n",
    "    subsample=0.9, colsample_bytree=0.9, \n",
    "    n_jobs=-1, random_state=42\n",
    "), params, scoring='neg_mean_squared_error', cv=KFold(n_splits=3), n_jobs=-1)\n",
    "\n",
    "grid.fit(X_train.values, y_train.values)"
   ]
  },
  {
   "cell_type": "code",
   "execution_count": 102,
   "metadata": {},
   "outputs": [
    {
     "data": {
      "text/plain": [
       "({'reg_alpha': 0, 'reg_lambda': 1}, -450217.6670876967)"
      ]
     },
     "execution_count": 102,
     "metadata": {},
     "output_type": "execute_result"
    }
   ],
   "source": [
    "grid.best_params_, grid.best_score_"
   ]
  },
  {
   "cell_type": "code",
   "execution_count": null,
   "metadata": {},
   "outputs": [],
   "source": []
  },
  {
   "cell_type": "code",
   "execution_count": null,
   "metadata": {},
   "outputs": [],
   "source": []
  },
  {
   "cell_type": "code",
   "execution_count": 103,
   "metadata": {},
   "outputs": [],
   "source": [
    "xgbm = xgb.XGBRegressor(\n",
    "    n_estimators=250, max_depth=6, min_child_weight=7, learning_rate=0.08, \n",
    "    subsample=0.9, colsample_bytree=0.9, reg_alpha=0, reg_lambda=1,\n",
    "    n_jobs=-1, random_state=42\n",
    ")"
   ]
  },
  {
   "cell_type": "code",
   "execution_count": 104,
   "metadata": {},
   "outputs": [
    {
     "name": "stderr",
     "output_type": "stream",
     "text": [
      "C:\\Users\\USER\\AppData\\Local\\Continuum\\anaconda3\\lib\\site-packages\\xgboost\\core.py:587: FutureWarning: Series.base is deprecated and will be removed in a future version\n",
      "  if getattr(data, 'base', None) is not None and \\\n"
     ]
    },
    {
     "name": "stdout",
     "output_type": "stream",
     "text": [
      "[16:59:50] WARNING: src/objective/regression_obj.cu:152: reg:linear is now deprecated in favor of reg:squarederror.\n"
     ]
    },
    {
     "name": "stderr",
     "output_type": "stream",
     "text": [
      "C:\\Users\\USER\\AppData\\Local\\Continuum\\anaconda3\\lib\\site-packages\\xgboost\\core.py:587: FutureWarning: Series.base is deprecated and will be removed in a future version\n",
      "  if getattr(data, 'base', None) is not None and \\\n"
     ]
    },
    {
     "name": "stdout",
     "output_type": "stream",
     "text": [
      "[17:00:07] WARNING: src/objective/regression_obj.cu:152: reg:linear is now deprecated in favor of reg:squarederror.\n"
     ]
    },
    {
     "name": "stderr",
     "output_type": "stream",
     "text": [
      "C:\\Users\\USER\\AppData\\Local\\Continuum\\anaconda3\\lib\\site-packages\\xgboost\\core.py:587: FutureWarning: Series.base is deprecated and will be removed in a future version\n",
      "  if getattr(data, 'base', None) is not None and \\\n"
     ]
    },
    {
     "name": "stdout",
     "output_type": "stream",
     "text": [
      "[17:00:22] WARNING: src/objective/regression_obj.cu:152: reg:linear is now deprecated in favor of reg:squarederror.\n"
     ]
    },
    {
     "name": "stderr",
     "output_type": "stream",
     "text": [
      "C:\\Users\\USER\\AppData\\Local\\Continuum\\anaconda3\\lib\\site-packages\\xgboost\\core.py:587: FutureWarning: Series.base is deprecated and will be removed in a future version\n",
      "  if getattr(data, 'base', None) is not None and \\\n"
     ]
    },
    {
     "name": "stdout",
     "output_type": "stream",
     "text": [
      "[17:00:38] WARNING: src/objective/regression_obj.cu:152: reg:linear is now deprecated in favor of reg:squarederror.\n"
     ]
    },
    {
     "name": "stderr",
     "output_type": "stream",
     "text": [
      "C:\\Users\\USER\\AppData\\Local\\Continuum\\anaconda3\\lib\\site-packages\\xgboost\\core.py:587: FutureWarning: Series.base is deprecated and will be removed in a future version\n",
      "  if getattr(data, 'base', None) is not None and \\\n"
     ]
    },
    {
     "name": "stdout",
     "output_type": "stream",
     "text": [
      "[17:00:53] WARNING: src/objective/regression_obj.cu:152: reg:linear is now deprecated in favor of reg:squarederror.\n"
     ]
    },
    {
     "data": {
      "text/plain": [
       "647.2873116424021"
      ]
     },
     "execution_count": 104,
     "metadata": {},
     "output_type": "execute_result"
    }
   ],
   "source": [
    "math.sqrt(-cross_val_score(xgbm, X_train, y_train, scoring='neg_mean_squared_error', cv=KFold(n_splits=5), verbose=0).mean())"
   ]
  },
  {
   "cell_type": "code",
   "execution_count": 108,
   "metadata": {},
   "outputs": [],
   "source": [
    "xgbm = xgb.XGBRegressor(\n",
    "    n_estimators=3500, max_depth=6, min_child_weight=7, learning_rate=0.05, \n",
    "    subsample=0.9, colsample_bytree=0.9, reg_alpha=0, reg_lambda=1,\n",
    "    n_jobs=-1, random_state=42\n",
    ")"
   ]
  },
  {
   "cell_type": "code",
   "execution_count": 109,
   "metadata": {},
   "outputs": [
    {
     "name": "stdout",
     "output_type": "stream",
     "text": [
      "[17:09:37] WARNING: src/objective/regression_obj.cu:152: reg:linear is now deprecated in favor of reg:squarederror.\n"
     ]
    },
    {
     "data": {
      "text/plain": [
       "XGBRegressor(base_score=0.5, booster='gbtree', colsample_bylevel=1,\n",
       "             colsample_bynode=1, colsample_bytree=0.9, gamma=0,\n",
       "             importance_type='gain', learning_rate=0.05, max_delta_step=0,\n",
       "             max_depth=6, min_child_weight=7, missing=None, n_estimators=3500,\n",
       "             n_jobs=-1, nthread=None, objective='reg:linear', random_state=42,\n",
       "             reg_alpha=0, reg_lambda=1, scale_pos_weight=1, seed=None,\n",
       "             silent=None, subsample=0.9, verbosity=1)"
      ]
     },
     "execution_count": 109,
     "metadata": {},
     "output_type": "execute_result"
    }
   ],
   "source": [
    "xgbm.fit(X, y)"
   ]
  },
  {
   "cell_type": "code",
   "execution_count": 110,
   "metadata": {},
   "outputs": [],
   "source": [
    "pred = xgbm.predict(test_data)\n",
    "\n",
    "sub = pd.DataFrame({'Order No' : orderNo, 'Time from Pickup to Arrival' : pred})\n",
    "sub.to_csv('xgbm.csv', index=False)"
   ]
  },
  {
   "cell_type": "code",
   "execution_count": 112,
   "metadata": {},
   "outputs": [
    {
     "data": {
      "text/plain": [
       "<matplotlib.axes._subplots.AxesSubplot at 0x26523313d68>"
      ]
     },
     "execution_count": 112,
     "metadata": {},
     "output_type": "execute_result"
    },
    {
     "data": {
      "text/plain": [
       "<Figure size 1008x576 with 0 Axes>"
      ]
     },
     "metadata": {},
     "output_type": "display_data"
    },
    {
     "data": {
      "image/png": "[encoded data removed]",
      "text/plain": [
       "<Figure size 432x288 with 1 Axes>"
      ]
     },
     "metadata": {
      "needs_background": "light"
     },
     "output_type": "display_data"
    }
   ],
   "source": [
    "plt.figure(figsize=(14, 8))\n",
    "xgb.plot_importance(xgbm, max_num_features=15)"
   ]
  },
  {
   "cell_type": "code",
   "execution_count": 113,
   "metadata": {},
   "outputs": [
    {
     "data": {
      "text/plain": [
       "0         745\n",
       "1        1993\n",
       "2         455\n",
       "3        1341\n",
       "4        1214\n",
       "5        3191\n",
       "6        1380\n",
       "7         646\n",
       "8        3398\n",
       "9        3439\n",
       "10       1056\n",
       "11       3898\n",
       "12       2642\n",
       "13       2904\n",
       "14        407\n",
       "15       1906\n",
       "16       2308\n",
       "17       2639\n",
       "18       1570\n",
       "19       4220\n",
       "20       1112\n",
       "21       2124\n",
       "22       1488\n",
       "23       1404\n",
       "24       3617\n",
       "25       2606\n",
       "26       1149\n",
       "27       1731\n",
       "28       3241\n",
       "29        713\n",
       "         ... \n",
       "20077    3141\n",
       "20078    1091\n",
       "20079    1739\n",
       "20080    1136\n",
       "20081    1081\n",
       "20082     593\n",
       "20083    3118\n",
       "20084    1390\n",
       "20085    1173\n",
       "20086    1004\n",
       "20087    1841\n",
       "20088    1183\n",
       "20089     666\n",
       "20090    3196\n",
       "20091     877\n",
       "20092     701\n",
       "20093     970\n",
       "20094    1235\n",
       "20095    1715\n",
       "20096    1368\n",
       "20097    2364\n",
       "20098    2807\n",
       "20099     971\n",
       "20100    1771\n",
       "20101    2298\n",
       "20102    2325\n",
       "20103     770\n",
       "20104    2953\n",
       "20105    1380\n",
       "20106    2128\n",
       "Name: Time from Pickup to Arrival, Length: 20107, dtype: int64"
      ]
     },
     "execution_count": 113,
     "metadata": {},
     "output_type": "execute_result"
    }
   ],
   "source": [
    "y"
   ]
  },
  {
   "cell_type": "code",
   "execution_count": null,
   "metadata": {},
   "outputs": [],
   "source": []
  }
 ],
 "metadata": {
  "kernelspec": {
   "display_name": "Python 3",
   "language": "python",
   "name": "python3"
  },
  "language_info": {
   "codemirror_mode": {
    "name": "ipython",
    "version": 3
   },
   "file_extension": ".py",
   "mimetype": "text/x-python",
   "name": "python",
   "nbconvert_exporter": "python",
   "pygments_lexer": "ipython3",
   "version": "3.7.4"
  }
 },
 "nbformat": 4,
 "nbformat_minor": 2
}
